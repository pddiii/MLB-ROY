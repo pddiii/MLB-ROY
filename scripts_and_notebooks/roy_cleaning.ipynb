{
 "cells": [
  {
   "cell_type": "markdown",
   "id": "241ba5fb-0baf-4c02-9dc8-2fb5de4d2e07",
   "metadata": {},
   "source": [
    "# Package Imports"
   ]
  },
  {
   "cell_type": "code",
   "execution_count": 1,
   "id": "a17b0240-96e7-4db6-9263-440da39d98fa",
   "metadata": {},
   "outputs": [],
   "source": [
    "import pandas as pd\n",
    "import numpy as np\n",
    "import cmd\n",
    "import time\n",
    "\n",
    "start_time = time.time()\n",
    "cli = cmd.Cmd()"
   ]
  },
  {
   "cell_type": "markdown",
   "id": "4ceec11c-6dee-4520-af22-b14a44b963d9",
   "metadata": {},
   "source": [
    "# Helper Functions"
   ]
  },
  {
   "cell_type": "code",
   "execution_count": 2,
   "id": "1f091c2c-5df7-4acf-8322-1bc306b14507",
   "metadata": {},
   "outputs": [],
   "source": [
    "## create a function which will assign a decade for each season\n",
    "## goal of this is to represent voting patterns across different eras\n",
    "def assign_decade(df, season_col='Season'):\n",
    "    df['decade'] = ( (df[season_col] // 10) * 10).astype(str) + 's'\n",
    "    return df"
   ]
  },
  {
   "cell_type": "markdown",
   "id": "2de121d9-5678-415f-b94d-2350d2767aee",
   "metadata": {},
   "source": [
    "# Rookie Pitchers"
   ]
  },
  {
   "cell_type": "code",
   "execution_count": 3,
   "id": "8295e760-7a53-4a5c-8244-74414c9e44a9",
   "metadata": {},
   "outputs": [
    {
     "name": "stdout",
     "output_type": "stream",
     "text": [
      "Columns for Relief Pitchers: \n",
      "\n",
      "Season  SO    E-F    K%+     Clutch  WAR    \n",
      "Name    ERA   K/BB+  BB%+    SV      MLBAMID\n",
      "Team    ERA-  HR/9+  K-BB%   BS    \n",
      "G       FIP   AVG+   WPA     SD    \n",
      "IP      FIP-  WHIP+  WPA/LI  MD    \n",
      "None\n"
     ]
    }
   ],
   "source": [
    "### Relief Pitchers have at least 40 IP\n",
    "\n",
    "relief = pd.read_csv('../data/rookies/fg_relief.csv')\n",
    "relief.drop(columns=['NameASCII', 'PlayerId'], inplace=True)\n",
    "relief = relief[~(relief['Season'].isin( [1994, 2020] ))] # exclude 1994 and 2020 shortened seasons\n",
    "\n",
    "relief_columns = relief.columns.tolist()\n",
    "print(f\"Columns for Relief Pitchers: \\n\")\n",
    "print(cli.columnize(relief_columns, displaywidth=50))"
   ]
  },
  {
   "cell_type": "code",
   "execution_count": 4,
   "id": "4c3f8f92-474e-479f-b808-7375a1f00fd3",
   "metadata": {},
   "outputs": [],
   "source": [
    "relief['BS'] = relief['BS'].fillna(0) # fill in blown saves with 0 (might not have existed yet)\n",
    "\n",
    "# Add decade columns for pitchers\n",
    "relief = assign_decade(relief)\n",
    "\n",
    "## Add a 'WAR/IP' for a secondary representation of WAR\n",
    "## This can be better for comparing people's true WAR impact across relievers and starters\n",
    "relief['WAR/IP'] = relief['WAR'] / relief['IP']\n",
    "\n",
    "## Add 'IP/G' to help distinguish between relief pitchers and closing pitchers.\n",
    "relief['IP/G'] = relief['IP'] / relief['G']\n",
    "\n",
    "## Add 'SD_pct' to evaluate how much more frequently they are throwing a Shutdown\n",
    "## Shutdown (SD) = Relief Appearance with cumulative WPA > 0.6 (good)\n",
    "## Meltdown (MD) = Relief Appearance with cumulative WPA < -0.6 (bad)\n",
    "relief['SD_pct'] = relief['SD'] / (relief['SD'] + relief['MD'])\n",
    "\n",
    "relief['pos'] = 'relief' # create the relief pitcher designation\n",
    "\n",
    "## Closer conditions\n",
    "cond1 = ( ( (relief['SV'] + relief['BS']) / relief['G'] ) >= 0.4)\n",
    "cond2 = (relief['IP/G'] <= 1.25)\n",
    "\n",
    "# Distinguish between a relief pitcher, and a closer (yes, they are different)\n",
    "relief.loc[cond1 & cond2 , 'pos'] = 'closer' "
   ]
  },
  {
   "cell_type": "code",
   "execution_count": 5,
   "id": "36c77bc4-42a5-47bc-a1c9-273a5e091598",
   "metadata": {},
   "outputs": [
    {
     "name": "stdout",
     "output_type": "stream",
     "text": [
      "Columns for Starting Pitchers:\n",
      "Season  G    IP    FIP-   WHIP+  WPA/LI \n",
      "Name    GS   SO    E-F    K%+    Clutch \n",
      "Team    CG   ERA   K/BB+  BB%+   WAR    \n",
      "W       ShO  ERA-  HR/9+  K-BB%  MLBAMID\n",
      "L       QS   FIP   AVG+   WPA  \n",
      "None\n"
     ]
    }
   ],
   "source": [
    "### Starting Pitchers have at least 100 IP\n",
    "starter = pd.read_csv('../data/rookies/fg_starter.csv')\n",
    "starter.drop(columns=['NameASCII', 'PlayerId'], inplace=True)\n",
    "starter = starter[~(starter['Season'].isin( [1994, 2020] ))]\n",
    "\n",
    "starter_columns = starter.columns.tolist()\n",
    "print(f\"Columns for Starting Pitchers:\")\n",
    "print(cli.columnize(starter_columns, displaywidth=50))"
   ]
  },
  {
   "cell_type": "code",
   "execution_count": 6,
   "id": "540f9c79-3110-432c-88dd-a7e78aa7eaac",
   "metadata": {},
   "outputs": [],
   "source": [
    "starter = assign_decade(starter)\n",
    "\n",
    "starter['WAR/IP'] = starter['WAR'] / starter['IP']\n",
    "\n",
    "starter['pos'] = 'starter' # create the starting pitcher designation"
   ]
  },
  {
   "cell_type": "markdown",
   "id": "12898b53-6b3e-49d1-964e-bfe38b2e781e",
   "metadata": {},
   "source": [
    "## Checking for Missing Values\n",
    "\n",
    "The missing data in both the pitcher data is represented by a `NaN` values. These values are meaningful in this context for the statistics missing data: `BS`, `QS`, `Barrel%`, and `HardHit%`. This is because these statistics are newer and the data simply does not exist."
   ]
  },
  {
   "cell_type": "code",
   "execution_count": 7,
   "id": "eb8f5640-1b11-4434-9894-4cb205ced0af",
   "metadata": {
    "scrolled": true
   },
   "outputs": [
    {
     "name": "stdout",
     "output_type": "stream",
     "text": [
      "Missing Values in Relief Pitchers Data\n",
      "Season     0\n",
      "Name       0\n",
      "Team       0\n",
      "G          0\n",
      "IP         0\n",
      "SO         0\n",
      "ERA        0\n",
      "ERA-       0\n",
      "FIP        0\n",
      "FIP-       0\n",
      "E-F        0\n",
      "K/BB+      0\n",
      "HR/9+      0\n",
      "AVG+       0\n",
      "WHIP+      0\n",
      "K%+        0\n",
      "BB%+       0\n",
      "K-BB%      0\n",
      "WPA        0\n",
      "WPA/LI     0\n",
      "Clutch     0\n",
      "SV         0\n",
      "BS         0\n",
      "SD         0\n",
      "MD         0\n",
      "WAR        0\n",
      "MLBAMID    0\n",
      "decade     0\n",
      "WAR/IP     0\n",
      "IP/G       0\n",
      "SD_pct     0\n",
      "pos        0\n",
      "dtype: int64\n"
     ]
    }
   ],
   "source": [
    "print(\"Missing Values in Relief Pitchers Data\")\n",
    "print(relief.isna().sum())"
   ]
  },
  {
   "cell_type": "code",
   "execution_count": 8,
   "id": "3a358415-2cca-40f2-ac48-32abaf916fe6",
   "metadata": {
    "scrolled": true
   },
   "outputs": [
    {
     "name": "stdout",
     "output_type": "stream",
     "text": [
      "Missing Values in Starter Pitchers Data\n",
      "Season     0\n",
      "Name       0\n",
      "Team       0\n",
      "W          0\n",
      "L          0\n",
      "G          0\n",
      "GS         0\n",
      "CG         0\n",
      "ShO        0\n",
      "QS         0\n",
      "IP         0\n",
      "SO         0\n",
      "ERA        0\n",
      "ERA-       0\n",
      "FIP        0\n",
      "FIP-       0\n",
      "E-F        0\n",
      "K/BB+      0\n",
      "HR/9+      0\n",
      "AVG+       0\n",
      "WHIP+      0\n",
      "K%+        0\n",
      "BB%+       0\n",
      "K-BB%      0\n",
      "WPA        0\n",
      "WPA/LI     0\n",
      "Clutch     0\n",
      "WAR        0\n",
      "MLBAMID    0\n",
      "decade     0\n",
      "WAR/IP     0\n",
      "pos        0\n",
      "dtype: int64\n"
     ]
    }
   ],
   "source": [
    "print(\"Missing Values in Starter Pitchers Data\")\n",
    "print(starter.isna().sum())"
   ]
  },
  {
   "cell_type": "code",
   "execution_count": 9,
   "id": "51c84901-e4de-4eb8-ae74-d615ed16e1b1",
   "metadata": {},
   "outputs": [
    {
     "name": "stdout",
     "output_type": "stream",
     "text": [
      "The unique teams in the Dataframe are: \n",
      "\n",
      "Number of Teams = 36 \n",
      "\n",
      "['TOR' 'LAD' 'NYY' 'BOS' 'ATL' 'SEA' 'MIN' 'STL' 'CLE' 'MIL' 'CAL' 'OAK'\n",
      " 'HOU' 'MIA' 'KCR' 'CIN' '- - -' 'SDP' 'TEX' 'BAL' 'DET' 'CHC' 'PHI' 'PIT'\n",
      " 'CHW' 'SFG' 'LAA' 'NYM' 'ANA' 'TBR' 'FLA' 'MON' 'ARI' 'COL' 'WSN' 'TBD']\n"
     ]
    }
   ],
   "source": [
    "print(\"The unique teams in the Dataframe are: \\n\")\n",
    "print(f\"Number of Teams = {len(relief['Team'].unique())} \\n\")\n",
    "print(relief['Team'].unique()) # Find the unique team occurrences"
   ]
  },
  {
   "cell_type": "markdown",
   "id": "29186e23-0535-4ff0-a293-3cc38e567107",
   "metadata": {},
   "source": [
    "### Table of Teams (by League)\n",
    "\n",
    "| NL Abbreviation | NL Team Name            | AL Abbreviation | AL Team Name            |\n",
    "|-----------------|-------------------------|-----------------|-------------------------|\n",
    "| ARI             | Arizona Diamondbacks     | BAL             | Baltimore Orioles       |\n",
    "| ATL             | Atlanta Braves           | BOS             | Boston Red Sox          |\n",
    "| CHC             | Chicago Cubs             | CHW             | Chicago White Sox       |\n",
    "| CIN             | Cincinnati Reds          | CLE             | Cleveland Guardians     |\n",
    "| COL             | Colorado Rockies         | DET             | Detroit Tigers          |\n",
    "| LAD             | Los Angeles Dodgers      | HOU             | Houston Astros          |\n",
    "| MIA             | Miami Marlins            | KCR             | Kansas City Royals      |\n",
    "| MIL             | Milwaukee Brewers        | LAA             | Los Angeles Angels      |\n",
    "| NYM             | New York Mets            | MIN             | Minnesota Twins         |\n",
    "| PHI             | Philadelphia Phillies    | NYY             | New York Yankees        |\n",
    "| PIT             | Pittsburgh Pirates       | OAK             | Oakland Athletics       |\n",
    "| SDP             | San Diego Padres         | SEA             | Seattle Mariners        |\n",
    "| SFG             | San Francisco Giants     | TBR             | Tampa Bay Rays          |\n",
    "| STL             | St. Louis Cardinals      | TEX             | Texas Rangers           |\n",
    "| WSN             | Washington Nationals     | TOR             | Toronto Blue Jays       |\n"
   ]
  },
  {
   "cell_type": "code",
   "execution_count": 10,
   "id": "94582738-fc84-4b28-a2ab-946b7db55d61",
   "metadata": {},
   "outputs": [],
   "source": [
    "# Dictionary for mapping old abbreviations to current ones\n",
    "team_map = {\n",
    "    'CAL': 'LAA',  # California Angels to Los Angeles Angels\n",
    "    'ANA': 'LAA',  # Anaheim Angels to Los Angeles Angels\n",
    "    'FLA': 'MIA',  # Florida Marlins to Miami Marlins\n",
    "    'MON': 'WSN',  # Montreal Expos to Washington Nationals\n",
    "    'TBD': 'TBR'   # Tampa Bay Devil Rays to Tampa Bay Rays\n",
    "}\n",
    "\n",
    "# Replace the 'Team' column with updated abbreviations using .replace()\n",
    "relief['Team'] = relief['Team'].replace(team_map)\n",
    "starter['Team'] = starter['Team'].replace(team_map)"
   ]
  },
  {
   "cell_type": "code",
   "execution_count": 11,
   "id": "16dfa880-df65-4064-b60e-6178d1145e95",
   "metadata": {},
   "outputs": [],
   "source": [
    "# National League\n",
    "nl_teams = ['LAD', 'SDP', 'CIN', 'SFG', 'ATL',\n",
    "            'NYM', 'MIA', 'MIL', 'CHC', 'STL',\n",
    "            'COL', 'PIT', 'ARI', 'PHI', 'WSN']\n",
    "# American League\n",
    "al_teams = ['OAK', 'HOU', 'LAA', 'SEA', 'CLE',\n",
    "            'BAL', 'NYY', 'BOS', 'KCR', 'MIN',\n",
    "            'TOR', 'TEX', 'CHW', 'TBR', 'DET']\n",
    "\n",
    "# add league for the Relievers\n",
    "relief.loc[relief['Team'].isin(nl_teams), 'league'] = 'NL'\n",
    "relief.loc[relief['Team'].isin(al_teams), 'league'] = 'AL'\n",
    "# add league for the Starters\n",
    "starter.loc[starter['Team'].isin(nl_teams), 'league'] = 'NL'\n",
    "starter.loc[starter['Team'].isin(al_teams), 'league'] = 'AL'"
   ]
  },
  {
   "cell_type": "code",
   "execution_count": 12,
   "id": "124dd8d6-afbd-4f03-b7d0-10b7111c8209",
   "metadata": {},
   "outputs": [
    {
     "name": "stdout",
     "output_type": "stream",
     "text": [
      "There are 484 Starting Pitchers in the data\n",
      "There are 762 Relief Pitchers in the data\n"
     ]
    }
   ],
   "source": [
    "print(f\"There are {starter.shape[0]} Starting Pitchers in the data\")\n",
    "print(f\"There are {relief.shape[0]} Relief Pitchers in the data\")"
   ]
  },
  {
   "cell_type": "markdown",
   "id": "b4466153-8eb6-4d17-8277-d5f2864fc7a1",
   "metadata": {},
   "source": [
    "## Rookie of the Year"
   ]
  },
  {
   "cell_type": "code",
   "execution_count": 13,
   "id": "67955b29-4588-43ef-a27a-41842b3d51bf",
   "metadata": {},
   "outputs": [
    {
     "name": "stdout",
     "output_type": "stream",
     "text": [
      "Columns for Rookie of the Year data:\n",
      "['award_id', 'season', 'rookie_of_the_year']\n",
      "\n",
      "\n"
     ]
    }
   ],
   "source": [
    "## Load Rookie of the Year data\n",
    "roy = pd.read_csv('../data/awards/roy_awards.csv')\n",
    "roy.rename(columns={'player_id' : 'rookie_of_the_year'}, inplace=True) # rename the column for merging\n",
    "\n",
    "print(f\"Columns for Rookie of the Year data:\")\n",
    "print(roy.columns.tolist())\n",
    "print(\"\\n\")"
   ]
  },
  {
   "cell_type": "code",
   "execution_count": 14,
   "id": "e7625b87-b2f9-4e3e-9834-5fafcb391cb8",
   "metadata": {},
   "outputs": [],
   "source": [
    "## Merge the relief and starter data with the Rookie of the Year data\n",
    "relief = pd.merge(relief, roy,\n",
    "        left_on = 'Season', right_on = 'season',\n",
    "        how = 'left')\n",
    "\n",
    "relief.drop(columns='season', inplace=True) # unnecessary column\n",
    "\n",
    "# Rename the award_id values\n",
    "relief.loc[relief['award_id'] == 'ALROY', 'award_id'] = 'AL'\n",
    "relief.loc[relief['award_id'] == 'NLROY', 'award_id'] = 'NL'\n",
    "\n",
    "relief.dropna(subset='league', inplace=True)\n",
    "\n",
    "starter = pd.merge(starter, roy,\n",
    "        left_on = 'Season', right_on = 'season',\n",
    "        how = 'left')\n",
    "\n",
    "starter.drop(columns='season', inplace=True) # unnecessary column\n",
    "\n",
    "# Rename the award_id values\n",
    "starter.loc[starter['award_id'] == 'ALROY', 'award_id'] = 'AL'\n",
    "starter.loc[starter['award_id'] == 'NLROY', 'award_id'] = 'NL'\n",
    "\n",
    "starter.dropna(subset='league', inplace=True)"
   ]
  },
  {
   "cell_type": "code",
   "execution_count": 15,
   "id": "e4960c9b-7288-4b1a-a1a2-ad57288ef178",
   "metadata": {},
   "outputs": [],
   "source": [
    "## Separate the data for 2024 from the rest of the data\n",
    "## The 2024 data will be used to make predictions after the model creation process\n",
    "\n",
    "relief_24 = relief[relief['Season'] == 2024]\n",
    "starter_24 = starter[starter['Season'] == 2024]\n",
    "\n",
    "relief = relief[relief['Season'] != 2024]\n",
    "starter = starter[starter['Season'] != 2024]"
   ]
  },
  {
   "cell_type": "code",
   "execution_count": 16,
   "id": "1352a183-59f1-4094-aeba-6b8ce28227cd",
   "metadata": {
    "scrolled": true
   },
   "outputs": [
    {
     "name": "stdout",
     "output_type": "stream",
     "text": [
      "    Season               Name Team   G     IP   SO       ERA       ERA-  \\\n",
      "0     1986      Mark Eichhorn  TOR  69  157.0  166  1.719745  40.860984   \n",
      "3     2006      Takashi Saito  LAD  72   78.1  107  2.068086  46.986878   \n",
      "4     1985       Brian Fisher  NYY  55   98.1   85  2.379661  58.890406   \n",
      "6     2006  Jonathan Papelbon  BOS  59   68.1   75  0.921952  19.523037   \n",
      "8     2014    Dellin Betances  NYY  70   90.0  135  1.400000  36.423515   \n",
      "11    2011      Craig Kimbrel  ATL  79   77.0  127  2.103896  55.827688   \n",
      "13    1982    Steve Bedrosian  ATL  61  122.0  114  2.286885  60.687104   \n",
      "14    1977       Enrique Romo  SEA  55   98.2   92  3.010135  72.789408   \n",
      "16    1980       Doug Corbett  MIN  73  136.1   89  1.980440  47.446845   \n",
      "19    2016       Seunghwan Oh  STL  76   79.2  103  1.920503  47.095538   \n",
      "\n",
      "         FIP       FIP-  ...       WAR  MLBAMID  decade    WAR/IP      IP/G  \\\n",
      "0   2.312413  56.211928  ...  4.944612   113780   1980s  0.031494  2.275362   \n",
      "3   1.870152  41.140652  ...  3.144361   493416   2000s  0.040261  1.084722   \n",
      "4   2.369201  59.190743  ...  3.085539   114160   1980s  0.031453  1.783636   \n",
      "6   2.136991  48.966961  ...  3.078526   449097   2000s  0.045206  1.154237   \n",
      "8   1.643363  42.231888  ...  2.988748   476454   2010s  0.033208  1.285714   \n",
      "11  1.518893  39.838482  ...  2.830267   518886   2010s  0.036757  0.974684   \n",
      "13  2.601838  69.341648  ...  2.701533   110786   1980s  0.022144  2.000000   \n",
      "14  2.920475  67.583404  ...  2.589030   121427   1970s  0.026365  1.785455   \n",
      "16  3.060481  75.651540  ...  2.576811   112665   1980s  0.018933  1.864384   \n",
      "19  2.129824  52.614418  ...  2.570371   493200   2010s  0.032454  1.042105   \n",
      "\n",
      "      SD_pct     pos  league  award_id  rookie_of_the_year  \n",
      "0   0.761905  relief      AL        AL                   0  \n",
      "3   0.809524  relief      NL        NL                   0  \n",
      "4   0.783784  relief      AL        AL                   0  \n",
      "6   0.850000  closer      AL        AL                   0  \n",
      "8   0.833333  relief      AL        AL                   0  \n",
      "11  0.803922  closer      NL        NL                   1  \n",
      "13  0.711111  relief      NL        NL                   0  \n",
      "14  0.609756  relief      AL        AL                   0  \n",
      "16  0.833333  relief      AL        AL                   0  \n",
      "19  0.707317  relief      NL        NL                   0  \n",
      "\n",
      "[10 rows x 35 columns]\n",
      "\n",
      "\n",
      "    Season                 Name Team   W   L   G  GS  CG  ShO  QS  ...  \\\n",
      "1     1984        Dwight Gooden  NYM  17   9  31  31   7    3  21  ...   \n",
      "3     1975      John Montefusco  SFG  15   9  34  34  10    4  23  ...   \n",
      "5     1995           Hideo Nomo  LAD  13   6  28  28   4    3  18  ...   \n",
      "7     1981  Fernando Valenzuela  LAD  13   7  25  25  11    8  16  ...   \n",
      "8     2012           Yu Darvish  TEX  16   9  29  29   0    0  18  ...   \n",
      "11    1997          Matt Morris  STL  12   9  33  33   3    0  22  ...   \n",
      "12    1976         Mark Fidrych  DET  19   9  29  29  24    4  23  ...   \n",
      "15    1980          Britt Burns  CHW  14  13  32  32  11    1  21  ...   \n",
      "18    1998           Kerry Wood  CHC  13   6  26  26   1    1  18  ...   \n",
      "19    1992         Dave Fleming  SEA  17  10  33  33   7    4  22  ...   \n",
      "\n",
      "      WPA/LI    Clutch       WAR  MLBAMID  decade    WAR/IP      pos  league  \\\n",
      "1   4.197782 -0.139236  8.258535   114947   1980s  0.037883  starter      NL   \n",
      "3   1.940307  2.140701  5.958042   119261   1970s  0.024519  starter      NL   \n",
      "5   3.464275  0.019254  5.189612   119827   1990s  0.027157  starter      NL   \n",
      "7   2.565381  0.814307  4.876077   123619   1980s  0.025383  starter      NL   \n",
      "8   0.998129  0.348202  4.712035   506433   2010s  0.024657  starter      AL   \n",
      "11  1.366993  0.216771  4.648528   119403   1990s  0.021422  starter      NL   \n",
      "12  4.155771  0.074573  4.576262   114102   1970s  0.018371  starter      AL   \n",
      "15  2.193961  1.134963  4.496793   111757   1980s  0.019383  starter      AL   \n",
      "18  1.954259  0.365862  4.391986   134268   1990s  0.026426  starter      NL   \n",
      "19  2.202842  0.229160  4.365029   114226   1990s  0.019136  starter      AL   \n",
      "\n",
      "    award_id  rookie_of_the_year  \n",
      "1         NL                   1  \n",
      "3         NL                   1  \n",
      "5         NL                   1  \n",
      "7         NL                   1  \n",
      "8         AL                   0  \n",
      "11        NL                   0  \n",
      "12        AL                   1  \n",
      "15        AL                   0  \n",
      "18        NL                   1  \n",
      "19        AL                   0  \n",
      "\n",
      "[10 rows x 35 columns]\n"
     ]
    }
   ],
   "source": [
    "relief = relief[relief['league'] == relief['award_id']]\n",
    "starter = starter[starter['league'] == starter['award_id']]\n",
    "\n",
    "## Create an indicator column for those who have won rookie of the year\n",
    "\n",
    "relief['rookie_of_the_year'] = np.where(relief['rookie_of_the_year'] == relief['MLBAMID'], 1, 0)\n",
    "starter['rookie_of_the_year'] = np.where(starter['rookie_of_the_year'] == starter['MLBAMID'], 1, 0)\n",
    "\n",
    "print(relief.head(10))\n",
    "print(\"\\n\")\n",
    "print(starter.head(10))"
   ]
  },
  {
   "cell_type": "markdown",
   "id": "c41aa4a6-5773-4703-800c-a376dbe1d66b",
   "metadata": {},
   "source": [
    "## Create Rank Columns\n",
    "\n",
    "In order to accurately compare players across positions with differing statistical comparisons, as there are with both pitchers and batters I'm deciding to summarize their respective skill across various categories by ranking them using the following:\n",
    "\n",
    "- `mean_rookie_rank`: The mean rank of all the categories ranked\n",
    "- `rookie_rank`: The overall rank amongst all rookies (The ranking of `mean_rookie_rank`)\n",
    "- `mean_mlb_rank`: The mean rank of all the categories ranked (for all MLB players)\n",
    "- `mlb_rank`: The overall rank amongst all MLB Players (The ranking of `mean_mlb_rank`)"
   ]
  },
  {
   "cell_type": "code",
   "execution_count": 17,
   "id": "a50a5b47-d3e1-42f5-ae42-36e370fb7a7e",
   "metadata": {},
   "outputs": [
    {
     "name": "stdout",
     "output_type": "stream",
     "text": [
      "Season  ERA-   WHIP+   SV       WAR/IP            \n",
      "Name    FIP    K%+     BS       IP/G              \n",
      "Team    FIP-   BB%+    SD       SD_pct            \n",
      "G       E-F    K-BB%   MD       pos               \n",
      "IP      K/BB+  WPA     WAR      league            \n",
      "SO      HR/9+  WPA/LI  MLBAMID  award_id          \n",
      "ERA     AVG+   Clutch  decade   rookie_of_the_year\n"
     ]
    }
   ],
   "source": [
    "cli.columnize(relief.columns.tolist(), displaywidth=50)"
   ]
  },
  {
   "cell_type": "code",
   "execution_count": 18,
   "id": "20ebd211-d4cf-474f-8a7d-5921d0ddc6f7",
   "metadata": {},
   "outputs": [],
   "source": [
    "## Lower value indicates better performance\n",
    "low_cols = ['ERA-', 'FIP-', 'HR/9+', 'WHIP+', \n",
    "            'AVG+', 'BB%+', 'MD']\n",
    "\n",
    "## higher value indicates better performance\n",
    "high_cols = ['WAR', 'WAR/IP', 'IP', 'K%+', 'WPA', \n",
    "             'WPA/LI', 'K/BB+', 'K-BB%',\n",
    "             'SD', 'SD_pct', 'Clutch']"
   ]
  },
  {
   "cell_type": "code",
   "execution_count": 19,
   "id": "19d93b8e-9346-4a77-82f2-4892edda6efb",
   "metadata": {},
   "outputs": [],
   "source": [
    "# Rank the low_cols in descending order with percentile-based ranking\n",
    "relief[[col + '_rank' for col in low_cols]] = relief.groupby('Season')[low_cols].rank(ascending=True, \n",
    "                                                                                      na_option='keep').astype('int64')\n",
    "\n",
    "# Rank the high_cols in ascending order with percentile-based ranking\n",
    "relief[[col + '_rank' for col in high_cols]] = relief.groupby('Season')[high_cols].rank(ascending=False, \n",
    "                                                                                        na_option='keep').astype('int64')\n",
    "\n",
    "# Select columns that end with '_rank'\n",
    "rank_columns = relief.filter(regex='_rank$').columns.tolist()\n",
    "\n",
    "# row means for rank columns\n",
    "relief['mean_rookie_rank'] = relief[rank_columns].mean(axis=1)\n",
    "\n",
    "# Rank mean_rookie_rank in descending order\n",
    "relief['rookie_rank'] = relief.groupby('Season')['mean_rookie_rank'].rank(ascending=True, na_option='keep').astype('int64')"
   ]
  },
  {
   "cell_type": "code",
   "execution_count": 20,
   "id": "cc508f15-b1f2-4aa2-a8a8-4e7ab7de72b5",
   "metadata": {},
   "outputs": [],
   "source": [
    "# Rank the low_cols in descending order with percentile-based ranking\n",
    "relief_24[[col + '_rank' for col in low_cols]] = relief_24.groupby('Season')[low_cols].rank(ascending=True, \n",
    "                                                                                      na_option='keep').astype('int64')\n",
    "\n",
    "# Rank the high_cols in ascending order with percentile-based ranking\n",
    "relief_24[[col + '_rank' for col in high_cols]] = relief_24.groupby('Season')[high_cols].rank(ascending=False, \n",
    "                                                                                              na_option='keep').astype('int64')\n",
    "\n",
    "# Select columns that end with '_rank'\n",
    "rank_columns = relief_24.filter(regex='_rank$').columns.tolist()\n",
    "\n",
    "relief_24['mean_rookie_rank'] = relief_24[rank_columns].mean(axis=1)\n",
    "\n",
    "# Rank mean_rookie_rank in descending order \n",
    "relief_24['rookie_rank'] = relief_24.groupby('Season')['mean_rookie_rank'].rank(ascending=True, na_option='keep').astype('int64')"
   ]
  },
  {
   "cell_type": "code",
   "execution_count": 21,
   "id": "e7850bdc-5689-4c81-9dfe-03261cc45b60",
   "metadata": {
    "scrolled": true
   },
   "outputs": [],
   "source": [
    "add_cols = ['rookie_of_the_year', 'mean_rookie_rank', 'rookie_rank']\n",
    "rank_columns = rank_columns + add_cols\n",
    "\n",
    "rank_columns.insert(0, 'Name')\n",
    "rank_columns.insert(1, 'Season')\n",
    "rank_columns.insert(2, 'pos')"
   ]
  },
  {
   "cell_type": "code",
   "execution_count": 22,
   "id": "861609b6-487b-41d0-930a-e3480ab7f823",
   "metadata": {
    "scrolled": true
   },
   "outputs": [
    {
     "name": "stdout",
     "output_type": "stream",
     "text": [
      "                  Name  Season     pos  ERA-_rank  FIP-_rank  HR/9+_rank  \\\n",
      "58         Gregg Olson    1989  relief          1          1           1   \n",
      "456        Danny Boone    1981  relief          1          1           1   \n",
      "25       Troy Percival    1995  relief          1          1           3   \n",
      "160       Tim Crabtree    1996  relief          1          1           1   \n",
      "1185      Kevin Hickey    1981  relief          2          2           2   \n",
      "125   Kerry Ligtenberg    1998  closer          2          1           4   \n",
      "8      Dellin Betances    2014  relief          2          2           7   \n",
      "377        Dale Murray    1974  relief          1          1           1   \n",
      "73        Bruce Sutter    1976  relief          3          1           5   \n",
      "523    Kazuhiro Sasaki    2000  closer          2          2           6   \n",
      "\n",
      "      WHIP+_rank  AVG+_rank  BB%+_rank  MD_rank  ...  WPA_rank  WPA/LI_rank  \\\n",
      "58             1          2          2        2  ...         1            1   \n",
      "456            2          3          1        3  ...         2            2   \n",
      "25             1          1          3        2  ...         1            1   \n",
      "160            1          2          2        4  ...         1            2   \n",
      "1185           1          1          2        1  ...         1            1   \n",
      "125            3          3          2        5  ...         2            2   \n",
      "8              1          1          2        7  ...         1            1   \n",
      "377            1          1          2        1  ...         2            1   \n",
      "73             1          1          4        4  ...         1            1   \n",
      "523            1          1          4        3  ...         1            1   \n",
      "\n",
      "      K/BB+_rank  K-BB%_rank  SD_rank  SD_pct_rank  Clutch_rank  \\\n",
      "58             1           2        1            1            3   \n",
      "456            1           1        1            3            1   \n",
      "25             1           1        1            1            5   \n",
      "160            2           2        1            1            4   \n",
      "1185           2           2        3            1            2   \n",
      "125            1           1        1            1            2   \n",
      "8              2           1        1            2            1   \n",
      "377            3           4        2            1            4   \n",
      "73             1           1        3            3            3   \n",
      "523            1           1        1            1            4   \n",
      "\n",
      "      rookie_of_the_year  mean_rookie_rank  rookie_rank  \n",
      "58                     1          1.388889            1  \n",
      "456                    0          1.500000            1  \n",
      "25                     0          1.555556            1  \n",
      "160                    0          1.722222            1  \n",
      "1185                   0          1.833333            2  \n",
      "125                    0          1.888889            1  \n",
      "8                      0          2.000000            1  \n",
      "377                    0          2.055556            1  \n",
      "73                     0          2.111111            1  \n",
      "523                    1          2.111111            1  \n",
      "\n",
      "[10 rows x 24 columns]\n"
     ]
    }
   ],
   "source": [
    "print(relief.loc[:, rank_columns].sort_values('mean_rookie_rank', ascending=True).head(10))"
   ]
  },
  {
   "cell_type": "code",
   "execution_count": 23,
   "id": "b51354d6-397c-40f1-a940-2135f7272a81",
   "metadata": {
    "scrolled": true
   },
   "outputs": [
    {
     "name": "stdout",
     "output_type": "stream",
     "text": [
      "                Name  Season     pos  ERA-_rank  FIP-_rank  HR/9+_rank  \\\n",
      "20        Cade Smith    2024  relief          3          1           1   \n",
      "27      Mason Miller    2024  closer          6          2           7   \n",
      "123    Hunter Gaddis    2024  relief          1          7           5   \n",
      "426     Bryan Hudson    2024  relief          2         11          17   \n",
      "142  Orion Kerkering    2024  relief          4          3           4   \n",
      "192    Justin Slaten    2024  relief          7          5          10   \n",
      "205  Justin Martinez    2024  relief          5          6           3   \n",
      "240    Declan Cronin    2024  relief         20          4           2   \n",
      "559   Ryan Fernandez    2024  relief          9         10           6   \n",
      "682   Tyler Ferguson    2024  relief         19          9          12   \n",
      "\n",
      "     WHIP+_rank  AVG+_rank  BB%+_rank  MD_rank  ...  WPA_rank  WPA/LI_rank  \\\n",
      "20            4          6          6        8  ...         2            2   \n",
      "27            3          2         11        2  ...         1            3   \n",
      "123           2          3          3        5  ...         4            1   \n",
      "426           1          1          8        5  ...         3            4   \n",
      "142           7          9          5       13  ...         6            5   \n",
      "192           6         12          1        8  ...         9            7   \n",
      "205          12          8         18       22  ...        10            6   \n",
      "240          16         20         10       13  ...         5            9   \n",
      "559          13         10         16       13  ...         8           17   \n",
      "682           9          4         17        5  ...        11           12   \n",
      "\n",
      "     K/BB+_rank  K-BB%_rank  SD_rank  SD_pct_rank  Clutch_rank  \\\n",
      "20            2           2        2            3            8   \n",
      "27            4           1        3            1            9   \n",
      "123           5           6        1            2           14   \n",
      "426           6           5        3            4            5   \n",
      "142           3           3        9           10           13   \n",
      "192           1           4        5            5           12   \n",
      "205          15           9        7           11           18   \n",
      "240          10          12       11           12            3   \n",
      "559          16          15        8            6            2   \n",
      "682          14           8       11            8            7   \n",
      "\n",
      "     rookie_of_the_year  mean_rookie_rank  rookie_rank  \n",
      "20                  NaN          3.111111            1  \n",
      "27                  NaN          3.833333            2  \n",
      "123                 NaN          4.388889            3  \n",
      "426                 NaN          5.833333            4  \n",
      "142                 NaN          6.500000            5  \n",
      "192                 NaN          6.944444            6  \n",
      "205                 NaN          9.444444            7  \n",
      "240                 NaN          9.944444            8  \n",
      "559                 NaN         10.333333            9  \n",
      "682                 NaN         10.666667           10  \n",
      "\n",
      "[10 rows x 24 columns]\n"
     ]
    }
   ],
   "source": [
    "print(relief_24.loc[:, rank_columns].sort_values('mean_rookie_rank', ascending=True).head(10))"
   ]
  },
  {
   "cell_type": "code",
   "execution_count": 24,
   "id": "0b6364b9-ad9c-4d50-8562-ec3ac7113c01",
   "metadata": {},
   "outputs": [
    {
     "name": "stdout",
     "output_type": "stream",
     "text": [
      "Season  CG    FIP    K%+     MLBAMID           \n",
      "Name    ShO   FIP-   BB%+    decade            \n",
      "Team    QS    E-F    K-BB%   WAR/IP            \n",
      "W       IP    K/BB+  WPA     pos               \n",
      "L       SO    HR/9+  WPA/LI  league            \n",
      "G       ERA   AVG+   Clutch  award_id          \n",
      "GS      ERA-  WHIP+  WAR     rookie_of_the_year\n",
      "None\n"
     ]
    }
   ],
   "source": [
    "print(cli.columnize(starter.columns.tolist(), displaywidth=50))"
   ]
  },
  {
   "cell_type": "code",
   "execution_count": 25,
   "id": "906af564-a368-4bea-9b87-8db8a5cb8c97",
   "metadata": {},
   "outputs": [],
   "source": [
    "low_cols = ['ERA-', 'FIP-', 'HR/9+', 'WHIP+', \n",
    "            'AVG+', 'BB%+']\n",
    "\n",
    "high_cols = ['WAR', 'WAR/IP', 'IP', 'K%+', 'WPA', \n",
    "             'WPA/LI', 'K/BB+', 'K-BB%', 'Clutch', 'QS']"
   ]
  },
  {
   "cell_type": "code",
   "execution_count": 26,
   "id": "44c3248e-8459-4cb6-87a5-d303ea3b325f",
   "metadata": {
    "scrolled": true
   },
   "outputs": [],
   "source": [
    "# Rank the low_cols in descending order with percentile-based ranking\n",
    "starter[[col + '_rank' for col in low_cols]] = starter.groupby('Season')[low_cols].rank(ascending=True, \n",
    "                                                                                        na_option='keep').astype('int64')\n",
    "\n",
    "# Rank the high_cols in ascending order with percentile-based ranking\n",
    "starter[[col + '_rank' for col in high_cols]] = starter.groupby('Season')[high_cols].rank(ascending=False, \n",
    "                                                                                          na_option='keep').astype('int64')\n",
    "\n",
    "# Select columns that end with '_rank'\n",
    "rank_columns = starter.filter(regex='_rank$').columns.tolist()\n",
    "\n",
    "starter['mean_rookie_rank'] = starter[rank_columns].mean(axis=1)\n",
    "\n",
    "# Rank mean_rookie_rank in descending order with percentile-based ranking\n",
    "starter['rookie_rank'] = starter.groupby('Season')['mean_rookie_rank'].rank(ascending=True, na_option='keep').astype('int64')"
   ]
  },
  {
   "cell_type": "code",
   "execution_count": 27,
   "id": "c471e044-2ee8-45da-8f5e-99448ea7e24c",
   "metadata": {},
   "outputs": [],
   "source": [
    "# Rank the low_cols in descending order with percentile-based ranking\n",
    "starter_24[[col + '_rank' for col in low_cols]] = starter_24.groupby('Season')[low_cols].rank(ascending=True, \n",
    "                                                                                              na_option='keep').astype('int64')\n",
    "\n",
    "# Rank the high_cols in ascending order with percentile-based ranking\n",
    "starter_24[[col + '_rank' for col in high_cols]] = starter_24.groupby('Season')[high_cols].rank(ascending=False, \n",
    "                                                                                                na_option='keep').astype('int64')\n",
    "\n",
    "# Select columns that end with '_rank'\n",
    "rank_columns = starter_24.filter(regex='_rank$').columns.tolist()\n",
    "\n",
    "starter_24['mean_rookie_rank'] = starter_24[rank_columns].mean(axis=1)\n",
    "\n",
    "# Rank mean_rookie_rank in descending order with percentile-based ranking\n",
    "starter_24['rookie_rank'] = starter_24.groupby('Season')['mean_rookie_rank'].rank(ascending=True, na_option='keep').astype('int64')"
   ]
  },
  {
   "cell_type": "code",
   "execution_count": 28,
   "id": "f4ed4ae7-8b90-4f91-9c56-c90ea01bf6ff",
   "metadata": {
    "scrolled": true
   },
   "outputs": [],
   "source": [
    "add_cols = ['rookie_of_the_year', 'mean_rookie_rank', 'rookie_rank']\n",
    "rank_columns = rank_columns + add_cols\n",
    "\n",
    "rank_columns.insert(0, 'Name')\n",
    "rank_columns.insert(1, 'Season')\n",
    "rank_columns.insert(2, 'pos')"
   ]
  },
  {
   "cell_type": "code",
   "execution_count": 29,
   "id": "8babd289-2061-4363-8cb4-aacabe068eea",
   "metadata": {
    "scrolled": true
   },
   "outputs": [
    {
     "name": "stdout",
     "output_type": "stream",
     "text": [
      "                    Name  Season      pos  ERA-_rank  FIP-_rank  HR/9+_rank  \\\n",
      "3        John Montefusco    1975  starter          2          1           1   \n",
      "7    Fernando Valenzuela    1981  starter          2          2           4   \n",
      "280          Bill Laskey    1982  starter          1          1           3   \n",
      "53           Tim Belcher    1988  starter          2          1           1   \n",
      "209           Cal Eldred    1992  starter          1          1           1   \n",
      "15           Britt Burns    1980  starter          1          2           4   \n",
      "441         Zack Greinke    2004  starter          1          1           4   \n",
      "520         Dennis Blair    1974  starter          1          1           1   \n",
      "22          Brandon Webb    2003  starter          1          1           1   \n",
      "543      Dave Freisleben    1974  starter          2          2           2   \n",
      "\n",
      "     WHIP+_rank  AVG+_rank  BB%+_rank  WAR_rank  ...  K%+_rank  WPA_rank  \\\n",
      "3             2          4          2         1  ...         1         1   \n",
      "7             1          2          2         1  ...         1         1   \n",
      "280           1          1          1         1  ...         5         1   \n",
      "53            1          1          3         1  ...         1         2   \n",
      "209           1          1          2         2  ...         1         1   \n",
      "15            1          2          2         1  ...         2         1   \n",
      "441           1          1          1         2  ...         2         1   \n",
      "520           1          1          2         1  ...         3         1   \n",
      "22            1          1          8         1  ...         1         1   \n",
      "543           2          2          3         2  ...         2         2   \n",
      "\n",
      "     WPA/LI_rank  K/BB+_rank  K-BB%_rank  Clutch_rank  QS_rank  \\\n",
      "3              1           2           1            1        1   \n",
      "7              1           1           1            1        1   \n",
      "280            1           2           2            1        1   \n",
      "53             1           1           1            4        2   \n",
      "209            1           1           1            2        3   \n",
      "15             1           2           2            1        1   \n",
      "441            1           1           1            2        3   \n",
      "520            1           3           3            3        2   \n",
      "22             1           1           1            5        1   \n",
      "543            2           2           2            1        1   \n",
      "\n",
      "     rookie_of_the_year  mean_rookie_rank  rookie_rank  \n",
      "3                     1            1.4375            1  \n",
      "7                     1            1.5000            1  \n",
      "280                   0            1.5000            1  \n",
      "53                    0            1.5625            1  \n",
      "209                   0            1.5625            1  \n",
      "15                    0            1.6250            1  \n",
      "441                   0            1.6250            1  \n",
      "520                   0            1.6875            1  \n",
      "22                    0            1.8125            1  \n",
      "543                   0            1.8750            2  \n",
      "\n",
      "[10 rows x 22 columns]\n"
     ]
    }
   ],
   "source": [
    "print(starter.loc[:, rank_columns].sort_values('mean_rookie_rank', ascending=True).head(10))"
   ]
  },
  {
   "cell_type": "code",
   "execution_count": 30,
   "id": "a2b50248-3c9f-4fc9-b5e4-50ca7a4c3229",
   "metadata": {
    "scrolled": true
   },
   "outputs": [
    {
     "name": "stdout",
     "output_type": "stream",
     "text": [
      "                        Name  Season      pos  ERA-_rank  FIP-_rank  \\\n",
      "41               Paul Skenes    2024  starter          1          1   \n",
      "187            Shota Imanaga    2024  starter          3          5   \n",
      "251                 Luis Gil    2024  starter          4          3   \n",
      "349    Spencer Schwellenbach    2024  starter          6          2   \n",
      "468              Jared Jones    2024  starter          7          6   \n",
      "362              Gavin Stone    2024  starter          5          7   \n",
      "283          Mitchell Parker    2024  starter          9          4   \n",
      "501             Tobias Myers    2024  starter          2          9   \n",
      "414  Simeon Woods Richardson    2024  starter          8          8   \n",
      "541       Spencer Arrighetti    2024  starter         13         10   \n",
      "\n",
      "     HR/9+_rank  WHIP+_rank  AVG+_rank  BB%+_rank  WAR_rank  ...  K%+_rank  \\\n",
      "41            1           1          2          7         1  ...         1   \n",
      "187          14           2          3          1         2  ...         6   \n",
      "251           2           6          1         14         3  ...         2   \n",
      "349           5           3          5          3         5  ...         3   \n",
      "468           9           4          4          9         8  ...         5   \n",
      "362           6           7          8          4         6  ...        10   \n",
      "283           4           9          9          6         4  ...         9   \n",
      "501          10           5          7          5         9  ...         8   \n",
      "414           3          10          6         12         7  ...        11   \n",
      "541           8          14         11         13        10  ...         4   \n",
      "\n",
      "     WPA_rank  WPA/LI_rank  K/BB+_rank  K-BB%_rank  Clutch_rank  QS_rank  \\\n",
      "41          1            1           3           1            3        2   \n",
      "187         3            2           1           3           12        1   \n",
      "251         2            3          13           7            6        5   \n",
      "349         8            9           2           2            9        8   \n",
      "468         7            8           5           4            5        3   \n",
      "362         4            6           8          11            4        5   \n",
      "283        10            7           7           8           14        3   \n",
      "501         6            5           6           6            7       11   \n",
      "414         5            4          12          13           10       11   \n",
      "541        11           10          11           5           11        8   \n",
      "\n",
      "     rookie_of_the_year  mean_rookie_rank  rookie_rank  \n",
      "41                  NaN            2.1250            1  \n",
      "187                 NaN            4.0000            2  \n",
      "251                 NaN            4.9375            3  \n",
      "349                 NaN            5.3750            4  \n",
      "468                 NaN            6.3125            5  \n",
      "362                 NaN            6.3750            6  \n",
      "283                 NaN            6.8125            7  \n",
      "501                 NaN            7.0625            8  \n",
      "414                 NaN            8.3125            9  \n",
      "541                 NaN            9.5625           10  \n",
      "\n",
      "[10 rows x 22 columns]\n"
     ]
    }
   ],
   "source": [
    "print(starter_24.loc[:, rank_columns].sort_values('mean_rookie_rank', ascending=True).head(10))"
   ]
  },
  {
   "cell_type": "code",
   "execution_count": 31,
   "id": "f0677dab-47d0-42fe-bf78-192288a9eac5",
   "metadata": {
    "scrolled": true
   },
   "outputs": [],
   "source": [
    "rookie_relief = relief\n",
    "rookie_starter = starter\n",
    "\n",
    "rookie_relief_24 = relief_24\n",
    "rookie_starter_24 = starter_24"
   ]
  },
  {
   "cell_type": "markdown",
   "id": "14eccfdb-1f1f-4af1-98c8-6ef396cfaba0",
   "metadata": {},
   "source": [
    "# All of MLB Pitchers"
   ]
  },
  {
   "cell_type": "code",
   "execution_count": 32,
   "id": "315ae0cc-733f-4747-b965-721efa682826",
   "metadata": {},
   "outputs": [
    {
     "name": "stdout",
     "output_type": "stream",
     "text": [
      "Columns for Relief Pitchers: \n",
      "\n",
      "Season  SO    E-F    K%+     Clutch  WAR    \n",
      "Name    ERA   K/BB+  BB%+    SV      MLBAMID\n",
      "Team    ERA-  HR/9+  K-BB%   BS    \n",
      "G       FIP   AVG+   WPA     SD    \n",
      "IP      FIP-  WHIP+  WPA/LI  MD    \n",
      "None\n"
     ]
    }
   ],
   "source": [
    "relief = pd.read_csv('../data/mlb/fg_relief.csv')\n",
    "relief.drop(columns=['NameASCII', 'PlayerId'], inplace=True)\n",
    "relief = relief[~(relief['Season'].isin( [1994, 2020] ))]\n",
    "\n",
    "relief_columns = relief.columns.tolist()\n",
    "print(f\"Columns for Relief Pitchers: \\n\")\n",
    "print(cli.columnize(relief_columns, displaywidth=50))"
   ]
  },
  {
   "cell_type": "code",
   "execution_count": 33,
   "id": "99eeeae6-1a6c-4c34-ad38-d7e0d6a95581",
   "metadata": {},
   "outputs": [],
   "source": [
    "relief['BS'] = relief['BS'].fillna(0)\n",
    "\n",
    "# Add decade columns for pitchers\n",
    "relief = assign_decade(relief)\n",
    "\n",
    "## Add a 'WAR/IP' for a secondary representation of WAR\n",
    "## This can be better for comparing people's true WAR impact across relievers and starters\n",
    "relief['WAR/IP'] = relief['WAR'] / relief['IP']\n",
    "\n",
    "## Add 'IP/G' to help distinguish between relief pitchers and closing pitchers.\n",
    "relief['IP/G'] = relief['IP'] / relief['G']\n",
    "\n",
    "## Add 'SD_pct' to evaluate how much more frequently they are throwing a Shutdown\n",
    "## Shutdown (SD) = Relief Appearance with cumulative WPA > 0.6 (good)\n",
    "## Meltdown (MD) = Relief Appearance with cumulative WPA < -0.6 (bad)\n",
    "relief['SD_pct'] = relief['SD'] / (relief['SD'] + relief['MD'])\n",
    "\n",
    "relief['pos'] = 'relief' # create the relief pitcher designation\n",
    "cond1 = ( ( (relief['SV'] + relief['BS']) / relief['G'] ) >= 0.4)\n",
    "cond2 = (relief['IP/G'] <= 1.25)\n",
    "\n",
    "# Distinguish between a relief pitcher, and a closer (yes, they are different)\n",
    "relief.loc[cond1 & cond2 , 'pos'] = 'closer' "
   ]
  },
  {
   "cell_type": "code",
   "execution_count": 34,
   "id": "5db69756-c582-4644-86d5-e4b27614337c",
   "metadata": {},
   "outputs": [
    {
     "name": "stdout",
     "output_type": "stream",
     "text": [
      "Columns for Starting Pitchers:\n",
      "Season  G    IP    FIP-   WHIP+  WPA/LI \n",
      "Name    GS   SO    E-F    K%+    Clutch \n",
      "Team    CG   ERA   K/BB+  BB%+   WAR    \n",
      "W       ShO  ERA-  HR/9+  K-BB%  MLBAMID\n",
      "L       QS   FIP   AVG+   WPA  \n",
      "None\n"
     ]
    }
   ],
   "source": [
    "starter = pd.read_csv('../data/mlb/fg_starter.csv')\n",
    "starter.drop(columns=['NameASCII', 'PlayerId'], inplace=True)\n",
    "starter = starter[~(starter['Season'].isin( [1994, 2020] ))]\n",
    "\n",
    "starter_columns = starter.columns.tolist()\n",
    "print(f\"Columns for Starting Pitchers:\")\n",
    "print(cli.columnize(starter_columns, displaywidth=50))"
   ]
  },
  {
   "cell_type": "code",
   "execution_count": 35,
   "id": "ecfaed5b-93a4-419c-8fd6-2a5b20c2995d",
   "metadata": {},
   "outputs": [],
   "source": [
    "starter = assign_decade(starter)\n",
    "\n",
    "starter['WAR/IP'] = starter['WAR'] / starter['IP']\n",
    "\n",
    "starter['pos'] = 'starter' # create the starting pitcher designation"
   ]
  },
  {
   "cell_type": "code",
   "execution_count": 36,
   "id": "f8788739-6faf-4381-ad01-70ba30b5344c",
   "metadata": {},
   "outputs": [],
   "source": [
    "# Dictionary for mapping old abbreviations to current ones\n",
    "team_map = {\n",
    "    'CAL': 'LAA',  # California Angels to Los Angeles Angels\n",
    "    'ANA': 'LAA',  # Anaheim Angels to Los Angeles Angels\n",
    "    'FLA': 'MIA',  # Florida Marlins to Miami Marlins\n",
    "    'MON': 'WSN',  # Montreal Expos to Washington Nationals\n",
    "    'TBD': 'TBR'   # Tampa Bay Devil Rays to Tampa Bay Rays\n",
    "}\n",
    "\n",
    "# Replace the 'Team' column with updated abbreviations using .replace()\n",
    "relief['Team'] = relief['Team'].replace(team_map)\n",
    "starter['Team'] = starter['Team'].replace(team_map)"
   ]
  },
  {
   "cell_type": "code",
   "execution_count": 37,
   "id": "9abc0601-3387-43fe-924b-08c55affa46a",
   "metadata": {},
   "outputs": [],
   "source": [
    "# National League\n",
    "nl_teams = ['LAD', 'SDP', 'CIN', 'SFG', 'ATL',\n",
    "            'NYM', 'MIA', 'MIL', 'CHC', 'STL',\n",
    "            'COL', 'PIT', 'ARI', 'PHI', 'WSN']\n",
    "# American League\n",
    "al_teams = ['OAK', 'HOU', 'LAA', 'SEA', 'CLE',\n",
    "            'BAL', 'NYY', 'BOS', 'KCR', 'MIN',\n",
    "            'TOR', 'TEX', 'CHW', 'TBR', 'DET']\n",
    "\n",
    "# add league for the Relievers\n",
    "relief.loc[relief['Team'].isin(nl_teams), 'league'] = 'NL'\n",
    "relief.loc[relief['Team'].isin(al_teams), 'league'] = 'AL'\n",
    "# add league for the Starters\n",
    "starter.loc[starter['Team'].isin(nl_teams), 'league'] = 'NL'\n",
    "starter.loc[starter['Team'].isin(al_teams), 'league'] = 'AL'\n",
    "\n",
    "relief.dropna(subset='league', inplace=True)\n",
    "starter.dropna(subset='league', inplace=True)"
   ]
  },
  {
   "cell_type": "code",
   "execution_count": 38,
   "id": "b13b94ac-d7cf-44a7-8818-2837927b1c46",
   "metadata": {},
   "outputs": [
    {
     "name": "stdout",
     "output_type": "stream",
     "text": [
      "There are 5522 Starting Pitchers in the data\n",
      "There are 6359 Relief Pitchers in the data\n"
     ]
    }
   ],
   "source": [
    "print(f\"There are {starter.shape[0]} Starting Pitchers in the data\")\n",
    "print(f\"There are {relief.shape[0]} Relief Pitchers in the data\")"
   ]
  },
  {
   "cell_type": "code",
   "execution_count": 39,
   "id": "c55de583-8c7d-46d2-97b0-7ef3a2f5fc63",
   "metadata": {},
   "outputs": [],
   "source": [
    "relief_24 = relief[relief['Season'] == 2024]\n",
    "starter_24 = starter[starter['Season'] == 2024]\n",
    "\n",
    "relief = relief[relief['Season'] != 2024]\n",
    "starter = starter[starter['Season'] != 2024]"
   ]
  },
  {
   "cell_type": "code",
   "execution_count": 40,
   "id": "e9c858c7-c4ce-45a7-b9c7-c0b47d222a24",
   "metadata": {
    "scrolled": true
   },
   "outputs": [
    {
     "name": "stdout",
     "output_type": "stream",
     "text": [
      "   Season            Name Team    G     IP   SO       ERA       ERA-  \\\n",
      "0    1977    Bruce Sutter  CHC   62  107.1  129  1.341615  31.241640   \n",
      "1    1986   Mark Eichhorn  TOR   69  157.0  166  1.719745  40.860984   \n",
      "2    1979    Bruce Sutter  CHC   62  101.1  110  2.220395  54.203137   \n",
      "3    1979        Jim Kern  TEX   71  143.0  136  1.573427  37.783756   \n",
      "4    2003      Eric Gagne  LAD   77   82.1  137  1.202429  29.796020   \n",
      "5    1990      Rob Dibble  CIN   68   98.0  136  1.744898  44.466424   \n",
      "6    1996  Mariano Rivera  NYY   61  107.2  130  2.089783  42.868730   \n",
      "7    1977    Rich Gossage  PIT   72  133.0  151  1.624060  41.020796   \n",
      "8    1974   Mike Marshall  LAD  106  208.1  143  2.419200  70.285680   \n",
      "9    1976  Rollie Fingers  OAK   70  134.2  113  2.539604  74.156263   \n",
      "\n",
      "        FIP       FIP-  ...  SD  MD       WAR  MLBAMID  decade    WAR/IP  \\\n",
      "0  1.610714  38.518270  ...  39  10  5.157516   123004   1970s  0.048156   \n",
      "1  2.312413  56.211928  ...  32  10  4.944612   113780   1980s  0.031494   \n",
      "2  1.893350  47.211380  ...  37  12  4.792124   123004   1970s  0.047400   \n",
      "3  2.627270  65.003958  ...  42  14  4.686049   117012   1970s  0.032770   \n",
      "4  0.857432  18.866710  ...  45   4  4.677234   150378   2000s  0.056970   \n",
      "5  1.502176  37.647085  ...  29  13  4.325087   113333   1990s  0.044134   \n",
      "6  1.880551  39.784550  ...  39   6  4.271948   121250   1990s  0.039850   \n",
      "7  2.497442  63.074519  ...  43  15  4.169259   114989   1970s  0.031348   \n",
      "8  2.587820  71.813271  ...  42  29  4.114290   118320   1970s  0.019771   \n",
      "9  2.290950  63.859510  ...  30  17  4.107141   114129   1970s  0.030605   \n",
      "\n",
      "       IP/G    SD_pct     pos  league  \n",
      "0  1.727419  0.795918  relief      NL  \n",
      "1  2.275362  0.761905  relief      AL  \n",
      "2  1.630645  0.755102  relief      NL  \n",
      "3  2.014085  0.750000  relief      AL  \n",
      "4  1.066234  0.918367  closer      NL  \n",
      "5  1.441176  0.690476  relief      NL  \n",
      "6  1.757377  0.866667  relief      AL  \n",
      "7  1.847222  0.741379  relief      NL  \n",
      "8  1.963208  0.591549  relief      NL  \n",
      "9  1.917143  0.638298  relief      AL  \n",
      "\n",
      "[10 rows x 33 columns]\n",
      "\n",
      "\n",
      "   Season            Name Team   W   L   G  GS  CG  ShO  QS  ...     K-BB%  \\\n",
      "0    1999  Pedro Martinez  BOS  22   4  29  29   5    1  24  ...  0.330882   \n",
      "1    1997   Roger Clemens  TOR  21   7  34  34   9    3  26  ...  0.214559   \n",
      "2    2001   Randy Johnson  ARI  20   6  34  34   3    2  27  ...  0.294542   \n",
      "3    2004   Randy Johnson  ARI  16  14  35  35   4    2  26  ...  0.255187   \n",
      "4    2000   Randy Johnson  ARI  19   7  35  35   8    3  25  ...  0.270729   \n",
      "5    1998     Kevin Brown  SDP  18   7  35  35   7    3  29  ...  0.199223   \n",
      "6    1995   Randy Johnson  SEA  18   2  30  30   6    3  23  ...  0.264434   \n",
      "7    1999   Randy Johnson  ARI  17   9  35  35  12    2  29  ...  0.272475   \n",
      "8    2000  Pedro Martinez  BOS  18   6  29  29   7    4  25  ...  0.308446   \n",
      "9    2002  Curt Schilling  ARI  23   7  35  35   5    1  27  ...  0.278932   \n",
      "\n",
      "        WPA    WPA/LI    Clutch        WAR  MLBAMID  decade    WAR/IP  \\\n",
      "0  6.476288  6.484162  0.096313  11.578981   118377   1990s  0.055641   \n",
      "1  6.025322  6.228580  0.296371  10.698597   112388   1990s  0.040525   \n",
      "2  5.801150  5.395372  0.190373   9.710692   116615   2000s  0.040094   \n",
      "3  3.998922  6.245198 -2.161385   9.606084   116615   2000s  0.039177   \n",
      "4  5.375454  4.412641  0.573630   9.577023   116615   2000s  0.038586   \n",
      "5  4.267992  5.011033 -1.119302   9.483250   111554   1990s  0.037044   \n",
      "6  6.643420  6.154059  0.330988   9.481750   116615   1990s  0.044287   \n",
      "7  5.422270  5.039228  0.606301   9.478136   116615   1990s  0.034949   \n",
      "8  7.614680  8.087172 -0.246584   9.374989   118377   2000s  0.043203   \n",
      "9  4.633178  6.102302 -1.000334   9.364743   121811   2000s  0.036283   \n",
      "\n",
      "       pos  league  \n",
      "0  starter      AL  \n",
      "1  starter      AL  \n",
      "2  starter      NL  \n",
      "3  starter      NL  \n",
      "4  starter      NL  \n",
      "5  starter      NL  \n",
      "6  starter      AL  \n",
      "7  starter      NL  \n",
      "8  starter      AL  \n",
      "9  starter      NL  \n",
      "\n",
      "[10 rows x 33 columns]\n",
      "\n",
      "\n",
      "     Season             Name Team   G    IP  SO       ERA       ERA-  \\\n",
      "140    2024       Cade Smith  CLE  71  72.0  98  2.000000  49.807352   \n",
      "182    2024     Mason Miller  OAK  49  58.2  93  2.301136  58.958658   \n",
      "225    2024      Griffin Jax  MIN  67  66.0  87  2.181818  54.168024   \n",
      "254    2024   Emmanuel Clase  CLE  69  69.1  63  0.649038  16.163439   \n",
      "357    2024     Jeff Hoffman  PHI  63  61.1  81  1.760870  42.656451   \n",
      "388    2024     Ryan Helsley  STL  60  61.2  72  2.189189  53.968019   \n",
      "425    2024      Kirby Yates  TEX  56  56.2  81  1.270588  31.321699   \n",
      "466    2024  David Robertson  TEX  61  65.0  93  3.184616  78.505027   \n",
      "526    2024      Matt Strahm  PHI  60  56.2  69  2.064706  50.016781   \n",
      "579    2024      Ryan Walker  SFG  70  74.1  93  1.816144  45.175391   \n",
      "\n",
      "          FIP       FIP-  ...  SD  MD       WAR  MLBAMID  decade    WAR/IP  \\\n",
      "140  1.462719  34.831736  ...  31   7  2.559271   671922   2020s  0.035545   \n",
      "182  1.909689  47.108761  ...  26   4  2.398099   695243   2020s  0.041204   \n",
      "225  2.095295  50.248909  ...  37  10  2.267690   643377   2020s  0.034359   \n",
      "254  2.161437  52.272966  ...  42   4  2.206896   661403   2020s  0.031938   \n",
      "357  2.469966  60.010834  ...  34   7  2.021080   656546   2020s  0.033078   \n",
      "388  2.587269  65.343029  ...  32   4  1.962286   664854   2020s  0.032063   \n",
      "425  2.429876  57.398102  ...  36   5  1.898948   489446   2020s  0.033789   \n",
      "466  2.555668  60.454197  ...  35  11  1.838908   502085   2020s  0.028291   \n",
      "526  2.500464  60.732211  ...  30  11  1.771044   621381   2020s  0.031513   \n",
      "579  2.336972  60.487100  ...  37   9  1.701624   676254   2020s  0.022964   \n",
      "\n",
      "         IP/G    SD_pct     pos  league  \n",
      "140  1.014085  0.815789  relief      AL  \n",
      "182  1.187755  0.866667  closer      AL  \n",
      "225  0.985075  0.787234  relief      AL  \n",
      "254  1.001449  0.913043  closer      AL  \n",
      "357  0.969841  0.829268  relief      NL  \n",
      "388  1.020000  0.888889  closer      NL  \n",
      "425  1.003571  0.878049  closer      AL  \n",
      "466  1.065574  0.760870  relief      AL  \n",
      "526  0.936667  0.731707  relief      NL  \n",
      "579  1.058571  0.804348  relief      NL  \n",
      "\n",
      "[10 rows x 33 columns]\n",
      "\n",
      "\n",
      "     Season                Name Team   W   L   G  GS  CG  ShO  QS  ...  \\\n",
      "141    2024          Chris Sale  ATL  17   3  28  28   0    0  18  ...   \n",
      "305    2024        Tarik Skubal  DET  16   4  29  29   0    0  21  ...   \n",
      "538    2024  Cristopher Sánchez  PHI  10   9  29  29   2    1  17  ...   \n",
      "542    2024        Zack Wheeler  PHI  15   6  29  29   0    0  23  ...   \n",
      "595    2024         Cole Ragans  KCR  11   9  30  30   1    0  19  ...   \n",
      "711    2024           Seth Lugo  KCR  16   8  31  31   1    0  21  ...   \n",
      "778    2024         Dylan Cease  SDP  13  11  31  31   1    1  15  ...   \n",
      "886    2024     Garrett Crochet  CHW   6  12  30  30   0    0  11  ...   \n",
      "936    2024          Logan Webb  SFG  12  10  31  31   1    1  19  ...   \n",
      "945    2024       Logan Gilbert  SEA   7  11  30  30   1    0  22  ...   \n",
      "\n",
      "        K-BB%       WPA    WPA/LI    Clutch       WAR  MLBAMID  decade  \\\n",
      "141  0.267254  4.141864  4.560476 -0.194926  6.420994   519242   2020s   \n",
      "305  0.255289  4.001759  3.894083  0.432502  5.388029   669373   2020s   \n",
      "538  0.146479  2.073244  2.243151 -0.243775  4.722014   650911   2020s   \n",
      "542  0.210674  3.823270  3.210439  0.945263  4.712589   554430   2020s   \n",
      "595  0.212079  2.121270  2.592398 -0.498069  4.596652   666142   2020s   \n",
      "711  0.156912  3.639774  3.312085  0.366066  4.405204   607625   2020s   \n",
      "778  0.215190  1.083300  2.083900 -0.850415  4.288486   656302   2020s   \n",
      "886  0.287986  1.466712  1.615974 -0.146340  4.118310   676979   2020s   \n",
      "936  0.142857  1.408841  2.138385 -0.770630  4.035161   657277   2020s   \n",
      "945  0.222826  1.312378  3.322678 -1.782998  4.014505   669302   2020s   \n",
      "\n",
      "       WAR/IP      pos  league  \n",
      "141  0.037288  starter      NL  \n",
      "305  0.029933  starter      AL  \n",
      "538  0.027454  starter      NL  \n",
      "542  0.026298  starter      NL  \n",
      "595  0.026555  starter      AL  \n",
      "711  0.022339  starter      AL  \n",
      "778  0.024366  starter      NL  \n",
      "886  0.029843  starter      AL  \n",
      "936  0.020886  starter      NL  \n",
      "945  0.020996  starter      AL  \n",
      "\n",
      "[10 rows x 33 columns]\n"
     ]
    }
   ],
   "source": [
    "print(relief.head(10))\n",
    "print(\"\\n\")\n",
    "print(starter.head(10))\n",
    "print(\"\\n\")\n",
    "print(relief_24.head(10))\n",
    "print(\"\\n\")\n",
    "print(starter_24.head(10))"
   ]
  },
  {
   "cell_type": "code",
   "execution_count": 41,
   "id": "8a4a87fb-1283-4121-85fb-42c9c3afa1c6",
   "metadata": {},
   "outputs": [],
   "source": [
    "low_cols = ['ERA-', 'FIP-', 'HR/9+', 'WHIP+', \n",
    "            'AVG+', 'BB%+', 'MD']\n",
    "\n",
    "high_cols = ['WAR', 'WAR/IP', 'IP', 'K%+', 'WPA', \n",
    "             'WPA/LI', 'K/BB+', 'K-BB%',\n",
    "             'SD', 'SD_pct', 'Clutch']"
   ]
  },
  {
   "cell_type": "code",
   "execution_count": 42,
   "id": "47816c00-4ccb-44a1-ae93-b2421610e899",
   "metadata": {},
   "outputs": [],
   "source": [
    "# Rank the low_cols in descending order with percentile-based ranking\n",
    "relief[[col + '_rank' for col in low_cols]] = relief.groupby('Season')[low_cols].rank(ascending=True, \n",
    "                                                                                      na_option='keep').astype('int64')\n",
    "\n",
    "# Rank the high_cols in ascending order with percentile-based ranking\n",
    "relief[[col + '_rank' for col in high_cols]] = relief.groupby('Season')[high_cols].rank(ascending=False, \n",
    "                                                                                        na_option='keep').astype('int64')\n",
    "\n",
    "# Select columns that end with '_rank'\n",
    "rank_columns = relief.filter(regex='_rank$').columns.tolist()\n",
    "\n",
    "relief['mean_mlb_rank'] = relief[rank_columns].mean(axis=1)\n",
    "\n",
    "# Rank mean_mlb_rank in descending order with percentile-based ranking\n",
    "relief['mlb_rank'] = relief.groupby('Season')['mean_mlb_rank'].rank(ascending=True, na_option='keep').astype('int64')"
   ]
  },
  {
   "cell_type": "code",
   "execution_count": 43,
   "id": "f0815fba-2890-444d-bd96-b6565a5d9948",
   "metadata": {},
   "outputs": [],
   "source": [
    "# Rank the low_cols in descending order with percentile-based ranking\n",
    "relief_24[[col + '_rank' for col in low_cols]] = relief_24.groupby('Season')[low_cols].rank(ascending=True, \n",
    "                                                                                      na_option='keep').astype('int64')\n",
    "\n",
    "# Rank the high_cols in ascending order with percentile-based ranking\n",
    "relief_24[[col + '_rank' for col in high_cols]] = relief_24.groupby('Season')[high_cols].rank(ascending=False, \n",
    "                                                                                              na_option='keep').astype('int64')\n",
    "\n",
    "# Select columns that end with '_rank'\n",
    "rank_columns = relief_24.filter(regex='_rank$').columns.tolist()\n",
    "\n",
    "relief_24['mean_mlb_rank'] = relief_24[rank_columns].mean(axis=1)\n",
    "\n",
    "# Rank mean_mlb_rank in descending order with percentile-based ranking\n",
    "relief_24['mlb_rank'] = relief_24.groupby('Season')['mean_mlb_rank'].rank(ascending=True, na_option='keep').astype('int64')"
   ]
  },
  {
   "cell_type": "code",
   "execution_count": 44,
   "id": "ce6182a8-1440-4e42-8c40-b477f5b49c0d",
   "metadata": {
    "scrolled": true
   },
   "outputs": [],
   "source": [
    "add_cols = ['mean_mlb_rank', 'mlb_rank']\n",
    "rank_columns = rank_columns + add_cols\n",
    "\n",
    "rank_columns.insert(0, 'Name')\n",
    "rank_columns.insert(1, 'Season')\n",
    "rank_columns.insert(2, 'pos')"
   ]
  },
  {
   "cell_type": "code",
   "execution_count": 45,
   "id": "f222dc78-1a4d-4656-9080-267061174512",
   "metadata": {
    "scrolled": true
   },
   "outputs": [
    {
     "name": "stdout",
     "output_type": "stream",
     "text": [
      "                 Name  Season     pos  ERA-_rank  FIP-_rank  HR/9+_rank  \\\n",
      "37   Willie Hernandez    1984  relief          3          3          15   \n",
      "139    Rollie Fingers    1981  relief          2          2          20   \n",
      "28      Kenley Jansen    2017  closer          3          1          45   \n",
      "40   Dennis Eckersley    1990  closer          1          1           9   \n",
      "16         Doug Jones    1988  relief         11          1           1   \n",
      "6      Mariano Rivera    1996  relief          3          1           1   \n",
      "306         Jose Mesa    1995  closer          1          4          11   \n",
      "46     Trevor Hoffman    1998  closer          3          2           7   \n",
      "4          Eric Gagne    2003  closer          2          1           7   \n",
      "17         Eric Gagne    2002  closer         17          2          58   \n",
      "\n",
      "     WHIP+_rank  AVG+_rank  BB%+_rank  MD_rank  ...  K%+_rank  WPA_rank  \\\n",
      "37            2          5         20       11  ...        12         1   \n",
      "139           2          6          3       19  ...         4         1   \n",
      "28            3         13          1        6  ...         2         1   \n",
      "40            1          1          1        7  ...         3         1   \n",
      "16            4         19          2        9  ...        15         1   \n",
      "6             3          5         22       21  ...         2         3   \n",
      "306           3         18         12        2  ...        13         1   \n",
      "46            2          2         34       16  ...         5         1   \n",
      "4             1          1         30       16  ...         1         1   \n",
      "17            2          9          7       27  ...         1         1   \n",
      "\n",
      "     WPA/LI_rank  K/BB+_rank  K-BB%_rank  SD_rank  SD_pct_rank  Clutch_rank  \\\n",
      "37             1           7          10        3            1            3   \n",
      "139            1           1           3        1            2           39   \n",
      "28             3           1           2        2            2            8   \n",
      "40             1           1           2        5            1           49   \n",
      "16             2           2           6        2            1           39   \n",
      "6              1           5           4        4            3           71   \n",
      "306            8           7          13        1            1            8   \n",
      "46             1           5           3        4            3           30   \n",
      "4              1           3           1        1            3           73   \n",
      "17             4           1           1        1            4           17   \n",
      "\n",
      "     mean_mlb_rank  mlb_rank  \n",
      "37        5.888889         1  \n",
      "139       6.500000         1  \n",
      "28        6.777778         1  \n",
      "40        7.666667         1  \n",
      "16        8.388889         1  \n",
      "6         8.444444         1  \n",
      "306       8.611111         1  \n",
      "46        8.722222         1  \n",
      "4         9.000000         1  \n",
      "17        9.222222         1  \n",
      "\n",
      "[10 rows x 23 columns]\n"
     ]
    }
   ],
   "source": [
    "print(relief.loc[:, rank_columns].sort_values('mean_mlb_rank', ascending=True).head(10))"
   ]
  },
  {
   "cell_type": "code",
   "execution_count": 46,
   "id": "da5fec4e-d3d9-4389-8332-35f2d53590f9",
   "metadata": {
    "scrolled": true
   },
   "outputs": [
    {
     "name": "stdout",
     "output_type": "stream",
     "text": [
      "                Name  Season     pos  ERA-_rank  FIP-_rank  HR/9+_rank  \\\n",
      "254   Emmanuel Clase    2024  closer          1          4           7   \n",
      "140       Cade Smith    2024  relief         13          1           3   \n",
      "579      Ryan Walker    2024  relief         10         12          18   \n",
      "702  Raisel Iglesias    2024  closer          9         15          14   \n",
      "182     Mason Miller    2024  closer         23          2          24   \n",
      "357     Jeff Hoffman    2024  relief          6          9          47   \n",
      "425      Kirby Yates    2024  closer          2          8          17   \n",
      "225      Griffin Jax    2024  relief         18          3          20   \n",
      "775    Hunter Gaddis    2024  relief          3         25          19   \n",
      "388     Ryan Helsley    2024  closer         17         20          15   \n",
      "\n",
      "     WHIP+_rank  AVG+_rank  BB%+_rank  MD_rank  ...  K%+_rank  WPA_rank  \\\n",
      "254           1          7          3       11  ...        63         1   \n",
      "140          12         27         33       46  ...         8        10   \n",
      "579           7         11         32       83  ...        14         5   \n",
      "702           2          4         16       11  ...        43         3   \n",
      "182          10          6         74       11  ...         1         6   \n",
      "357          14         24         34       46  ...        13        12   \n",
      "425           9          1        114       20  ...         6         2   \n",
      "225          11         20         25      103  ...        12        24   \n",
      "775           4          8         19       32  ...        71        15   \n",
      "388          48         43         89       11  ...        31         4   \n",
      "\n",
      "     WPA/LI_rank  K/BB+_rank  K-BB%_rank  SD_rank  SD_pct_rank  Clutch_rank  \\\n",
      "254            1           2          24        1            1           22   \n",
      "140            4           9           4       14           11           41   \n",
      "579            5          10           9        3           15           28   \n",
      "702            3          13          21       34            6           57   \n",
      "182            7          19           1       28            4           67   \n",
      "357           19          12           7        8            8           38   \n",
      "425            6          58          11        5            3           56   \n",
      "225           13           8           6        3           18          103   \n",
      "775            2          22          42        6            7          105   \n",
      "388           16          64          40       11            2           29   \n",
      "\n",
      "     mean_mlb_rank  mlb_rank  \n",
      "254       9.388889         1  \n",
      "140      13.666667         2  \n",
      "579      16.444444         3  \n",
      "702      17.111111         4  \n",
      "182      18.666667         5  \n",
      "357      19.222222         6  \n",
      "425      21.833333         7  \n",
      "225      22.722222         8  \n",
      "775      23.611111         9  \n",
      "388      27.166667        10  \n",
      "\n",
      "[10 rows x 23 columns]\n"
     ]
    }
   ],
   "source": [
    "print(relief_24.loc[:, rank_columns].sort_values('mean_mlb_rank', ascending=True).head(10))"
   ]
  },
  {
   "cell_type": "code",
   "execution_count": 47,
   "id": "9e0c2843-f87d-42f0-ad3a-d947bff935b4",
   "metadata": {},
   "outputs": [
    {
     "name": "stdout",
     "output_type": "stream",
     "text": [
      "Season  G    IP    FIP-   WHIP+  WPA/LI   WAR/IP\n",
      "Name    GS   SO    E-F    K%+    Clutch   pos   \n",
      "Team    CG   ERA   K/BB+  BB%+   WAR      league\n",
      "W       ShO  ERA-  HR/9+  K-BB%  MLBAMID\n",
      "L       QS   FIP   AVG+   WPA    decade \n",
      "None\n"
     ]
    }
   ],
   "source": [
    "print(cli.columnize(starter.columns.tolist(), displaywidth=50))"
   ]
  },
  {
   "cell_type": "code",
   "execution_count": 48,
   "id": "2f77e351-4172-4cdb-99a3-5d2cb51dd5fb",
   "metadata": {},
   "outputs": [],
   "source": [
    "low_cols = ['ERA-', 'FIP-', 'HR/9+', 'WHIP+', \n",
    "            'AVG+', 'BB%+']\n",
    "\n",
    "high_cols = ['WAR', 'WAR/IP', 'IP', 'K%+', 'WPA', \n",
    "             'WPA/LI', 'K/BB+', 'K-BB%', 'Clutch', 'QS']"
   ]
  },
  {
   "cell_type": "code",
   "execution_count": 49,
   "id": "1c29341a-c107-40a5-9a7e-f0c592bec743",
   "metadata": {
    "scrolled": true
   },
   "outputs": [],
   "source": [
    "# Rank the low_cols in descending order with percentile-based ranking\n",
    "starter[[col + '_rank' for col in low_cols]] = starter.groupby('Season')[low_cols].rank(ascending=True, \n",
    "                                                                                        na_option='keep').astype('int64')\n",
    "\n",
    "# Rank the high_cols in ascending order with percentile-based ranking\n",
    "starter[[col + '_rank' for col in high_cols]] = starter.groupby('Season')[high_cols].rank(ascending=False, \n",
    "                                                                                          na_option='keep').astype('int64')\n",
    "\n",
    "# Select columns that end with '_rank'\n",
    "rank_columns = starter.filter(regex='_rank$').columns.tolist()\n",
    "\n",
    "starter['mean_mlb_rank'] = starter[rank_columns].mean(axis=1)\n",
    "\n",
    "# Rank mean_mlb_rank in descending order with percentile-based ranking\n",
    "starter['mlb_rank'] = starter.groupby('Season')['mean_mlb_rank'].rank(ascending=True, na_option='keep').astype('int64')"
   ]
  },
  {
   "cell_type": "code",
   "execution_count": 50,
   "id": "51f06d1d-87f5-415b-bc6e-855544fe207f",
   "metadata": {},
   "outputs": [],
   "source": [
    "# Rank the low_cols in descending order with percentile-based ranking\n",
    "starter_24[[col + '_rank' for col in low_cols]] = starter_24.groupby('Season')[low_cols].rank(ascending=True, \n",
    "                                                                                              na_option='keep').astype('int64')\n",
    "\n",
    "# Rank the high_cols in ascending order with percentile-based ranking\n",
    "starter_24[[col + '_rank' for col in high_cols]] = starter_24.groupby('Season')[high_cols].rank(ascending=False, \n",
    "                                                                                                na_option='keep').astype('int64')\n",
    "\n",
    "# Select columns that end with '_rank'\n",
    "rank_columns = starter_24.filter(regex='_rank$').columns.tolist()\n",
    "\n",
    "starter_24['mean_mlb_rank'] = starter_24[rank_columns].mean(axis=1)\n",
    "\n",
    "# Rank mean_mlb_rank in descending order with percentile-based ranking\n",
    "starter_24['mlb_rank'] = starter_24.groupby('Season')['mean_mlb_rank'].rank(ascending=True, na_option='keep').astype('int64')"
   ]
  },
  {
   "cell_type": "code",
   "execution_count": 51,
   "id": "2327d097-693b-4c9d-bb44-22ec640524bd",
   "metadata": {
    "scrolled": true
   },
   "outputs": [],
   "source": [
    "add_cols = ['mean_mlb_rank', 'mlb_rank']\n",
    "rank_columns = rank_columns + add_cols\n",
    "\n",
    "rank_columns.insert(0, 'Name')\n",
    "rank_columns.insert(1, 'Season')\n",
    "rank_columns.insert(2, 'pos')"
   ]
  },
  {
   "cell_type": "code",
   "execution_count": 52,
   "id": "15a859ac-556e-429e-9b21-95c941af6ee0",
   "metadata": {
    "scrolled": true
   },
   "outputs": [
    {
     "name": "stdout",
     "output_type": "stream",
     "text": [
      "               Name  Season      pos  ERA-_rank  FIP-_rank  HR/9+_rank  \\\n",
      "36      Greg Maddux    1995  starter          1          2           2   \n",
      "14    Dwight Gooden    1985  starter          1          1           8   \n",
      "31    Roger Clemens    1990  starter          1          1           1   \n",
      "17     Zack Greinke    2009  starter          1          1           3   \n",
      "44  Bret Saberhagen    1989  starter          1          1           6   \n",
      "12     Jacob deGrom    2018  starter          1          2           2   \n",
      "6     Randy Johnson    1995  starter          2          1           4   \n",
      "1     Roger Clemens    1997  starter          1          1           2   \n",
      "24    Roger Clemens    1987  starter          3          2           4   \n",
      "97      Kevin Brown    2000  starter          4          3          16   \n",
      "\n",
      "    WHIP+_rank  AVG+_rank  BB%+_rank  WAR_rank  ...  IP_rank  K%+_rank  \\\n",
      "36           1          2          1         2  ...        6         9   \n",
      "14           2          2         25         1  ...        1         2   \n",
      "31           5         10         17         1  ...       13         6   \n",
      "17           5          6         16         1  ...        6         5   \n",
      "44           1          4          2         1  ...        1         8   \n",
      "12           4          8         17         1  ...        2         6   \n",
      "6            2          3         32         1  ...        3         1   \n",
      "1            3          3         21         1  ...        1         4   \n",
      "24           7         11         27         1  ...        2         6   \n",
      "97           2          3          9         4  ...        8         6   \n",
      "\n",
      "    WPA_rank  WPA/LI_rank  K/BB+_rank  K-BB%_rank  Clutch_rank  QS_rank  \\\n",
      "36         1            1           1           3           17        2   \n",
      "14         1            2           4           1            1        1   \n",
      "31         1            1           3           3            4        2   \n",
      "17         1            1           4           4           20        2   \n",
      "44         1            1           1           2           47        1   \n",
      "12         1            2           6           4           25        1   \n",
      "6          2            2           2           1           35        1   \n",
      "1          3            1           4           4           40        5   \n",
      "24         1            1           1           3           20        9   \n",
      "97         3            4           4           3           31        1   \n",
      "\n",
      "    mean_mlb_rank  mlb_rank  \n",
      "36         3.3125         1  \n",
      "14         3.3750         1  \n",
      "31         4.3750         1  \n",
      "17         4.8125         1  \n",
      "44         5.0000         1  \n",
      "12         5.1875         1  \n",
      "6          5.8125         2  \n",
      "1          5.9375         1  \n",
      "24         6.2500         1  \n",
      "97         6.5000         1  \n",
      "\n",
      "[10 rows x 21 columns]\n"
     ]
    }
   ],
   "source": [
    "print(starter.loc[:, rank_columns].sort_values('mean_mlb_rank', ascending=True).head(10))"
   ]
  },
  {
   "cell_type": "code",
   "execution_count": 53,
   "id": "5e83308b-8ca8-4e55-81cf-014ee9f92899",
   "metadata": {},
   "outputs": [
    {
     "name": "stdout",
     "output_type": "stream",
     "text": [
      "                Name  Season      pos  ERA-_rank  FIP-_rank  HR/9+_rank  \\\n",
      "305     Tarik Skubal    2024  starter          4          2          15   \n",
      "141       Chris Sale    2024  starter          3          1           1   \n",
      "542     Zack Wheeler    2024  starter          6         12          25   \n",
      "1053     Paul Skenes    2024  starter          2          3          14   \n",
      "945    Logan Gilbert    2024  starter         29         17          32   \n",
      "711        Seth Lugo    2024  starter          8         18          13   \n",
      "595      Cole Ragans    2024  starter         20          7          17   \n",
      "1222  Framber Valdez    2024  starter         10          9           7   \n",
      "1781  Reynaldo López    2024  starter          1         11          12   \n",
      "1171   Hunter Greene    2024  starter          7         16          11   \n",
      "\n",
      "      WHIP+_rank  AVG+_rank  BB%+_rank  WAR_rank  ...  IP_rank  K%+_rank  \\\n",
      "305            5         12          9         2  ...        7         7   \n",
      "141            7         14         16         1  ...       15         4   \n",
      "542            4          4         49         4  ...        8        11   \n",
      "1053           6          9         42        11  ...       80         2   \n",
      "945            2          8          7        10  ...        3        17   \n",
      "711           25         43         22         6  ...        1        62   \n",
      "595           34         19         73         5  ...       14         8   \n",
      "1222          21         18         67        18  ...       31        35   \n",
      "1781          27         20         70        24  ...       75        21   \n",
      "1171          10          1         89        15  ...       58        12   \n",
      "\n",
      "      WPA_rank  WPA/LI_rank  K/BB+_rank  K-BB%_rank  Clutch_rank  QS_rank  \\\n",
      "305          2            2           3           4           30        4   \n",
      "141          1            1           7           2           65       12   \n",
      "542          3            5          21          14           10        1   \n",
      "1053         5            8          12           3           24       24   \n",
      "945         32            3           8           9          101        2   \n",
      "711          4            4          35          46           33        4   \n",
      "595         10           12          39          13           80        8   \n",
      "1222         8           10          58          39           38       20   \n",
      "1781         6           13          48          27           12       38   \n",
      "1171         7            7          59          22           62       38   \n",
      "\n",
      "      mean_mlb_rank  mlb_rank  \n",
      "305          6.9375         1  \n",
      "141          9.4375         2  \n",
      "542         11.6250         3  \n",
      "1053        15.4375         4  \n",
      "945         18.8750         5  \n",
      "711         21.2500         6  \n",
      "595         22.8750         7  \n",
      "1222        25.3750         8  \n",
      "1781        26.0625         9  \n",
      "1171        26.5000        10  \n",
      "\n",
      "[10 rows x 21 columns]\n"
     ]
    }
   ],
   "source": [
    "print(starter_24.loc[:, rank_columns].sort_values('mean_mlb_rank', ascending=True).head(10))"
   ]
  },
  {
   "cell_type": "code",
   "execution_count": 54,
   "id": "476a687f-1843-4626-b2e6-505c948adb51",
   "metadata": {},
   "outputs": [],
   "source": [
    "mlb_relief = relief.copy()\n",
    "mlb_relief_24 = relief_24.copy()\n",
    "mlb_starter = starter.copy()\n",
    "mlb_starter_24 = starter_24.copy()"
   ]
  },
  {
   "cell_type": "code",
   "execution_count": 55,
   "id": "76afac63-a13c-48de-87d4-20fa6abae5ed",
   "metadata": {
    "scrolled": true
   },
   "outputs": [],
   "source": [
    "rookie_relief = pd.merge(rookie_relief, mlb_relief[['Season', 'MLBAMID', 'mlb_rank', 'mean_mlb_rank']],\n",
    "                           on = ['Season', 'MLBAMID'],\n",
    "                           how='left'\n",
    "                          ).sort_values('mean_mlb_rank', \n",
    "                                        ascending=False)\n",
    "\n",
    "rookie_relief['rookie_rank'] = rookie_relief.groupby('Season')['mean_rookie_rank'].rank(ascending=True, \n",
    "                                                                                        na_option='keep').astype('int64')\n",
    "\n",
    "rookie_relief_24 = pd.merge(rookie_relief_24, mlb_relief_24[['Season', 'MLBAMID', 'mlb_rank', 'mean_mlb_rank']],\n",
    "                           on = ['Season', 'MLBAMID'],\n",
    "                           how='left'\n",
    "                          ).sort_values('mean_mlb_rank', \n",
    "                                        ascending=False)\n",
    "\n",
    "rookie_relief_24['rookie_rank'] = rookie_relief_24.groupby('Season')['mean_rookie_rank'].rank(ascending=True, \n",
    "                                                                                              na_option='keep').astype('int64')"
   ]
  },
  {
   "cell_type": "code",
   "execution_count": 56,
   "id": "a4161e3b-cc4b-47e0-a23d-f5d396209b6e",
   "metadata": {},
   "outputs": [],
   "source": [
    "rookie_starter = pd.merge(rookie_starter, mlb_starter[['Season', 'MLBAMID', 'mlb_rank', 'mean_mlb_rank']],\n",
    "                           on = ['Season', 'MLBAMID'],\n",
    "                           how='left'\n",
    "                          ).sort_values('mean_mlb_rank', \n",
    "                                        ascending=True)\n",
    "\n",
    "rookie_starter['rookie_rank'] = rookie_starter.groupby('Season')['mean_rookie_rank'].rank(ascending=True, \n",
    "                                                                                        na_option='keep').astype('int64')\n",
    "\n",
    "rookie_starter_24 = pd.merge(rookie_starter_24, mlb_starter_24[['Season', 'MLBAMID', 'mlb_rank', 'mean_mlb_rank']],\n",
    "                           on = ['Season', 'MLBAMID'],\n",
    "                           how='left'\n",
    "                          ).sort_values('mean_mlb_rank', \n",
    "                                        ascending=True)\n",
    "\n",
    "rookie_starter_24['rookie_rank'] = rookie_starter_24.groupby('Season')['mean_rookie_rank'].rank(ascending=True, \n",
    "                                                                                                na_option='keep').astype('int64')"
   ]
  },
  {
   "cell_type": "code",
   "execution_count": 57,
   "id": "84ca765c-c4a0-493c-beb9-e88127da236d",
   "metadata": {
    "scrolled": true
   },
   "outputs": [
    {
     "name": "stdout",
     "output_type": "stream",
     "text": [
      "     Season                 Name Team   W   L   G  GS  CG  ShO  QS  ...  \\\n",
      "3      1981  Fernando Valenzuela  LAD  13   7  25  25  11    8  16  ...   \n",
      "1      1975      John Montefusco  SFG  15   9  34  34  10    4  23  ...   \n",
      "0      1984        Dwight Gooden  NYM  17   9  31  31   7    3  21  ...   \n",
      "2      1995           Hideo Nomo  LAD  13   6  28  28   4    3  18  ...   \n",
      "7      1980          Britt Burns  CHW  14  13  32  32  11    1  21  ...   \n",
      "36     1981        Dave Righetti  NYY   8   4  15  15   2    0  13  ...   \n",
      "20     1984       Orel Hershiser  LAD   9   6  20  20   8    4  16  ...   \n",
      "6      1976         Mark Fidrych  DET  19   9  29  29  24    4  23  ...   \n",
      "103    1992           Cal Eldred  MIL  11   2  14  14   2    1  12  ...   \n",
      "33     1995        Ismael Valdez  LAD  13  11  27  27   6    2  18  ...   \n",
      "\n",
      "     WPA_rank  WPA/LI_rank  K/BB+_rank  K-BB%_rank  Clutch_rank  QS_rank  \\\n",
      "3           1            1           1           1            1        1   \n",
      "1           1            1           2           1            1        1   \n",
      "0           1            1           2           1            7        3   \n",
      "2           1            1           2           1            7        1   \n",
      "7           1            1           2           2            1        1   \n",
      "36          2            2           2           2            3        2   \n",
      "20          2            2           3           3            8        5   \n",
      "6           1            1           1           3            4        1   \n",
      "103         1            1           1           1            2        3   \n",
      "33          2            2           3           3           11        1   \n",
      "\n",
      "     mean_rookie_rank  rookie_rank  mlb_rank  mean_mlb_rank  \n",
      "3              1.5000            1         1         9.4375  \n",
      "1              1.4375            1         4        13.0000  \n",
      "0              2.2500            1         1        13.3750  \n",
      "2              2.1875            1         5        15.3125  \n",
      "7              1.6250            1         3        15.9375  \n",
      "36             2.0625            2         8        18.1875  \n",
      "20             3.1250            2         3        18.3125  \n",
      "6              1.8750            1         9        22.3750  \n",
      "103            1.5625            1        12        22.5000  \n",
      "33             3.1250            2        10        22.8125  \n",
      "\n",
      "[10 rows x 55 columns]\n"
     ]
    }
   ],
   "source": [
    "print(rookie_starter.head(10))"
   ]
  },
  {
   "cell_type": "markdown",
   "id": "70060ff7-4508-48a7-bfc7-0508bc50933b",
   "metadata": {},
   "source": [
    "# Batters\n",
    "\n",
    "## Rookies"
   ]
  },
  {
   "cell_type": "code",
   "execution_count": 58,
   "id": "fd8a324f-e3a1-43a3-b00f-8659bd3bb17a",
   "metadata": {},
   "outputs": [
    {
     "name": "stdout",
     "output_type": "stream",
     "text": [
      "Columns for Rookie Batters:\n",
      "Season  PA   BB  AVG   Off   OBP+  WPA/LI   decade\n",
      "Name    HR   SO  BB/K  wRC+  SLG+  Clutch   sb_att\n",
      "Team    R    SB  wOBA  BB%+  ISO+  WAR      sb_pct\n",
      "G       RBI  CS  Def   K%+   WPA   MLBAMID  WAR/G \n"
     ]
    }
   ],
   "source": [
    "### Batters have a minimum of 300 PA in a Season\n",
    "\n",
    "batter = pd.read_csv('../data/rookies/fg_bat.csv')\n",
    "batter.drop(columns=['NameASCII', 'PlayerId'], inplace=True)\n",
    "batter = batter[~(batter['Season'].isin([1994, 2020]))]\n",
    "\n",
    "batter = assign_decade(batter)\n",
    "\n",
    "batter['SB'] = batter['SB'].fillna(0) # fill in stolen bases with 0\n",
    "batter['CS'] = batter['CS'].fillna(0) # fill in caught stealing with 0\n",
    "\n",
    "batter['sb_att'] = batter['SB'] + batter['CS'] # stolen base attempts\n",
    "batter['sb_pct'] = batter['SB'] / batter['sb_att'] # stolen base percentage\n",
    "batter['WAR/G'] = (batter['WAR']) / batter['G'] # WAR per game\n",
    "\n",
    "batter['sb_pct'] = batter['sb_pct'].fillna(0)\n",
    "\n",
    "batter_cols = batter.columns.tolist()\n",
    "print(f\"Columns for Rookie Batters:\")\n",
    "cli.columnize(batter_cols, displaywidth=50)"
   ]
  },
  {
   "cell_type": "code",
   "execution_count": 59,
   "id": "5289a68d-5337-409c-b550-26b66812d44f",
   "metadata": {},
   "outputs": [],
   "source": [
    "# Dictionary for mapping old abbreviations to current ones\n",
    "team_map = {\n",
    "    'CAL': 'LAA',  # California Angels to Los Angeles Angels\n",
    "    'ANA': 'LAA',  # Anaheim Angels to Los Angeles Angels\n",
    "    'FLA': 'MIA',  # Florida Marlins to Miami Marlins\n",
    "    'MON': 'WSN',  # Montreal Expos to Washington Nationals\n",
    "    'TBD': 'TBR'   # Tampa Bay Devil Rays to Tampa Bay Rays\n",
    "}\n",
    "\n",
    "# Replace the 'Team' column with updated abbreviations using .replace()\n",
    "batter['Team'] = batter['Team'].replace(team_map)"
   ]
  },
  {
   "cell_type": "code",
   "execution_count": 60,
   "id": "7b7a8fb6-0153-418e-a95f-a566094ce803",
   "metadata": {},
   "outputs": [],
   "source": [
    "nl_teams = ['LAD', 'SDP', 'CIN', 'SFG', 'ATL',\n",
    "            'NYM', 'MIA', 'MIL', 'CHC', 'STL',\n",
    "            'COL', 'PIT', 'ARI', 'PHI', 'WSN']\n",
    "al_teams = ['OAK', 'HOU', 'LAA', 'SEA', 'CLE',\n",
    "            'BAL', 'NYY', 'BOS', 'KCR', 'MIN',\n",
    "            'TOR', 'TEX', 'CHW', 'TBR', 'DET']\n",
    "# add league for the Relievers\n",
    "batter.loc[batter['Team'].isin(nl_teams), 'league'] = 'NL'\n",
    "batter.loc[batter['Team'].isin(al_teams), 'league'] = 'AL'"
   ]
  },
  {
   "cell_type": "code",
   "execution_count": 61,
   "id": "11484570-38fc-4331-bdb6-8ae8fafd066b",
   "metadata": {},
   "outputs": [
    {
     "name": "stdout",
     "output_type": "stream",
     "text": [
      "There are 787 Batters in the data\n"
     ]
    }
   ],
   "source": [
    "print(f\"There are {batter.shape[0]} Batters in the data\")"
   ]
  },
  {
   "cell_type": "markdown",
   "id": "5de6f021-61d1-442a-940f-4fefe5c9ff18",
   "metadata": {},
   "source": [
    "### Rookie of the Month/Year"
   ]
  },
  {
   "cell_type": "code",
   "execution_count": 62,
   "id": "9ad82de9-cac4-4a50-9f5f-fe3a0a9804dc",
   "metadata": {},
   "outputs": [
    {
     "name": "stdout",
     "output_type": "stream",
     "text": [
      "Columns for Rookie of the Year data:\n",
      "['award_id', 'season', 'rookie_of_the_year']\n",
      "\n",
      "\n"
     ]
    }
   ],
   "source": [
    "roy = pd.read_csv('../data/awards/roy_awards.csv')\n",
    "roy.rename(columns={'player_id' : 'rookie_of_the_year'}, inplace=True)\n",
    "\n",
    "print(f\"Columns for Rookie of the Year data:\")\n",
    "print(roy.columns.tolist())\n",
    "print(\"\\n\")"
   ]
  },
  {
   "cell_type": "code",
   "execution_count": 63,
   "id": "89c7972c-e90d-4b55-b20e-d03da42b87b8",
   "metadata": {},
   "outputs": [],
   "source": [
    "batter = pd.merge(batter, roy,\n",
    "        left_on = 'Season', right_on = 'season',\n",
    "        how = 'left')\n",
    "\n",
    "batter.drop(columns='season', inplace=True)\n",
    "\n",
    "batter.loc[batter['award_id'] == 'ALROY', 'award_id'] = 'AL'\n",
    "batter.loc[batter['award_id'] == 'NLROY', 'award_id'] = 'NL'\n",
    "batter.loc[batter['award_id'].isna(), 'award_id'] = batter.loc[batter['award_id'].isna(), 'league']\n",
    "\n",
    "batter = batter.drop_duplicates(subset=['Season', 'MLBAMID'])\n",
    "\n",
    "batter.dropna(subset='league', inplace=True)"
   ]
  },
  {
   "cell_type": "code",
   "execution_count": 64,
   "id": "3ac8b3ac-c9bf-45d9-9462-fd9a96650059",
   "metadata": {},
   "outputs": [],
   "source": [
    "batter_24 = batter[batter['Season'] == 2024]\n",
    "\n",
    "batter = batter[batter['Season'] != 2024]"
   ]
  },
  {
   "cell_type": "code",
   "execution_count": 65,
   "id": "d9395bea-c1c9-41ac-9107-b59a87f14c1a",
   "metadata": {
    "scrolled": true
   },
   "outputs": [
    {
     "name": "stdout",
     "output_type": "stream",
     "text": [
      "    Season               Name Team    G   PA  HR    R  RBI   BB   SO  ...  \\\n",
      "0     2012         Mike Trout  LAA  139  639  30  129   83   67  139  ...   \n",
      "2     2017        Aaron Judge  NYY  155  678  52  128  114  127  208  ...   \n",
      "4     1993        Mike Piazza  LAD  149  602  35   81  112   46   86  ...   \n",
      "6     2001      Albert Pujols  STL  161  676  37  112  130   69   93  ...   \n",
      "8     1975          Fred Lynn  BOS  145  605  21  103  105   62   90  ...   \n",
      "10    1997  Nomar Garciaparra  BOS  153  734  30  122   98   35   92  ...   \n",
      "12    1977      Mitchell Page  OAK  145  592  21   85   75   78   95  ...   \n",
      "14    2015        Kris Bryant  CHC  151  650  26   87   99   77  199  ...   \n",
      "16    2001      Ichiro Suzuki  SEA  157  738   8  127   69   30   53  ...   \n",
      "18    1992       Kenny Lofton  CLE  148  651   5   96   42   68   54  ...   \n",
      "\n",
      "      Clutch        WAR  MLBAMID  decade  sb_att    sb_pct     WAR/G  league  \\\n",
      "0  -0.321035  10.064204   545361   2010s      54  0.907407  0.072404      AL   \n",
      "2  -3.635870   8.716006   592450   2010s      13  0.692308  0.056232      AL   \n",
      "4  -1.434419   7.431850   120536   1990s       7  0.428571  0.049878      NL   \n",
      "6  -1.519321   7.216440   405395   2000s       4  0.250000  0.044823      NL   \n",
      "8  -0.073660   7.109781   118040   1970s      15  0.666667  0.049033      AL   \n",
      "10  0.459072   6.386973   114596   1990s      31  0.709677  0.041745      AL   \n",
      "12 -0.472434   6.240343   120172   1970s      47  0.893617  0.043037      AL   \n",
      "14  1.668437   6.098145   592178   2010s      17  0.764706  0.040385      NL   \n",
      "16  1.021419   6.017634   400085   2000s      70  0.800000  0.038329      AL   \n",
      "18  0.770708   5.782924   117863   1990s      78  0.846154  0.039074      AL   \n",
      "\n",
      "    award_id  rookie_of_the_year  \n",
      "0         AL                   1  \n",
      "2         AL                   1  \n",
      "4         AL                   0  \n",
      "6         AL                   0  \n",
      "8         AL                   1  \n",
      "10        AL                   1  \n",
      "12        AL                   0  \n",
      "14        AL                   0  \n",
      "16        AL                   1  \n",
      "18        AL                   0  \n",
      "\n",
      "[10 rows x 35 columns]\n",
      "\n",
      "\n",
      "     Season                 Name Team    G   PA  HR   R  RBI  BB   SO  ...  \\\n",
      "48     2024      Jackson Merrill  SDP  146  555  24  74   86  26   98  ...   \n",
      "139    2024      Jackson Chourio  MIL  136  527  21  76   77  38  106  ...   \n",
      "152    2024         Austin Wells  NYY  105  374  13  39   50  42   79  ...   \n",
      "172    2024        Colton Cowser  BAL  142  518  20  70   62  49  158  ...   \n",
      "231    2024           Joey Ortiz  MIL  130  469  10  54   51  55   92  ...   \n",
      "232    2024           Masyn Winn  STL  139  586  13  73   50  38  103  ...   \n",
      "275    2024         Wilyer Abreu  BOS  120  405  15  55   57  35  117  ...   \n",
      "316    2024  Pete Crow-Armstrong  CHC  111  365  10  42   46  19   86  ...   \n",
      "319    2024          Jacob Young  WSN  139  487   3  73   35  27   95  ...   \n",
      "386    2024        Michael Busch  CHC  141  531  20  71   63  58  154  ...   \n",
      "\n",
      "       Clutch       WAR  MLBAMID  decade  sb_att    sb_pct     WAR/G  league  \\\n",
      "48   0.146199  4.744176   701538   2020s      19  0.842105  0.032494      NL   \n",
      "139  0.849319  3.708329   694192   2020s      27  0.740741  0.027267      NL   \n",
      "152  0.445602  3.643494   669224   2020s       3  0.333333  0.034700      AL   \n",
      "172 -2.463707  3.487090   681297   2020s      12  0.666667  0.024557      AL   \n",
      "231 -0.953437  3.172689   687401   2020s      15  0.600000  0.024405      NL   \n",
      "232 -0.176143  3.159101   691026   2020s      16  0.687500  0.022727      NL   \n",
      "275 -0.454349  2.969278   677800   2020s      11  0.727273  0.024744      AL   \n",
      "316 -0.384764  2.717865   691718   2020s      29  0.931034  0.024485      NL   \n",
      "319  0.872725  2.710548   696285   2020s      41  0.780488  0.019500      NL   \n",
      "386  0.448751  2.487542   683737   2020s       3  0.666667  0.017642      NL   \n",
      "\n",
      "     award_id  rookie_of_the_year  \n",
      "48         NL                 NaN  \n",
      "139        NL                 NaN  \n",
      "152        AL                 NaN  \n",
      "172        AL                 NaN  \n",
      "231        NL                 NaN  \n",
      "232        NL                 NaN  \n",
      "275        AL                 NaN  \n",
      "316        NL                 NaN  \n",
      "319        NL                 NaN  \n",
      "386        NL                 NaN  \n",
      "\n",
      "[10 rows x 35 columns]\n"
     ]
    }
   ],
   "source": [
    "batter['rookie_of_the_year'] = np.where(batter['rookie_of_the_year'] == batter['MLBAMID'], 1, 0)\n",
    "\n",
    "print(batter.head(10))\n",
    "print(\"\\n\")\n",
    "print(batter_24.head(10))"
   ]
  },
  {
   "cell_type": "code",
   "execution_count": 66,
   "id": "d7609546-f04c-4da8-926b-cd72d795dced",
   "metadata": {},
   "outputs": [
    {
     "name": "stdout",
     "output_type": "stream",
     "text": [
      "Season  PA   BB  AVG   Off   OBP+  WPA/LI   decade\n",
      "Name    HR   SO  BB/K  wRC+  SLG+  Clutch   sb_att\n",
      "Team    R    SB  wOBA  BB%+  ISO+  WAR      sb_pct\n",
      "G       RBI  CS  Def   K%+   WPA   MLBAMID  WAR/G \n"
     ]
    }
   ],
   "source": [
    "cli.columnize(batter_cols, displaywidth=50)"
   ]
  },
  {
   "cell_type": "code",
   "execution_count": 67,
   "id": "a2f023a4-bc2c-4326-8255-56739b4d8449",
   "metadata": {},
   "outputs": [],
   "source": [
    "low_cols = ['K%+']\n",
    "high_cols = ['wRC+', 'BB%+', 'BB/K', 'OBP+', 'SLG+', \n",
    "             'ISO+','WAR', 'WAR/G', 'wOBA', 'Def', 'Off',\n",
    "             'PA', 'WPA', 'WPA/LI', 'Clutch']"
   ]
  },
  {
   "cell_type": "code",
   "execution_count": 68,
   "id": "cc15c4ec-1240-425f-a9d6-46a07ffde375",
   "metadata": {},
   "outputs": [],
   "source": [
    "# Rank the low_cols in descending order with percentile-based ranking\n",
    "batter[[col + '_rank' for col in low_cols]] = batter.groupby('Season')[low_cols].rank(ascending=True, \n",
    "                                                                                      na_option='keep').astype('int64')\n",
    "\n",
    "# Rank the high_cols in ascending order with percentile-based ranking\n",
    "batter[[col + '_rank' for col in high_cols]] = batter.groupby('Season')[high_cols].rank(ascending=False, \n",
    "                                                                                        na_option='keep').astype('int64')\n",
    "\n",
    "# Select columns that end with '_rank'\n",
    "rank_columns = batter.filter(regex='_rank$').columns.tolist()\n",
    "\n",
    "# Calculate the mean rank\n",
    "batter['mean_rookie_rank'] = batter[rank_columns].mean(axis=1)\n",
    "\n",
    "# Rank mean_rookie_rank in descending order with percentile-based ranking\n",
    "batter['rookie_rank'] = batter.groupby('Season')['mean_rookie_rank'].rank(ascending=True, na_option='keep').astype('int64')"
   ]
  },
  {
   "cell_type": "code",
   "execution_count": 69,
   "id": "3203bcdb-820a-477f-afe2-86f38da16743",
   "metadata": {},
   "outputs": [],
   "source": [
    "# Rank the low_cols in descending order with percentile-based ranking\n",
    "batter_24[[col + '_rank' for col in low_cols]] = batter_24.groupby('Season')[low_cols].rank(ascending=True, \n",
    "                                                                                            na_option='keep').astype('int64')\n",
    "\n",
    "# Rank the high_cols in ascending order with percentile-based ranking\n",
    "batter_24[[col + '_rank' for col in high_cols]] = batter_24.groupby('Season')[high_cols].rank(ascending=False, \n",
    "                                                                                              na_option='keep').astype('int64')\n",
    "\n",
    "# Select columns that end with '_rank'\n",
    "rank_columns = batter_24.filter(regex='_rank$').columns.tolist()\n",
    "\n",
    "# Calculate the mean rank\n",
    "batter_24['mean_rookie_rank'] = batter_24[rank_columns].mean(axis=1)\n",
    "\n",
    "# Rank mean_rookie_rank in descending order with percentile-based ranking\n",
    "batter_24['rookie_rank'] = batter_24.groupby('Season')['mean_rookie_rank'].rank(ascending=True, na_option='keep').astype('int64')"
   ]
  },
  {
   "cell_type": "code",
   "execution_count": 70,
   "id": "2a4ce2d4-2c37-4fe2-9ea9-dfb78344e52d",
   "metadata": {
    "scrolled": true
   },
   "outputs": [
    {
     "name": "stdout",
     "output_type": "stream",
     "text": [
      "               Name  Season  K%+_rank  wRC+_rank  BB%+_rank  BB/K_rank  \\\n",
      "163   Butch Wynegar    1976         2          1          2          1   \n",
      "137      Tim Raines    1981         2          1          1          1   \n",
      "28      Alvin Davis    1984         4          2          1          1   \n",
      "18     Kenny Lofton    1992         1          4          2          1   \n",
      "282     Todd Helton    1998         2          2          3          1   \n",
      "907  Jason Thompson    1976         3          2          1          2   \n",
      "6     Albert Pujols    2001         6          1          1          2   \n",
      "8         Fred Lynn    1975         7          1          2          5   \n",
      "374    Dwight Smith    1989         3          1          3          3   \n",
      "419    Hubie Brooks    1981         4          2          4          4   \n",
      "\n",
      "     OBP+_rank  SLG+_rank  ISO+_rank  WAR_rank  ...  wOBA_rank  Def_rank  \\\n",
      "163          1          2          3         1  ...          1         1   \n",
      "137          1          1          1         1  ...          1         3   \n",
      "28           2          1          1         1  ...          1         4   \n",
      "18           1          5          6         1  ...          3         1   \n",
      "282          2          1          1         1  ...          1         5   \n",
      "907          2          1          1         3  ...          2         3   \n",
      "6            1          1          1         1  ...          1         5   \n",
      "8            1          1          1         1  ...          1         2   \n",
      "374          1          1          1         1  ...          1         6   \n",
      "419          2          2          2         2  ...          2         2   \n",
      "\n",
      "     Off_rank  PA_rank  WPA_rank  WPA/LI_rank  Clutch_rank  \\\n",
      "163         1        1         1            1            1   \n",
      "137         1        3         1            1            2   \n",
      "28          1        2         1            1            2   \n",
      "18          2        1         1            2            1   \n",
      "282         2        3         2            2            4   \n",
      "907         2        4         2            2            4   \n",
      "6           1        3         1            1            9   \n",
      "8           1        4         1            1            8   \n",
      "374         1        7         2            1            7   \n",
      "419         2        2         2            2            4   \n",
      "\n",
      "     rookie_of_the_year  mean_rookie_rank  rookie_rank  \n",
      "163                   0            1.3125            1  \n",
      "137                   0            1.3750            1  \n",
      "28                    1            1.6875            1  \n",
      "18                    0            2.0625            1  \n",
      "282                   0            2.1250            1  \n",
      "907                   0            2.2500            2  \n",
      "6                     0            2.2500            1  \n",
      "8                     1            2.3750            1  \n",
      "374                   0            2.5000            1  \n",
      "419                   0            2.5000            2  \n",
      "\n",
      "[10 rows x 21 columns]\n"
     ]
    }
   ],
   "source": [
    "add_cols = ['rookie_of_the_year', 'mean_rookie_rank', 'rookie_rank']\n",
    "rank_columns = rank_columns + add_cols\n",
    "\n",
    "rank_columns.insert(0, 'Name')\n",
    "rank_columns.insert(1, 'Season')\n",
    "print(batter.loc[:, rank_columns].sort_values('mean_rookie_rank', ascending=True).head(10))"
   ]
  },
  {
   "cell_type": "code",
   "execution_count": 71,
   "id": "f5b709c1-ce9c-4a0f-986a-7e10de59dd75",
   "metadata": {},
   "outputs": [
    {
     "name": "stdout",
     "output_type": "stream",
     "text": [
      "                Name  Season  K%+_rank  wRC+_rank  BB%+_rank  BB/K_rank  \\\n",
      "139  Jackson Chourio    2024        10          4         11         10   \n",
      "48   Jackson Merrill    2024         4          2         20         18   \n",
      "589  Spencer Horwitz    2024         2          1          4          2   \n",
      "152     Austin Wells    2024        13          7          3          4   \n",
      "386    Michael Busch    2024        21          3          5          8   \n",
      "231       Joey Ortiz    2024         8          8          1          3   \n",
      "275     Wilyer Abreu    2024        20          5         10         15   \n",
      "232       Masyn Winn    2024         3         10         15          9   \n",
      "172    Colton Cowser    2024        22          6          8         14   \n",
      "654   Wyatt Langford    2024        12         11          9          6   \n",
      "\n",
      "     OBP+_rank  SLG+_rank  ISO+_rank  WAR_rank  ...  wOBA_rank  Def_rank  \\\n",
      "139          7          3          3         2  ...          4        15   \n",
      "48          10          1          2         1  ...          2        11   \n",
      "589          1          4          6        12  ...          1        18   \n",
      "152          3          7          7         3  ...          6         1   \n",
      "386          5          5          4        10  ...          5        21   \n",
      "231          4         11          9         5  ...          8         3   \n",
      "275          6          2          1         7  ...          3        10   \n",
      "232         14          8         15         6  ...         10         8   \n",
      "172          8          6          5         4  ...          7         9   \n",
      "654          9         13         14        14  ...         11        19   \n",
      "\n",
      "     Off_rank  PA_rank  WPA_rank  WPA/LI_rank  Clutch_rank  \\\n",
      "139         2        7         2            2            4   \n",
      "48          1        3         1            1           11   \n",
      "589         6       20         3            4            2   \n",
      "152         7       18         5            8            7   \n",
      "386         3        5         4            3            6   \n",
      "231         8       11        17           10           21   \n",
      "275         4       15         9            5           19   \n",
      "232        10        1        14           13           15   \n",
      "172         5        8        22           11           22   \n",
      "654         9        9         6           14            5   \n",
      "\n",
      "     rookie_of_the_year  mean_rookie_rank  rookie_rank  \n",
      "139                 NaN            5.5625            1  \n",
      "48                  NaN            5.6250            2  \n",
      "589                 NaN            5.8750            3  \n",
      "152                 NaN            6.2500            4  \n",
      "386                 NaN            7.4375            5  \n",
      "231                 NaN            8.3750            6  \n",
      "275                 NaN            8.4375            7  \n",
      "232                 NaN           10.0000            8  \n",
      "172                 NaN           10.1250            9  \n",
      "654                 NaN           10.9375           10  \n",
      "\n",
      "[10 rows x 21 columns]\n"
     ]
    }
   ],
   "source": [
    "print(batter_24.loc[:, rank_columns].sort_values('mean_rookie_rank', ascending=True).head(10))"
   ]
  },
  {
   "cell_type": "code",
   "execution_count": 72,
   "id": "3496571f-39a8-45a4-b84e-a1abc1872501",
   "metadata": {},
   "outputs": [],
   "source": [
    "rookie_batters = batter.copy()\n",
    "rookie_batters_24 = batter_24.copy()\n",
    "rookie_batters['pos'] = 'batter'\n",
    "rookie_batters_24['pos'] = 'batter'"
   ]
  },
  {
   "cell_type": "markdown",
   "id": "04c01e2c-6fec-46ea-9841-e33b65b92a01",
   "metadata": {},
   "source": [
    "## All MLB Batters"
   ]
  },
  {
   "cell_type": "code",
   "execution_count": 73,
   "id": "935cabfd-4c41-4b99-abf3-96595ae97f95",
   "metadata": {},
   "outputs": [
    {
     "name": "stdout",
     "output_type": "stream",
     "text": [
      "Columns for Rookie Batters:\n",
      "Season  PA   BB  AVG   Off   OBP+  WPA/LI   decade\n",
      "Name    HR   SO  BB/K  wRC+  SLG+  Clutch   sb_att\n",
      "Team    R    SB  wOBA  BB%+  ISO+  WAR      sb_pct\n",
      "G       RBI  CS  Def   K%+   WPA   MLBAMID  WAR/G \n"
     ]
    }
   ],
   "source": [
    "batter = pd.read_csv('../data/mlb/fg_bat.csv')\n",
    "batter.drop(columns=['NameASCII', 'PlayerId'], inplace=True)\n",
    "batter = batter[~(batter['Season'].isin([1994, 2020]))]\n",
    "\n",
    "batter = assign_decade(batter)\n",
    "\n",
    "batter['SB'] = batter['SB'].fillna(0)\n",
    "batter['CS'] = batter['CS'].fillna(0)\n",
    "\n",
    "batter['sb_att'] = batter['SB'] + batter['CS']\n",
    "batter['sb_pct'] = batter['SB'] / batter['sb_att']\n",
    "batter['WAR/G'] = (batter['WAR']) / batter['G']\n",
    "\n",
    "batter['sb_pct'] = batter['sb_pct'].fillna(0)\n",
    "\n",
    "batter_cols = batter.columns.tolist()\n",
    "print(f\"Columns for Rookie Batters:\")\n",
    "cli.columnize(batter_cols, displaywidth=50)"
   ]
  },
  {
   "cell_type": "code",
   "execution_count": 74,
   "id": "b1e6eab9-2abb-4c82-88d0-732513c0eec2",
   "metadata": {},
   "outputs": [
    {
     "name": "stdout",
     "output_type": "stream",
     "text": [
      "Season  PA   BB  AVG   Off   OBP+  WPA/LI   decade\n",
      "Name    HR   SO  BB/K  wRC+  SLG+  Clutch   sb_att\n",
      "Team    R    SB  wOBA  BB%+  ISO+  WAR      sb_pct\n",
      "G       RBI  CS  Def   K%+   WPA   MLBAMID  WAR/G \n"
     ]
    }
   ],
   "source": [
    "cli.columnize(batter.columns.tolist(), displaywidth = 50)"
   ]
  },
  {
   "cell_type": "code",
   "execution_count": 75,
   "id": "11a09f94-ee51-4e86-bb88-33f0b613543b",
   "metadata": {},
   "outputs": [],
   "source": [
    "# Dictionary for mapping old abbreviations to current ones\n",
    "team_map = {\n",
    "    'CAL': 'LAA',  # California Angels to Los Angeles Angels\n",
    "    'ANA': 'LAA',  # Anaheim Angels to Los Angeles Angels\n",
    "    'FLA': 'MIA',  # Florida Marlins to Miami Marlins\n",
    "    'MON': 'WSN',  # Montreal Expos to Washington Nationals\n",
    "    'TBD': 'TBR'   # Tampa Bay Devil Rays to Tampa Bay Rays\n",
    "}\n",
    "\n",
    "# Replace the 'Team' column with updated abbreviations using .replace()\n",
    "batter['Team'] = batter['Team'].replace(team_map)"
   ]
  },
  {
   "cell_type": "code",
   "execution_count": 76,
   "id": "3bf1ace2-b70a-46a8-8ab8-6c6e27fbd149",
   "metadata": {},
   "outputs": [],
   "source": [
    "nl_teams = ['LAD', 'SDP', 'CIN', 'SFG', 'ATL',\n",
    "            'NYM', 'MIA', 'MIL', 'CHC', 'STL',\n",
    "            'COL', 'PIT', 'ARI', 'PHI', 'WSN']\n",
    "al_teams = ['OAK', 'HOU', 'LAA', 'SEA', 'CLE',\n",
    "            'BAL', 'NYY', 'BOS', 'KCR', 'MIN',\n",
    "            'TOR', 'TEX', 'CHW', 'TBR', 'DET']\n",
    "# add league for batters\n",
    "batter.loc[batter['Team'].isin(nl_teams), 'league'] = 'NL'\n",
    "batter.loc[batter['Team'].isin(al_teams), 'league'] = 'AL'"
   ]
  },
  {
   "cell_type": "code",
   "execution_count": 77,
   "id": "a1b38bd0-8ee5-4de1-adc2-dc64ba906b5d",
   "metadata": {},
   "outputs": [
    {
     "name": "stdout",
     "output_type": "stream",
     "text": [
      "There are 12486 Batters in the data\n"
     ]
    }
   ],
   "source": [
    "print(f\"There are {batter.shape[0]} Batters in the data\")"
   ]
  },
  {
   "cell_type": "code",
   "execution_count": 78,
   "id": "00c03e25-26b6-4acf-89cc-d768facb4a38",
   "metadata": {},
   "outputs": [],
   "source": [
    "batter.dropna(subset='league', inplace=True)"
   ]
  },
  {
   "cell_type": "code",
   "execution_count": 79,
   "id": "3c599623-9f7a-4c77-a3b6-b9b7eec996b7",
   "metadata": {},
   "outputs": [],
   "source": [
    "batter = batter.drop_duplicates(subset=['Season', 'MLBAMID'])\n",
    "\n",
    "batter_24 = batter[batter['Season'] == 2024]\n",
    "\n",
    "batter = batter[batter['Season'] != 2024]"
   ]
  },
  {
   "cell_type": "code",
   "execution_count": 80,
   "id": "8d90c113-e69f-4d3f-ac0d-ab2d82a85098",
   "metadata": {},
   "outputs": [
    {
     "name": "stdout",
     "output_type": "stream",
     "text": [
      "   Season              Name Team    G   PA  HR    R  RBI   BB   SO  ...  \\\n",
      "0    2002       Barry Bonds  SFG  143  612  46  117  110  198   47  ...   \n",
      "1    2001       Barry Bonds  SFG  153  664  73  129  137  177   93  ...   \n",
      "2    2004       Barry Bonds  SFG  147  617  45  129  101  232   41  ...   \n",
      "3    2022       Aaron Judge  NYY  157  696  62  133  131  111  175  ...   \n",
      "4    1975        Joe Morgan  CIN  146  639  17  107   94  132   52  ...   \n",
      "5    1991    Cal Ripken Jr.  BAL  162  717  34   99  114   53   46  ...   \n",
      "6    1993       Barry Bonds  SFG  159  674  46  129  123  126   79  ...   \n",
      "7    2003       Barry Bonds  SFG  130  550  45  111   90  148   58  ...   \n",
      "8    1990  Rickey Henderson  OAK  136  594  28  119   61   97   60  ...   \n",
      "9    2018      Mookie Betts  BOS  136  614  32  129   80   81   91  ...   \n",
      "\n",
      "         WPA     WPA/LI    Clutch        WAR  MLBAMID  decade  sb_att  \\\n",
      "0  10.506586  11.816461 -1.113779  12.691475   111188   2000s      11   \n",
      "1  11.634218  13.042961 -1.043303  12.475504   111188   2000s      16   \n",
      "2  13.059224  11.353557  1.147428  11.885511   111188   2000s       7   \n",
      "3   7.735967   8.602521 -1.431814  11.066769   592450   2020s      19   \n",
      "4   7.272233   6.879737 -0.352911  10.964287   119371   1970s      77   \n",
      "5   4.317044   4.904851 -0.526888  10.571079   121222   1990s       7   \n",
      "6   7.785325   8.438737 -0.425327  10.455426   111188   1990s      41   \n",
      "7   7.992234   8.376898 -0.339718  10.203492   111188   2000s       7   \n",
      "8   6.231078   6.900550 -0.676662  10.203204   115749   1990s      75   \n",
      "9   5.767562   6.437494 -0.145493  10.174209   605141   2010s      36   \n",
      "\n",
      "     sb_pct     WAR/G  league  \n",
      "0  0.818182  0.088752      NL  \n",
      "1  0.812500  0.081539      NL  \n",
      "2  0.857143  0.080854      NL  \n",
      "3  0.842105  0.070489      AL  \n",
      "4  0.870130  0.075098      NL  \n",
      "5  0.857143  0.065254      AL  \n",
      "6  0.707317  0.065757      NL  \n",
      "7  1.000000  0.078488      NL  \n",
      "8  0.866667  0.075024      AL  \n",
      "9  0.833333  0.074810      AL  \n",
      "\n",
      "[10 rows x 33 columns]\n"
     ]
    }
   ],
   "source": [
    "print(batter.head(10))"
   ]
  },
  {
   "cell_type": "code",
   "execution_count": 81,
   "id": "83f39d5f-7835-46e7-bd20-379c9e2dbcce",
   "metadata": {},
   "outputs": [
    {
     "name": "stdout",
     "output_type": "stream",
     "text": [
      "     Season              Name Team    G   PA  HR    R  RBI   BB   SO  ...  \\\n",
      "12     2024       Aaron Judge  NYY  148  660  53  112  132  122  159  ...   \n",
      "15     2024    Bobby Witt Jr.  KCR  151  666  32  122  108   49  100  ...   \n",
      "125    2024  Gunnar Henderson  BAL  148  670  37  113   87   74  145  ...   \n",
      "159    2024         Juan Soto  NYY  146  667  39  117  101  119  110  ...   \n",
      "165    2024  Francisco Lindor  NYM  148  670  31  103   86   54  124  ...   \n",
      "258    2024     Shohei Ohtani  LAD  147  673  47  118  108   77  153  ...   \n",
      "398    2024      Jarren Duran  BOS  148  682  21  104   72   50  147  ...   \n",
      "498    2024   Elly De La Cruz  CIN  149  648  24   98   69   68  201  ...   \n",
      "800    2024       Ketel Marte  ARI  124  533  32   85   87   55   99  ...   \n",
      "858    2024      José Ramírez  CLE  148  641  35  106  107   52   77  ...   \n",
      "\n",
      "          WPA    WPA/LI    Clutch        WAR  MLBAMID  decade  sb_att  \\\n",
      "12   5.433483  8.468687 -2.564329  10.042355   592450   2020s       9   \n",
      "15   4.337748  5.213231 -0.572454   9.886543   677951   2020s      41   \n",
      "125  2.507556  3.155067 -0.291482   7.764989   683002   2020s      22   \n",
      "159  5.451707  6.573910 -0.269676   7.452531   665742   2020s       9   \n",
      "165  3.424776  2.755476  0.804058   7.433451   596019   2020s      31   \n",
      "258  4.835463  5.984344 -1.066743   6.948317   660271   2020s      52   \n",
      "398  2.221947  2.968268 -0.534715   6.396516   680776   2020s      39   \n",
      "498 -0.803197  1.504459 -2.334084   6.083572   682829   2020s      80   \n",
      "800  2.919576  2.641218  0.562781   5.426609   606466   2020s       7   \n",
      "858  2.395911  3.095949 -0.588899   5.333982   608070   2020s      46   \n",
      "\n",
      "       sb_pct     WAR/G  league  \n",
      "12   1.000000  0.067854      AL  \n",
      "15   0.707317  0.065474      AL  \n",
      "125  0.863636  0.052466      AL  \n",
      "159  0.555556  0.051045      AL  \n",
      "165  0.870968  0.050226      NL  \n",
      "258  0.923077  0.047267      NL  \n",
      "398  0.820513  0.043220      AL  \n",
      "498  0.800000  0.040829      NL  \n",
      "800  0.857143  0.043763      NL  \n",
      "858  0.847826  0.036040      AL  \n",
      "\n",
      "[10 rows x 33 columns]\n"
     ]
    }
   ],
   "source": [
    "print(batter_24.head(10))"
   ]
  },
  {
   "cell_type": "code",
   "execution_count": 82,
   "id": "34daa8c8-d8d2-4951-bf3d-1178e7e8c825",
   "metadata": {},
   "outputs": [],
   "source": [
    "# Rank the low_cols in descending order with percentile-based ranking\n",
    "batter[[col + '_rank' for col in low_cols]] = batter.groupby('Season')[low_cols].rank(ascending=True, \n",
    "                                                                                      na_option='keep').astype('int64')\n",
    "\n",
    "# Rank the high_cols in ascending order with percentile-based ranking\n",
    "batter[[col + '_rank' for col in high_cols]] = batter.groupby('Season')[high_cols].rank(ascending=False, \n",
    "                                                                                        na_option='keep').astype('int64')\n",
    "\n",
    "# Select columns that end with '_rank'\n",
    "rank_columns = batter.filter(regex='_rank$').columns.tolist()\n",
    "\n",
    "# Calculate the mean rank for MLB data\n",
    "batter['mean_mlb_rank'] = batter[rank_columns].mean(axis=1)\n",
    "\n",
    "# Rank mean_mlb_rank in descending order with percentile-based ranking\n",
    "batter['mlb_rank'] = batter.groupby('Season')['mean_mlb_rank'].rank(ascending=True, na_option='keep').astype('int64')"
   ]
  },
  {
   "cell_type": "code",
   "execution_count": 83,
   "id": "72d3e2fc-6064-4f3b-bb39-fd4c50ff852a",
   "metadata": {},
   "outputs": [],
   "source": [
    "# Rank the low_cols in descending order with percentile-based ranking\n",
    "batter_24[[col + '_rank' for col in low_cols]] = batter_24.groupby('Season')[low_cols].rank(ascending=True, \n",
    "                                                                                            na_option='keep').astype('int64')\n",
    "\n",
    "# Rank the high_cols in ascending order with percentile-based ranking\n",
    "batter_24[[col + '_rank' for col in high_cols]] = batter_24.groupby('Season')[high_cols].rank(ascending=False, \n",
    "                                                                                              na_option='keep').astype('int64')\n",
    "\n",
    "# Select columns that end with '_rank'\n",
    "rank_columns = batter_24.filter(regex='_rank$').columns.tolist()\n",
    "\n",
    "# Calculate the mean rank for MLB data\n",
    "batter_24['mean_mlb_rank'] = batter_24[rank_columns].mean(axis=1)\n",
    "\n",
    "# Rank mean_mlb_rank in descending order with percentile-based ranking\n",
    "batter_24['mlb_rank'] = batter_24.groupby('Season')['mean_mlb_rank'].rank(ascending=True, na_option='keep').astype('int64')"
   ]
  },
  {
   "cell_type": "code",
   "execution_count": 84,
   "id": "402e2263-34f7-4d6f-9366-79bd051be2d3",
   "metadata": {
    "scrolled": true
   },
   "outputs": [
    {
     "name": "stdout",
     "output_type": "stream",
     "text": [
      "              Name  Season  K%+_rank  wRC+_rank  BB%+_rank  BB/K_rank  \\\n",
      "77     Todd Helton    2000        14          7         27          2   \n",
      "129    Barry Bonds    1995        65          8          3          9   \n",
      "122    Barry Bonds    1991        69          3          3          9   \n",
      "103   Alex Bregman    2018        16          6         19          3   \n",
      "93   Albert Pujols    2006         9          2         21          2   \n",
      "342   Dwight Evans    1981       131          2          2         50   \n",
      "128     Wade Boggs    1986         8          3          6          3   \n",
      "136  Albert Pujols    2007        17          9         16          2   \n",
      "83    George Brett    1985        24          2          7          5   \n",
      "71   Albert Pujols    2009        12          1          7          1   \n",
      "\n",
      "     OBP+_rank  SLG+_rank  ISO+_rank  WAR_rank  WAR/G_rank  wOBA_rank  \\\n",
      "77           4          3          7         3           7          3   \n",
      "129          5         13          9         2           3          9   \n",
      "122          4         13         17         2           2          7   \n",
      "103          8         16         26         3           4          7   \n",
      "93           5          1          4         1           1          2   \n",
      "342          3          5          8         4           4          2   \n",
      "128          1         37        142         1           2          2   \n",
      "136          6         12         28         5           8          9   \n",
      "83           2          2         10         3           4          1   \n",
      "71           2          1          1         2           4          1   \n",
      "\n",
      "     Def_rank  Off_rank  PA_rank  WPA_rank  WPA/LI_rank  Clutch_rank  \\\n",
      "77         58         6       15         1            4            1   \n",
      "129        58         4       14         2            2           11   \n",
      "122        23         6       48         1            1            9   \n",
      "103        93         5        7         2            9            8   \n",
      "93        116         1       64         1            3            1   \n",
      "342        20         2        2         2            3           22   \n",
      "128        37         3       11         1            3            6   \n",
      "136        26        11       32         5           10           72   \n",
      "83         90         2       32         4            2           85   \n",
      "71        187         1       13         1            1           40   \n",
      "\n",
      "     mean_mlb_rank  mlb_rank  \n",
      "77         10.1250         1  \n",
      "129        13.5625         1  \n",
      "122        13.5625         1  \n",
      "103        14.5000         1  \n",
      "93         14.6250         1  \n",
      "342        16.3750         1  \n",
      "128        16.6250         1  \n",
      "136        16.7500         1  \n",
      "83         17.1875         1  \n",
      "71         17.1875         1  \n"
     ]
    }
   ],
   "source": [
    "add_cols = ['mean_mlb_rank', 'mlb_rank']\n",
    "rank_columns = rank_columns + add_cols\n",
    "\n",
    "rank_columns.insert(0, 'Name')\n",
    "rank_columns.insert(1, 'Season')\n",
    "print(batter.loc[:, rank_columns].sort_values('mean_mlb_rank', ascending=True).head(10))"
   ]
  },
  {
   "cell_type": "code",
   "execution_count": 85,
   "id": "cffad42c-4cd6-47ec-a33e-828724a796b3",
   "metadata": {
    "scrolled": true
   },
   "outputs": [
    {
     "name": "stdout",
     "output_type": "stream",
     "text": [
      "                  Name  Season  K%+_rank  wRC+_rank  BB%+_rank  BB/K_rank  \\\n",
      "159          Juan Soto    2024        51          2          2          2   \n",
      "15      Bobby Witt Jr.    2024        31          4        133         64   \n",
      "800        Ketel Marte    2024        77         15         58         38   \n",
      "165   Francisco Lindor    2024        76         27        117         79   \n",
      "1548      Corey Seager    2024        70         20         64         40   \n",
      "125   Gunnar Henderson    2024       131          8         36         57   \n",
      "1643  Jurickson Profar    2024        32         16         21          4   \n",
      "1663      Mookie Betts    2024         6         14         10          1   \n",
      "12         Aaron Judge    2024       159          1          1          5   \n",
      "1056    Yordan Alvarez    2024        27          6         40         10   \n",
      "\n",
      "      OBP+_rank  SLG+_rank  ISO+_rank  WAR_rank  WAR/G_rank  wOBA_rank  \\\n",
      "159           2          5          5         4           4          2   \n",
      "15            8          3          7         2           2          3   \n",
      "800          25          7          8         9           8         12   \n",
      "165          52         28         30         5           5         28   \n",
      "1548         31         21         22        20          16         23   \n",
      "125          17          9          9         3           3         11   \n",
      "1643         10         50         90        22          33         18   \n",
      "1663         11         26         49        23          11         15   \n",
      "12            1          1          1         1           1          1   \n",
      "1056          5          6         10        13          18          6   \n",
      "\n",
      "      Def_rank  Off_rank  PA_rank  WPA_rank  WPA/LI_rank  Clutch_rank  \\\n",
      "159        160         4        5         1            2          155   \n",
      "15           6         3        6         5            4          189   \n",
      "800         77        14       83        14           15           62   \n",
      "165          7        11        3         8           13           40   \n",
      "1548        49        33       83         7           26            5   \n",
      "125         69         5        3        18            9          158   \n",
      "1643       215        13       23         3           14            1   \n",
      "1663       129        17      122        23           18          131   \n",
      "12         219         1        8         2            1          246   \n",
      "1056       238         7       32        10            5          235   \n",
      "\n",
      "      mean_mlb_rank  mlb_rank  \n",
      "159         25.3750         1  \n",
      "15          29.3750         2  \n",
      "800         32.6250         3  \n",
      "165         33.0625         4  \n",
      "1548        33.1250         5  \n",
      "125         34.1250         6  \n",
      "1643        35.3125         7  \n",
      "1663        37.8750         8  \n",
      "12          40.5625         9  \n",
      "1056        41.7500        10  \n"
     ]
    }
   ],
   "source": [
    "print(batter_24.loc[:, rank_columns].sort_values('mean_mlb_rank', ascending=True).head(10))"
   ]
  },
  {
   "cell_type": "code",
   "execution_count": 86,
   "id": "42a5af62-44b3-40b7-8483-2ec158c75bdd",
   "metadata": {
    "scrolled": true
   },
   "outputs": [
    {
     "name": "stdout",
     "output_type": "stream",
     "text": [
      "     Season            Name Team    G   PA  HR    R  RBI  BB  SO  ...  \\\n",
      "80     1976   Butch Wynegar  MIN  149  622  10   58   69  79  63  ...   \n",
      "68     1981      Tim Raines  WSN   88  363   5   61   37  45  31  ...   \n",
      "14     1984     Alvin Davis  SEA  152  678  27   80  116  97  78  ...   \n",
      "9      1992    Kenny Lofton  CLE  148  651   5   96   42  68  54  ...   \n",
      "137    1998     Todd Helton  COL  152  595  25   78   97  53  54  ...   \n",
      "435    1976  Jason Thompson  DET  123  486  17   45   54  68  72  ...   \n",
      "3      2001   Albert Pujols  STL  161  676  37  112  130  69  93  ...   \n",
      "4      1975       Fred Lynn  BOS  145  605  21  103  105  62  90  ...   \n",
      "182    1989    Dwight Smith  CHC  109  381   9   52   52  31  51  ...   \n",
      "204    1981    Hubie Brooks  NYM   98  389   4   34   38  23  65  ...   \n",
      "\n",
      "     Off_rank  PA_rank  WPA_rank  WPA/LI_rank  Clutch_rank  mean_rookie_rank  \\\n",
      "80          1        1         1            1            1            1.3125   \n",
      "68          1        3         1            1            2            1.3750   \n",
      "14          1        2         1            1            2            1.6875   \n",
      "9           2        1         1            2            1            2.0625   \n",
      "137         2        3         2            2            4            2.1250   \n",
      "435         2        4         2            2            4            2.2500   \n",
      "3           1        3         1            1            9            2.2500   \n",
      "4           1        4         1            1            8            2.3750   \n",
      "182         1        7         2            1            7            2.5000   \n",
      "204         2        2         2            2            4            2.5000   \n",
      "\n",
      "     rookie_rank     pos  mean_mlb_rank  mlb_rank  \n",
      "80             1  batter        63.5000        35  \n",
      "68             1  batter        35.2500        10  \n",
      "14             1  batter        26.1875         2  \n",
      "9              1  batter        63.3750        38  \n",
      "137            1  batter        66.3125        37  \n",
      "435            2  batter       109.6875       117  \n",
      "3              1  batter        45.4375        12  \n",
      "4              1  batter        38.4375         9  \n",
      "182            1  batter        74.6875        55  \n",
      "204            2  batter        80.5000        80  \n",
      "\n",
      "[10 rows x 56 columns]\n"
     ]
    }
   ],
   "source": [
    "rookie_batters = pd.merge(rookie_batters, batter[['Season', 'MLBAMID', 'mean_mlb_rank', 'mlb_rank']],\n",
    "                           on = ['Season', 'MLBAMID'],\n",
    "                           how='left'\n",
    "                          ).sort_values('mean_rookie_rank', ascending=True)\n",
    "rookie_batters_24 = pd.merge(rookie_batters_24, batter_24[['Season', 'MLBAMID', 'mean_mlb_rank', 'mlb_rank']],\n",
    "                           on = ['Season', 'MLBAMID'],\n",
    "                           how='left'\n",
    "                          ).sort_values('mean_rookie_rank', ascending=True)\n",
    "\n",
    "rookie_batters = rookie_batters.drop_duplicates(subset=['Season', 'MLBAMID'])\n",
    "rookie_batters_24 = rookie_batters_24.drop_duplicates(subset=['Season', 'MLBAMID'])\n",
    "\n",
    "print(rookie_batters.head(10))"
   ]
  },
  {
   "cell_type": "code",
   "execution_count": 87,
   "id": "a2135f32-16f1-4cf7-843f-7910de2d2942",
   "metadata": {
    "scrolled": true
   },
   "outputs": [
    {
     "name": "stdout",
     "output_type": "stream",
     "text": [
      "    Season             Name Team    G   PA  HR   R  RBI  BB   SO  ...  \\\n",
      "1     2024  Jackson Chourio  MIL  136  527  21  76   77  38  106  ...   \n",
      "0     2024  Jackson Merrill  SDP  146  555  24  74   86  26   98  ...   \n",
      "11    2024  Spencer Horwitz  TOR   86  332  12  44   36  37   57  ...   \n",
      "2     2024     Austin Wells  NYY  105  374  13  39   50  42   79  ...   \n",
      "9     2024    Michael Busch  CHC  141  531  20  71   63  58  154  ...   \n",
      "4     2024       Joey Ortiz  MIL  130  469  10  54   51  55   92  ...   \n",
      "6     2024     Wilyer Abreu  BOS  120  405  15  55   57  35  117  ...   \n",
      "5     2024       Masyn Winn  STL  139  586  13  73   50  38  103  ...   \n",
      "3     2024    Colton Cowser  BAL  142  518  20  70   62  49  158  ...   \n",
      "13    2024   Wyatt Langford  TEX  122  503  11  61   64  44  105  ...   \n",
      "\n",
      "    Off_rank  PA_rank  WPA_rank  WPA/LI_rank  Clutch_rank  mean_rookie_rank  \\\n",
      "1          2        7         2            2            4            5.5625   \n",
      "0          1        3         1            1           11            5.6250   \n",
      "11         6       20         3            4            2            5.8750   \n",
      "2          7       18         5            8            7            6.2500   \n",
      "9          3        5         4            3            6            7.4375   \n",
      "4          8       11        17           10           21            8.3750   \n",
      "6          4       15         9            5           19            8.4375   \n",
      "5         10        1        14           13           15           10.0000   \n",
      "3          5        8        22           11           22           10.1250   \n",
      "13         9        9         6           14            5           10.9375   \n",
      "\n",
      "    rookie_rank     pos  mean_mlb_rank  mlb_rank  \n",
      "1             1  batter        66.5625        32  \n",
      "0             2  batter        69.1250        34  \n",
      "11            3  batter        63.0625        29  \n",
      "2             4  batter        76.3125        44  \n",
      "9             5  batter        84.1250        57  \n",
      "4             6  batter        95.6875        76  \n",
      "6             7  batter        94.6250        73  \n",
      "5             8  batter       114.0000       111  \n",
      "3             9  batter       111.8750       108  \n",
      "13           10  batter       117.4375       113  \n",
      "\n",
      "[10 rows x 56 columns]\n"
     ]
    }
   ],
   "source": [
    "print(rookie_batters_24.head(10))"
   ]
  },
  {
   "cell_type": "code",
   "execution_count": 88,
   "id": "10ea32f5-e9f4-4053-8b29-316cff7e12ed",
   "metadata": {},
   "outputs": [
    {
     "name": "stdout",
     "output_type": "stream",
     "text": [
      "There are 748 Batters in the data\n"
     ]
    }
   ],
   "source": [
    "print(f\"There are {rookie_batters.shape[0]} Batters in the data\")"
   ]
  },
  {
   "cell_type": "markdown",
   "id": "481e8cf3-8027-4637-af11-ae8370dcc1a8",
   "metadata": {},
   "source": [
    "## Rookie of the Year Voting"
   ]
  },
  {
   "cell_type": "code",
   "execution_count": 89,
   "id": "c3896768-f19e-494d-b25d-c5478b80d189",
   "metadata": {},
   "outputs": [
    {
     "data": {
      "text/html": [
       "<div>\n",
       "<style scoped>\n",
       "    .dataframe tbody tr th:only-of-type {\n",
       "        vertical-align: middle;\n",
       "    }\n",
       "\n",
       "    .dataframe tbody tr th {\n",
       "        vertical-align: top;\n",
       "    }\n",
       "\n",
       "    .dataframe thead th {\n",
       "        text-align: right;\n",
       "    }\n",
       "</style>\n",
       "<table border=\"1\" class=\"dataframe\">\n",
       "  <thead>\n",
       "    <tr style=\"text-align: right;\">\n",
       "      <th></th>\n",
       "      <th>awardID</th>\n",
       "      <th>yearID</th>\n",
       "      <th>lgID</th>\n",
       "      <th>playerID</th>\n",
       "      <th>pointsWon</th>\n",
       "      <th>pointsMax</th>\n",
       "      <th>votesFirst</th>\n",
       "      <th>unanimous</th>\n",
       "      <th>rookie_of_the_year</th>\n",
       "    </tr>\n",
       "  </thead>\n",
       "  <tbody>\n",
       "    <tr>\n",
       "      <th>0</th>\n",
       "      <td>Rookie of the Year</td>\n",
       "      <td>1949</td>\n",
       "      <td>NL</td>\n",
       "      <td>newcodo01</td>\n",
       "      <td>21</td>\n",
       "      <td>24</td>\n",
       "      <td>21</td>\n",
       "      <td>0</td>\n",
       "      <td>1</td>\n",
       "    </tr>\n",
       "    <tr>\n",
       "      <th>1</th>\n",
       "      <td>Rookie of the Year</td>\n",
       "      <td>1949</td>\n",
       "      <td>AL</td>\n",
       "      <td>sievero01</td>\n",
       "      <td>10</td>\n",
       "      <td>24</td>\n",
       "      <td>10</td>\n",
       "      <td>0</td>\n",
       "      <td>1</td>\n",
       "    </tr>\n",
       "    <tr>\n",
       "      <th>2</th>\n",
       "      <td>Rookie of the Year</td>\n",
       "      <td>1950</td>\n",
       "      <td>AL</td>\n",
       "      <td>dropowa01</td>\n",
       "      <td>15</td>\n",
       "      <td>24</td>\n",
       "      <td>15</td>\n",
       "      <td>0</td>\n",
       "      <td>1</td>\n",
       "    </tr>\n",
       "    <tr>\n",
       "      <th>3</th>\n",
       "      <td>Rookie of the Year</td>\n",
       "      <td>1950</td>\n",
       "      <td>NL</td>\n",
       "      <td>jethrsa01</td>\n",
       "      <td>11</td>\n",
       "      <td>24</td>\n",
       "      <td>11</td>\n",
       "      <td>0</td>\n",
       "      <td>1</td>\n",
       "    </tr>\n",
       "    <tr>\n",
       "      <th>4</th>\n",
       "      <td>Rookie of the Year</td>\n",
       "      <td>1951</td>\n",
       "      <td>NL</td>\n",
       "      <td>mayswi01</td>\n",
       "      <td>18</td>\n",
       "      <td>24</td>\n",
       "      <td>18</td>\n",
       "      <td>0</td>\n",
       "      <td>1</td>\n",
       "    </tr>\n",
       "    <tr>\n",
       "      <th>5</th>\n",
       "      <td>Rookie of the Year</td>\n",
       "      <td>1951</td>\n",
       "      <td>AL</td>\n",
       "      <td>mcdougi01</td>\n",
       "      <td>13</td>\n",
       "      <td>24</td>\n",
       "      <td>13</td>\n",
       "      <td>0</td>\n",
       "      <td>1</td>\n",
       "    </tr>\n",
       "    <tr>\n",
       "      <th>6</th>\n",
       "      <td>Rookie of the Year</td>\n",
       "      <td>1952</td>\n",
       "      <td>NL</td>\n",
       "      <td>blackjo02</td>\n",
       "      <td>19</td>\n",
       "      <td>24</td>\n",
       "      <td>19</td>\n",
       "      <td>0</td>\n",
       "      <td>1</td>\n",
       "    </tr>\n",
       "    <tr>\n",
       "      <th>7</th>\n",
       "      <td>Rookie of the Year</td>\n",
       "      <td>1952</td>\n",
       "      <td>AL</td>\n",
       "      <td>byrdha01</td>\n",
       "      <td>9</td>\n",
       "      <td>24</td>\n",
       "      <td>9</td>\n",
       "      <td>0</td>\n",
       "      <td>1</td>\n",
       "    </tr>\n",
       "    <tr>\n",
       "      <th>8</th>\n",
       "      <td>Rookie of the Year</td>\n",
       "      <td>1953</td>\n",
       "      <td>AL</td>\n",
       "      <td>kuennha01</td>\n",
       "      <td>23</td>\n",
       "      <td>24</td>\n",
       "      <td>23</td>\n",
       "      <td>0</td>\n",
       "      <td>1</td>\n",
       "    </tr>\n",
       "    <tr>\n",
       "      <th>9</th>\n",
       "      <td>Rookie of the Year</td>\n",
       "      <td>1953</td>\n",
       "      <td>NL</td>\n",
       "      <td>gilliji01</td>\n",
       "      <td>11</td>\n",
       "      <td>24</td>\n",
       "      <td>11</td>\n",
       "      <td>0</td>\n",
       "      <td>1</td>\n",
       "    </tr>\n",
       "  </tbody>\n",
       "</table>\n",
       "</div>"
      ],
      "text/plain": [
       "              awardID  yearID lgID   playerID  pointsWon  pointsMax  \\\n",
       "0  Rookie of the Year    1949   NL  newcodo01         21         24   \n",
       "1  Rookie of the Year    1949   AL  sievero01         10         24   \n",
       "2  Rookie of the Year    1950   AL  dropowa01         15         24   \n",
       "3  Rookie of the Year    1950   NL  jethrsa01         11         24   \n",
       "4  Rookie of the Year    1951   NL   mayswi01         18         24   \n",
       "5  Rookie of the Year    1951   AL  mcdougi01         13         24   \n",
       "6  Rookie of the Year    1952   NL  blackjo02         19         24   \n",
       "7  Rookie of the Year    1952   AL   byrdha01          9         24   \n",
       "8  Rookie of the Year    1953   AL  kuennha01         23         24   \n",
       "9  Rookie of the Year    1953   NL  gilliji01         11         24   \n",
       "\n",
       "   votesFirst  unanimous  rookie_of_the_year  \n",
       "0          21          0                   1  \n",
       "1          10          0                   1  \n",
       "2          15          0                   1  \n",
       "3          11          0                   1  \n",
       "4          18          0                   1  \n",
       "5          13          0                   1  \n",
       "6          19          0                   1  \n",
       "7           9          0                   1  \n",
       "8          23          0                   1  \n",
       "9          11          0                   1  "
      ]
     },
     "execution_count": 89,
     "metadata": {},
     "output_type": "execute_result"
    }
   ],
   "source": [
    "voting = pd.read_csv('../data/awards/roy_voting.csv')\n",
    "voting.head(10)"
   ]
  },
  {
   "cell_type": "code",
   "execution_count": 90,
   "id": "727b432c-0740-46aa-85c1-cedc6f5da6cc",
   "metadata": {},
   "outputs": [
    {
     "name": "stdout",
     "output_type": "stream",
     "text": [
      "Columns for Rookie of the Year Voting: \n",
      "\n",
      "awardID  playerID   votesFirst        \n",
      "yearID   pointsWon  unanimous         \n",
      "lgID     pointsMax  rookie_of_the_year\n"
     ]
    }
   ],
   "source": [
    "print(\"Columns for Rookie of the Year Voting: \\n\")\n",
    "cli.columnize(voting.columns.tolist(), displaywidth=50)"
   ]
  },
  {
   "cell_type": "markdown",
   "id": "d1e77a88-6b41-447d-b669-e62fe45c8f52",
   "metadata": {},
   "source": [
    "## Player IDs"
   ]
  },
  {
   "cell_type": "code",
   "execution_count": 91,
   "id": "72f8dcd3-dff0-4b69-835b-e2fce438d5ad",
   "metadata": {},
   "outputs": [],
   "source": [
    "player_ids = pd.read_csv('../data/cleaned_player_ids.csv', low_memory=False,\n",
    "                        usecols=['key_mlbam', 'key_bbref', 'key_fangraphs', 'key_retro'])"
   ]
  },
  {
   "cell_type": "code",
   "execution_count": 92,
   "id": "225bff78-a3b6-45b6-805f-d3c5e59d7909",
   "metadata": {},
   "outputs": [
    {
     "name": "stdout",
     "output_type": "stream",
     "text": [
      "Columns in the Player ID's Data: \n",
      "\n",
      "key_mlbam  key_retro  key_bbref  key_fangraphs\n"
     ]
    }
   ],
   "source": [
    "print(\"Columns in the Player ID's Data: \\n\")\n",
    "cli.columnize(player_ids.columns.tolist(), displaywidth=50)"
   ]
  },
  {
   "cell_type": "code",
   "execution_count": 93,
   "id": "d2a571d1-e88b-445f-9525-04872d9a2cfb",
   "metadata": {},
   "outputs": [],
   "source": [
    "def add_ids(df, ids = player_ids):\n",
    "    df = pd.merge(df, ids[['key_mlbam', 'key_bbref']].drop_duplicates(subset=['key_mlbam']),\n",
    "                    left_on = 'MLBAMID', right_on = 'key_mlbam',\n",
    "                    how = 'inner'\n",
    "                   ).drop(columns='key_mlbam')\n",
    "    \n",
    "    return df\n",
    "\n",
    "rookie_relief = add_ids(df=rookie_relief)\n",
    "rookie_relief_24 = add_ids(df=rookie_relief_24)\n",
    "\n",
    "rookie_starter = add_ids(df=rookie_starter)\n",
    "rookie_starter_24 = add_ids(df=rookie_starter_24)"
   ]
  },
  {
   "cell_type": "code",
   "execution_count": 94,
   "id": "7617453b-9001-4375-ab2e-58c2e9563938",
   "metadata": {},
   "outputs": [],
   "source": [
    "rookie_batters = add_ids(df=rookie_batters)"
   ]
  },
  {
   "cell_type": "markdown",
   "id": "7164666e-f2e3-43d7-9372-b80fd3b77613",
   "metadata": {},
   "source": [
    "## Add Voting data to `pitchers` and `batters`"
   ]
  },
  {
   "cell_type": "code",
   "execution_count": 95,
   "id": "0853e6a4-ad20-4e1e-a562-e658f57d08dd",
   "metadata": {},
   "outputs": [
    {
     "name": "stdout",
     "output_type": "stream",
     "text": [
      "   Season           Name Team   G    IP  SO       ERA        ERA-       FIP  \\\n",
      "0    2022    Kirby Snead  OAK  46  44.2  35  5.843285  156.188241  4.612431   \n",
      "1    2007   Brian Stokes  TBR  59  62.1  35  7.074867  158.618222  5.758322   \n",
      "2    2022      Jake Bird  COL  38  47.2  42  4.909092  107.334615  4.958585   \n",
      "3    2022   Yunior Marte  SFG  39  48.0  44  5.437501  138.010974  4.383265   \n",
      "4    2007   Jay Marshall  OAK  51  42.0  18  6.428574  146.232702  5.168177   \n",
      "5    2019  Branden Kline  BAL  34  41.0  34  5.926831  125.857572  5.872547   \n",
      "6    2014     David Hale  ATL  39  54.1  22  3.809817  104.570127  4.715075   \n",
      "7    2022  Joey Krehbiel  BAL  56  57.2  45  3.901735  102.708698  4.673125   \n",
      "8    2022   Tyler Danish  BOS  32  40.1  32  5.132232  124.750753  4.971935   \n",
      "9    2018    Burch Smith  KCR  32  55.2  57  5.820358  133.401285  5.046659   \n",
      "\n",
      "         FIP-  ...  key_bbref             awardID  yearID  lgID  pointsWon  \\\n",
      "0  121.406248  ...  sneadki01  Rookie of the Year  2022.0    AL        0.0   \n",
      "1  130.256508  ...  stokebr01  Rookie of the Year  2007.0    AL        0.0   \n",
      "2  118.032240  ...   birdja01  Rookie of the Year  2022.0    NL        0.0   \n",
      "3  114.100607  ...  marteyu01  Rookie of the Year  2022.0    NL        0.0   \n",
      "4  117.231051  ...  marshja01  Rookie of the Year  2007.0    AL        0.0   \n",
      "5  120.599627  ...  klinebr01  Rookie of the Year  2019.0    AL        0.0   \n",
      "6  131.526515  ...   haleda02  Rookie of the Year  2014.0    NL        0.0   \n",
      "7  120.468094  ...  krehbjo01  Rookie of the Year  2022.0    AL        0.0   \n",
      "8  125.661360  ...  danisty01  Rookie of the Year  2022.0    AL        0.0   \n",
      "9  120.962217  ...  smithbu03  Rookie of the Year  2018.0    AL        0.0   \n",
      "\n",
      "   pointsMax  votesFirst  unanimous  vote_share  vote_getter  \n",
      "0        0.0         0.0        0.0         0.0            0  \n",
      "1        0.0         0.0        0.0         0.0            0  \n",
      "2        0.0         0.0        0.0         0.0            0  \n",
      "3        0.0         0.0        0.0         0.0            0  \n",
      "4        0.0         0.0        0.0         0.0            0  \n",
      "5        0.0         0.0        0.0         0.0            0  \n",
      "6        0.0         0.0        0.0         0.0            0  \n",
      "7        0.0         0.0        0.0         0.0            0  \n",
      "8        0.0         0.0        0.0         0.0            0  \n",
      "9        0.0         0.0        0.0         0.0            0  \n",
      "\n",
      "[10 rows x 67 columns]\n"
     ]
    }
   ],
   "source": [
    "def add_votes(df, votes=voting):\n",
    "    df = pd.merge(df, votes.drop(columns='rookie_of_the_year').drop_duplicates(subset=['yearID', 'playerID'], keep='first'),\n",
    "                  left_on='key_bbref', right_on='playerID', \n",
    "                  how='left').drop(columns='playerID').drop_duplicates(subset='MLBAMID')\n",
    "\n",
    "    df['awardID'] = 'Rookie of the Year'\n",
    "    df['yearID'] = df['yearID'].fillna(df['Season'])\n",
    "    df['lgID'] = df['lgID'].fillna(df['league'])\n",
    "    df['vote_share'] = df['pointsWon'] / df['pointsMax']\n",
    "\n",
    "    for col in ['pointsWon', 'pointsMax', 'votesFirst', 'vote_share', 'unanimous']:\n",
    "        df[col] = df[col].fillna(0)\n",
    "\n",
    "    df['vote_getter'] = np.where(df['pointsMax'] > 0, 1, 0)\n",
    "\n",
    "    return df\n",
    "\n",
    "rookie_relief = add_votes(df = rookie_relief)\n",
    "rookie_relief_24 = add_votes(df = rookie_relief_24)\n",
    "rookie_starter = add_votes(df = rookie_starter)\n",
    "rookie_starter_24 = add_votes(df = rookie_starter_24)\n",
    "\n",
    "print(rookie_relief.head(10))"
   ]
  },
  {
   "cell_type": "code",
   "execution_count": 96,
   "id": "a7faffad-0ec4-4990-b8d0-b238c25821c2",
   "metadata": {},
   "outputs": [
    {
     "name": "stdout",
     "output_type": "stream",
     "text": [
      "   Season            Name Team    G   PA  HR    R  RBI  BB  SO  ...  \\\n",
      "0    1976   Butch Wynegar  MIN  149  622  10   58   69  79  63  ...   \n",
      "1    1981      Tim Raines  WSN   88  363   5   61   37  45  31  ...   \n",
      "2    1984     Alvin Davis  SEA  152  678  27   80  116  97  78  ...   \n",
      "3    1992    Kenny Lofton  CLE  148  651   5   96   42  68  54  ...   \n",
      "4    1998     Todd Helton  COL  152  595  25   78   97  53  54  ...   \n",
      "5    1976  Jason Thompson  DET  123  486  17   45   54  68  72  ...   \n",
      "6    2001   Albert Pujols  STL  161  676  37  112  130  69  93  ...   \n",
      "7    1975       Fred Lynn  BOS  145  605  21  103  105  62  90  ...   \n",
      "8    1989    Dwight Smith  CHC  109  381   9   52   52  31  51  ...   \n",
      "9    1981    Hubie Brooks  NYM   98  389   4   34   38  23  65  ...   \n",
      "\n",
      "   key_bbref             awardID  yearID  lgID  pointsWon  pointsMax  \\\n",
      "0  wynegbu01  Rookie of the Year  1976.0    AL        2.0       24.0   \n",
      "1  raineti01  Rookie of the Year  1981.0    NL       85.0      120.0   \n",
      "2  davisal01  Rookie of the Year  1984.0    AL      134.0      140.0   \n",
      "3  loftoke01  Rookie of the Year  1992.0    AL       85.0      140.0   \n",
      "4  heltoto01  Rookie of the Year  1998.0    NL      119.0      160.0   \n",
      "5  thompja01  Rookie of the Year  1976.0    AL        0.0        0.0   \n",
      "6  pujolal01  Rookie of the Year  2001.0    NL      160.0      160.0   \n",
      "7   lynnfr01  Rookie of the Year  1975.0    AL       23.0       24.0   \n",
      "8  smithdw01  Rookie of the Year  1989.0    NL       68.0      120.0   \n",
      "9  brookhu01  Rookie of the Year  1981.0    NL        8.0      120.0   \n",
      "\n",
      "   votesFirst  unanimous  vote_share  vote_getter  \n",
      "0         2.0        0.0    0.083333            1  \n",
      "1         6.0        0.0    0.708333            1  \n",
      "2        25.0        0.0    0.957143            1  \n",
      "3         7.0        0.0    0.607143            1  \n",
      "4        15.0        0.0    0.743750            1  \n",
      "5         0.0        0.0    0.000000            0  \n",
      "6        32.0        1.0    1.000000            1  \n",
      "7        23.0        0.0    0.958333            1  \n",
      "8         2.0        0.0    0.566667            1  \n",
      "9         0.0        0.0    0.066667            1  \n",
      "\n",
      "[10 rows x 66 columns]\n"
     ]
    }
   ],
   "source": [
    "rookie_batters = rookie_batters.dropna(subset='league')\n",
    "rookie_batters = add_votes(df = rookie_batters)\n",
    "print(rookie_batters.head(10))"
   ]
  },
  {
   "cell_type": "code",
   "execution_count": 97,
   "id": "cdaa2607-07c4-48e3-afcd-ad8bf9a61e8f",
   "metadata": {},
   "outputs": [
    {
     "data": {
      "text/plain": [
       "rookie_of_the_year\n",
       "0    698\n",
       "1      9\n",
       "Name: count, dtype: int64"
      ]
     },
     "execution_count": 97,
     "metadata": {},
     "output_type": "execute_result"
    }
   ],
   "source": [
    "rookie_relief['rookie_of_the_year'].value_counts()"
   ]
  },
  {
   "cell_type": "code",
   "execution_count": 98,
   "id": "2eb398ae-e19f-48a5-b8e1-f78532d83edf",
   "metadata": {},
   "outputs": [
    {
     "data": {
      "text/plain": [
       "rookie_of_the_year\n",
       "0    447\n",
       "1     15\n",
       "Name: count, dtype: int64"
      ]
     },
     "execution_count": 98,
     "metadata": {},
     "output_type": "execute_result"
    }
   ],
   "source": [
    "rookie_starter['rookie_of_the_year'].value_counts()"
   ]
  },
  {
   "cell_type": "code",
   "execution_count": 99,
   "id": "038069e5-ac78-49b0-9305-dc855dddf387",
   "metadata": {},
   "outputs": [
    {
     "data": {
      "text/plain": [
       "rookie_of_the_year\n",
       "0    710\n",
       "1     38\n",
       "Name: count, dtype: int64"
      ]
     },
     "execution_count": 99,
     "metadata": {},
     "output_type": "execute_result"
    }
   ],
   "source": [
    "rookie_batters['rookie_of_the_year'].value_counts()"
   ]
  },
  {
   "cell_type": "code",
   "execution_count": 100,
   "id": "1ff2dbd7-7f77-4506-9a9d-721b591c7f5d",
   "metadata": {},
   "outputs": [],
   "source": [
    "def calc_WPA_rate(data, per_game=False):\n",
    "    if per_game:\n",
    "        data['WPA/G'] = data['WPA'] / data['G']\n",
    "    else:\n",
    "        data['WPA/IP'] = data['WPA'] / data['IP']\n",
    "\n",
    "    return data\n",
    "\n",
    "rookie_relief = calc_WPA_rate(data = rookie_relief, per_game=False)\n",
    "rookie_starter = calc_WPA_rate(data = rookie_starter, per_game=False)\n",
    "rookie_batters = calc_WPA_rate(data = rookie_batters, per_game=True)\n",
    "\n",
    "rookie_relief_24 = calc_WPA_rate(data = rookie_relief_24, per_game=False)\n",
    "rookie_starter_24 = calc_WPA_rate(data = rookie_starter_24, per_game=False)\n",
    "rookie_batters_24 = calc_WPA_rate(data = rookie_batters_24, per_game=True)"
   ]
  },
  {
   "cell_type": "code",
   "execution_count": 101,
   "id": "3e480d92-e0a8-4883-b201-ccdc5de09fcf",
   "metadata": {},
   "outputs": [],
   "source": [
    "rookie_relief.to_csv('../data/cleaned/rookie_relief.csv', index=False)\n",
    "rookie_starter.to_csv('../data/cleaned/rookie_starter.csv', index=False)\n",
    "rookie_batters.to_csv('../data/cleaned/rookie_batters.csv', index=False)\n",
    "\n",
    "rookie_relief_24.to_csv('../data/cleaned/rookie_relief_24.csv', index=False)\n",
    "rookie_starter_24.to_csv('../data/cleaned/rookie_starter_24.csv', index=False)\n",
    "rookie_batters_24.to_csv('../data/cleaned/rookie_batters_24.csv', index=False)"
   ]
  },
  {
   "cell_type": "code",
   "execution_count": 102,
   "id": "038117b1-885f-4125-ac41-ba00ddaad8e5",
   "metadata": {},
   "outputs": [
    {
     "name": "stdout",
     "output_type": "stream",
     "text": [
      "Total processing time = 1.66 seconds\n"
     ]
    }
   ],
   "source": [
    "end_time = time.time()\n",
    "print(f\"Total processing time = {(end_time - start_time):.2f} seconds\")"
   ]
  }
 ],
 "metadata": {
  "kernelspec": {
   "display_name": "Python 3 (ipykernel)",
   "language": "python",
   "name": "python3"
  },
  "language_info": {
   "codemirror_mode": {
    "name": "ipython",
    "version": 3
   },
   "file_extension": ".py",
   "mimetype": "text/x-python",
   "name": "python",
   "nbconvert_exporter": "python",
   "pygments_lexer": "ipython3",
   "version": "3.12.4"
  }
 },
 "nbformat": 4,
 "nbformat_minor": 5
}
