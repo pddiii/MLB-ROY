{
 "cells": [
  {
   "cell_type": "markdown",
   "id": "241ba5fb-0baf-4c02-9dc8-2fb5de4d2e07",
   "metadata": {},
   "source": [
    "# Package Imports"
   ]
  },
  {
   "cell_type": "code",
   "execution_count": 1,
   "id": "a17b0240-96e7-4db6-9263-440da39d98fa",
   "metadata": {},
   "outputs": [],
   "source": [
    "import pandas as pd\n",
    "import numpy as np\n",
    "import cmd\n",
    "import time\n",
    "\n",
    "start_time = time.time()\n",
    "cli = cmd.Cmd()"
   ]
  },
  {
   "cell_type": "markdown",
   "id": "4ceec11c-6dee-4520-af22-b14a44b963d9",
   "metadata": {},
   "source": [
    "# Helper Functions"
   ]
  },
  {
   "cell_type": "code",
   "execution_count": 2,
   "id": "1f091c2c-5df7-4acf-8322-1bc306b14507",
   "metadata": {},
   "outputs": [],
   "source": [
    "## create a function which will assign a decade for each season\n",
    "## goal of this is to represent voting patterns across different eras\n",
    "def assign_decade(df, season_col='Season'):\n",
    "    df['decade'] = ( (df[season_col] // 10) * 10).astype(str) + 's'\n",
    "    return df"
   ]
  },
  {
   "cell_type": "markdown",
   "id": "2de121d9-5678-415f-b94d-2350d2767aee",
   "metadata": {},
   "source": [
    "# Rookie Pitchers"
   ]
  },
  {
   "cell_type": "code",
   "execution_count": 3,
   "id": "8295e760-7a53-4a5c-8244-74414c9e44a9",
   "metadata": {},
   "outputs": [
    {
     "name": "stdout",
     "output_type": "stream",
     "text": [
      "Columns for Relief Pitchers: \n",
      "\n",
      "Season  SO    E-F    K%+     Clutch  WAR    \n",
      "Name    ERA   K/BB+  BB%+    SV      MLBAMID\n",
      "Team    ERA-  HR/9+  K-BB%   BS    \n",
      "G       FIP   AVG+   WPA     SD    \n",
      "IP      FIP-  WHIP+  WPA/LI  MD    \n",
      "None\n"
     ]
    }
   ],
   "source": [
    "### Relief Pitchers have at least 40 IP\n",
    "\n",
    "relief = pd.read_csv('../data/rookies/fg_relief.csv')\n",
    "relief.drop(columns=['NameASCII', 'PlayerId'], inplace=True)\n",
    "relief = relief[~(relief['Season'].isin( [1994, 2020] ))] # exclude 1994 and 2020 shortened seasons\n",
    "\n",
    "relief_columns = relief.columns.tolist()\n",
    "print(f\"Columns for Relief Pitchers: \\n\")\n",
    "print(cli.columnize(relief_columns, displaywidth=50))"
   ]
  },
  {
   "cell_type": "code",
   "execution_count": 4,
   "id": "4c3f8f92-474e-479f-b808-7375a1f00fd3",
   "metadata": {},
   "outputs": [],
   "source": [
    "relief['BS'] = relief['BS'].fillna(0) # fill in blown saves with 0 (might not have existed yet)\n",
    "\n",
    "# Add decade columns for pitchers\n",
    "relief = assign_decade(relief)\n",
    "\n",
    "## Add a 'WAR/IP' for a secondary representation of WAR\n",
    "## This can be better for comparing people's true WAR impact across relievers and starters\n",
    "relief['WAR/IP'] = relief['WAR'] / relief['IP']\n",
    "\n",
    "## Add 'IP/G' to help distinguish between relief pitchers and closing pitchers.\n",
    "relief['IP/G'] = relief['IP'] / relief['G']\n",
    "\n",
    "## Add 'SD_pct' to evaluate how much more frequently they are throwing a Shutdown\n",
    "## Shutdown (SD) = Relief Appearance with cumulative WPA > 0.6 (good)\n",
    "## Meltdown (MD) = Relief Appearance with cumulative WPA < -0.6 (bad)\n",
    "relief['SD_pct'] = relief['SD'] / (relief['SD'] + relief['MD'])\n",
    "\n",
    "relief['pos'] = 'relief' # create the relief pitcher designation\n",
    "\n",
    "## Closer conditions\n",
    "cond1 = ( ( (relief['SV'] + relief['BS']) / relief['G'] ) >= 0.4)\n",
    "cond2 = (relief['IP/G'] <= 1.25)\n",
    "\n",
    "# Distinguish between a relief pitcher, and a closer (yes, they are different)\n",
    "relief.loc[cond1 & cond2 , 'pos'] = 'closer' "
   ]
  },
  {
   "cell_type": "code",
   "execution_count": 5,
   "id": "36c77bc4-42a5-47bc-a1c9-273a5e091598",
   "metadata": {},
   "outputs": [
    {
     "name": "stdout",
     "output_type": "stream",
     "text": [
      "Columns for Starting Pitchers:\n",
      "Season  G    IP    FIP-   WHIP+  WPA/LI \n",
      "Name    GS   SO    E-F    K%+    Clutch \n",
      "Team    CG   ERA   K/BB+  BB%+   WAR    \n",
      "W       ShO  ERA-  HR/9+  K-BB%  MLBAMID\n",
      "L       QS   FIP   AVG+   WPA  \n",
      "None\n"
     ]
    }
   ],
   "source": [
    "### Starting Pitchers have at least 100 IP\n",
    "starter = pd.read_csv('../data/rookies/fg_starter.csv')\n",
    "starter.drop(columns=['NameASCII', 'PlayerId'], inplace=True)\n",
    "starter = starter[~(starter['Season'].isin( [1994, 2020] ))]\n",
    "\n",
    "starter_columns = starter.columns.tolist()\n",
    "print(f\"Columns for Starting Pitchers:\")\n",
    "print(cli.columnize(starter_columns, displaywidth=50))"
   ]
  },
  {
   "cell_type": "code",
   "execution_count": 6,
   "id": "540f9c79-3110-432c-88dd-a7e78aa7eaac",
   "metadata": {},
   "outputs": [],
   "source": [
    "starter = assign_decade(starter)\n",
    "\n",
    "starter['WAR/IP'] = starter['WAR'] / starter['IP']\n",
    "\n",
    "starter['pos'] = 'starter' # create the starting pitcher designation"
   ]
  },
  {
   "cell_type": "markdown",
   "id": "12898b53-6b3e-49d1-964e-bfe38b2e781e",
   "metadata": {},
   "source": [
    "## Checking for Missing Values\n",
    "\n",
    "The missing data in both the pitcher data is represented by a `NaN` values. These values are meaningful in this context for the statistics missing data: `BS`, `QS`, `Barrel%`, and `HardHit%`. This is because these statistics are newer and the data simply does not exist."
   ]
  },
  {
   "cell_type": "code",
   "execution_count": 7,
   "id": "eb8f5640-1b11-4434-9894-4cb205ced0af",
   "metadata": {
    "scrolled": true
   },
   "outputs": [
    {
     "name": "stdout",
     "output_type": "stream",
     "text": [
      "Missing Values in Relief Pitchers Data\n",
      "Season     0\n",
      "Name       0\n",
      "Team       0\n",
      "G          0\n",
      "IP         0\n",
      "SO         0\n",
      "ERA        0\n",
      "ERA-       0\n",
      "FIP        0\n",
      "FIP-       0\n",
      "E-F        0\n",
      "K/BB+      0\n",
      "HR/9+      0\n",
      "AVG+       0\n",
      "WHIP+      0\n",
      "K%+        0\n",
      "BB%+       0\n",
      "K-BB%      0\n",
      "WPA        0\n",
      "WPA/LI     0\n",
      "Clutch     0\n",
      "SV         0\n",
      "BS         0\n",
      "SD         0\n",
      "MD         0\n",
      "WAR        0\n",
      "MLBAMID    0\n",
      "decade     0\n",
      "WAR/IP     0\n",
      "IP/G       0\n",
      "SD_pct     0\n",
      "pos        0\n",
      "dtype: int64\n"
     ]
    }
   ],
   "source": [
    "print(\"Missing Values in Relief Pitchers Data\")\n",
    "print(relief.isna().sum())"
   ]
  },
  {
   "cell_type": "code",
   "execution_count": 8,
   "id": "3a358415-2cca-40f2-ac48-32abaf916fe6",
   "metadata": {
    "scrolled": true
   },
   "outputs": [
    {
     "name": "stdout",
     "output_type": "stream",
     "text": [
      "Missing Values in Starter Pitchers Data\n",
      "Season     0\n",
      "Name       0\n",
      "Team       0\n",
      "W          0\n",
      "L          0\n",
      "G          0\n",
      "GS         0\n",
      "CG         0\n",
      "ShO        0\n",
      "QS         0\n",
      "IP         0\n",
      "SO         0\n",
      "ERA        0\n",
      "ERA-       0\n",
      "FIP        0\n",
      "FIP-       0\n",
      "E-F        0\n",
      "K/BB+      0\n",
      "HR/9+      0\n",
      "AVG+       0\n",
      "WHIP+      0\n",
      "K%+        0\n",
      "BB%+       0\n",
      "K-BB%      0\n",
      "WPA        0\n",
      "WPA/LI     0\n",
      "Clutch     0\n",
      "WAR        0\n",
      "MLBAMID    0\n",
      "decade     0\n",
      "WAR/IP     0\n",
      "pos        0\n",
      "dtype: int64\n"
     ]
    }
   ],
   "source": [
    "print(\"Missing Values in Starter Pitchers Data\")\n",
    "print(starter.isna().sum())"
   ]
  },
  {
   "cell_type": "code",
   "execution_count": 9,
   "id": "51c84901-e4de-4eb8-ae74-d615ed16e1b1",
   "metadata": {},
   "outputs": [
    {
     "name": "stdout",
     "output_type": "stream",
     "text": [
      "The unique teams in the Dataframe are: \n",
      "\n",
      "Number of Teams = 36 \n",
      "\n",
      "['TOR' 'LAD' 'NYY' 'BOS' 'ATL' 'SEA' 'MIN' 'STL' 'MIL' 'CAL' 'CLE' 'OAK'\n",
      " 'HOU' 'MIA' 'KCR' 'CIN' '- - -' 'SDP' 'TEX' 'BAL' 'DET' 'CHC' 'PHI' 'PIT'\n",
      " 'CHW' 'SFG' 'LAA' 'NYM' 'ANA' 'TBR' 'FLA' 'MON' 'ARI' 'COL' 'WSN' 'TBD']\n"
     ]
    }
   ],
   "source": [
    "print(\"The unique teams in the Dataframe are: \\n\")\n",
    "print(f\"Number of Teams = {len(relief['Team'].unique())} \\n\")\n",
    "print(relief['Team'].unique()) # Find the unique team occurrences"
   ]
  },
  {
   "cell_type": "markdown",
   "id": "29186e23-0535-4ff0-a293-3cc38e567107",
   "metadata": {},
   "source": [
    "### Table of Teams (by League)\n",
    "\n",
    "| NL Abbreviation | NL Team Name            | AL Abbreviation | AL Team Name            |\n",
    "|-----------------|-------------------------|-----------------|-------------------------|\n",
    "| ARI             | Arizona Diamondbacks     | BAL             | Baltimore Orioles       |\n",
    "| ATL             | Atlanta Braves           | BOS             | Boston Red Sox          |\n",
    "| CHC             | Chicago Cubs             | CHW             | Chicago White Sox       |\n",
    "| CIN             | Cincinnati Reds          | CLE             | Cleveland Guardians     |\n",
    "| COL             | Colorado Rockies         | DET             | Detroit Tigers          |\n",
    "| LAD             | Los Angeles Dodgers      | HOU             | Houston Astros          |\n",
    "| MIA             | Miami Marlins            | KCR             | Kansas City Royals      |\n",
    "| MIL             | Milwaukee Brewers        | LAA             | Los Angeles Angels      |\n",
    "| NYM             | New York Mets            | MIN             | Minnesota Twins         |\n",
    "| PHI             | Philadelphia Phillies    | NYY             | New York Yankees        |\n",
    "| PIT             | Pittsburgh Pirates       | OAK             | Oakland Athletics       |\n",
    "| SDP             | San Diego Padres         | SEA             | Seattle Mariners        |\n",
    "| SFG             | San Francisco Giants     | TBR             | Tampa Bay Rays          |\n",
    "| STL             | St. Louis Cardinals      | TEX             | Texas Rangers           |\n",
    "| WSN             | Washington Nationals     | TOR             | Toronto Blue Jays       |\n"
   ]
  },
  {
   "cell_type": "code",
   "execution_count": 10,
   "id": "94582738-fc84-4b28-a2ab-946b7db55d61",
   "metadata": {},
   "outputs": [],
   "source": [
    "# Dictionary for mapping old abbreviations to current ones\n",
    "team_map = {\n",
    "    'CAL': 'LAA',  # California Angels to Los Angeles Angels\n",
    "    'ANA': 'LAA',  # Anaheim Angels to Los Angeles Angels\n",
    "    'FLA': 'MIA',  # Florida Marlins to Miami Marlins\n",
    "    'MON': 'WSN',  # Montreal Expos to Washington Nationals\n",
    "    'TBD': 'TBR'   # Tampa Bay Devil Rays to Tampa Bay Rays\n",
    "}\n",
    "\n",
    "# Replace the 'Team' column with updated abbreviations using .replace()\n",
    "relief['Team'] = relief['Team'].replace(team_map)\n",
    "starter['Team'] = starter['Team'].replace(team_map)"
   ]
  },
  {
   "cell_type": "code",
   "execution_count": 11,
   "id": "16dfa880-df65-4064-b60e-6178d1145e95",
   "metadata": {},
   "outputs": [],
   "source": [
    "# National League\n",
    "nl_teams = ['LAD', 'SDP', 'CIN', 'SFG', 'ATL',\n",
    "            'NYM', 'MIA', 'MIL', 'CHC', 'STL',\n",
    "            'COL', 'PIT', 'ARI', 'PHI', 'WSN']\n",
    "# American League\n",
    "al_teams = ['OAK', 'HOU', 'LAA', 'SEA', 'CLE',\n",
    "            'BAL', 'NYY', 'BOS', 'KCR', 'MIN',\n",
    "            'TOR', 'TEX', 'CHW', 'TBR', 'DET']\n",
    "\n",
    "# add league for the Relievers\n",
    "relief.loc[relief['Team'].isin(nl_teams), 'league'] = 'NL'\n",
    "relief.loc[relief['Team'].isin(al_teams), 'league'] = 'AL'\n",
    "# add league for the Starters\n",
    "starter.loc[starter['Team'].isin(nl_teams), 'league'] = 'NL'\n",
    "starter.loc[starter['Team'].isin(al_teams), 'league'] = 'AL'"
   ]
  },
  {
   "cell_type": "code",
   "execution_count": 12,
   "id": "124dd8d6-afbd-4f03-b7d0-10b7111c8209",
   "metadata": {},
   "outputs": [
    {
     "name": "stdout",
     "output_type": "stream",
     "text": [
      "There are 482 Starting Pitchers in the data\n",
      "There are 762 Relief Pitchers in the data\n"
     ]
    }
   ],
   "source": [
    "print(f\"There are {starter.shape[0]} Starting Pitchers in the data\")\n",
    "print(f\"There are {relief.shape[0]} Relief Pitchers in the data\")"
   ]
  },
  {
   "cell_type": "markdown",
   "id": "b4466153-8eb6-4d17-8277-d5f2864fc7a1",
   "metadata": {},
   "source": [
    "## Rookie of the Year"
   ]
  },
  {
   "cell_type": "code",
   "execution_count": 13,
   "id": "67955b29-4588-43ef-a27a-41842b3d51bf",
   "metadata": {},
   "outputs": [
    {
     "name": "stdout",
     "output_type": "stream",
     "text": [
      "Columns for Rookie of the Year data:\n",
      "['award_id', 'season', 'rookie_of_the_year']\n",
      "\n",
      "\n"
     ]
    }
   ],
   "source": [
    "## Load Rookie of the Year data\n",
    "roy = pd.read_csv('../data/awards/roy_awards.csv')\n",
    "roy.rename(columns={'player_id' : 'rookie_of_the_year'}, inplace=True) # rename the column for merging\n",
    "\n",
    "print(f\"Columns for Rookie of the Year data:\")\n",
    "print(roy.columns.tolist())\n",
    "print(\"\\n\")"
   ]
  },
  {
   "cell_type": "code",
   "execution_count": 14,
   "id": "e7625b87-b2f9-4e3e-9834-5fafcb391cb8",
   "metadata": {},
   "outputs": [],
   "source": [
    "## Merge the relief and starter data with the Rookie of the Year data\n",
    "relief = pd.merge(relief, roy,\n",
    "        left_on = 'Season', right_on = 'season',\n",
    "        how = 'left')\n",
    "\n",
    "relief.drop(columns='season', inplace=True) # unnecessary column\n",
    "\n",
    "# Rename the award_id values\n",
    "relief.loc[relief['award_id'] == 'ALROY', 'award_id'] = 'AL'\n",
    "relief.loc[relief['award_id'] == 'NLROY', 'award_id'] = 'NL'\n",
    "\n",
    "relief.dropna(subset='league', inplace=True)\n",
    "\n",
    "starter = pd.merge(starter, roy,\n",
    "        left_on = 'Season', right_on = 'season',\n",
    "        how = 'left')\n",
    "\n",
    "starter.drop(columns='season', inplace=True) # unnecessary column\n",
    "\n",
    "# Rename the award_id values\n",
    "starter.loc[starter['award_id'] == 'ALROY', 'award_id'] = 'AL'\n",
    "starter.loc[starter['award_id'] == 'NLROY', 'award_id'] = 'NL'\n",
    "\n",
    "starter.dropna(subset='league', inplace=True)"
   ]
  },
  {
   "cell_type": "code",
   "execution_count": 15,
   "id": "e4960c9b-7288-4b1a-a1a2-ad57288ef178",
   "metadata": {},
   "outputs": [],
   "source": [
    "## Separate the data for 2024 from the rest of the data\n",
    "## The 2024 data will be used to make predictions after the model creation process\n",
    "\n",
    "relief_24 = relief[relief['Season'] == 2024]\n",
    "starter_24 = starter[starter['Season'] == 2024]\n",
    "\n",
    "relief = relief[relief['Season'] != 2024]\n",
    "starter = starter[starter['Season'] != 2024]"
   ]
  },
  {
   "cell_type": "code",
   "execution_count": 16,
   "id": "1352a183-59f1-4094-aeba-6b8ce28227cd",
   "metadata": {
    "scrolled": true
   },
   "outputs": [
    {
     "name": "stdout",
     "output_type": "stream",
     "text": [
      "    Season               Name Team   G     IP   SO       ERA       ERA-  \\\n",
      "0     1986      Mark Eichhorn  TOR  69  157.0  166  1.719745  40.860984   \n",
      "3     2006      Takashi Saito  LAD  72   78.1  107  2.068086  46.986878   \n",
      "4     1985       Brian Fisher  NYY  55   98.1   85  2.379661  58.890406   \n",
      "6     2006  Jonathan Papelbon  BOS  59   68.1   75  0.921952  19.523037   \n",
      "8     2014    Dellin Betances  NYY  70   90.0  135  1.400000  36.423515   \n",
      "11    2011      Craig Kimbrel  ATL  79   77.0  127  2.103896  55.827688   \n",
      "13    1982    Steve Bedrosian  ATL  61  122.0  114  2.286885  60.687104   \n",
      "14    1977       Enrique Romo  SEA  55   98.2   92  3.010135  72.789408   \n",
      "16    1980       Doug Corbett  MIN  73  136.1   89  1.980440  47.446845   \n",
      "19    2016       Seunghwan Oh  STL  76   79.2  103  1.920503  47.095538   \n",
      "\n",
      "         FIP       FIP-  ...       WAR  MLBAMID  decade    WAR/IP      IP/G  \\\n",
      "0   2.312413  56.211928  ...  4.944612   113780   1980s  0.031494  2.275362   \n",
      "3   1.870152  41.140652  ...  3.144361   493416   2000s  0.040261  1.084722   \n",
      "4   2.369201  59.190743  ...  3.085539   114160   1980s  0.031453  1.783636   \n",
      "6   2.136991  48.966961  ...  3.078526   449097   2000s  0.045206  1.154237   \n",
      "8   1.643363  42.231888  ...  2.988748   476454   2010s  0.033208  1.285714   \n",
      "11  1.518893  39.838482  ...  2.830267   518886   2010s  0.036757  0.974684   \n",
      "13  2.601838  69.341648  ...  2.701533   110786   1980s  0.022144  2.000000   \n",
      "14  2.920475  67.583404  ...  2.589030   121427   1970s  0.026365  1.785455   \n",
      "16  3.060481  75.651540  ...  2.576811   112665   1980s  0.018933  1.864384   \n",
      "19  2.129824  52.614418  ...  2.570371   493200   2010s  0.032454  1.042105   \n",
      "\n",
      "      SD_pct     pos  league  award_id  rookie_of_the_year  \n",
      "0   0.761905  relief      AL        AL                   0  \n",
      "3   0.809524  relief      NL        NL                   0  \n",
      "4   0.783784  relief      AL        AL                   0  \n",
      "6   0.850000  closer      AL        AL                   0  \n",
      "8   0.833333  relief      AL        AL                   0  \n",
      "11  0.803922  closer      NL        NL                   1  \n",
      "13  0.711111  relief      NL        NL                   0  \n",
      "14  0.609756  relief      AL        AL                   0  \n",
      "16  0.833333  relief      AL        AL                   0  \n",
      "19  0.707317  relief      NL        NL                   0  \n",
      "\n",
      "[10 rows x 35 columns]\n",
      "\n",
      "\n",
      "    Season                 Name Team   W   L   G  GS  CG  ShO  QS  ...  \\\n",
      "1     1984        Dwight Gooden  NYM  17   9  31  31   7    3  21  ...   \n",
      "3     1975      John Montefusco  SFG  15   9  34  34  10    4  23  ...   \n",
      "5     1995           Hideo Nomo  LAD  13   6  28  28   4    3  18  ...   \n",
      "7     1981  Fernando Valenzuela  LAD  13   7  25  25  11    8  16  ...   \n",
      "8     2012           Yu Darvish  TEX  16   9  29  29   0    0  18  ...   \n",
      "11    1997          Matt Morris  STL  12   9  33  33   3    0  22  ...   \n",
      "12    1976         Mark Fidrych  DET  19   9  29  29  24    4  23  ...   \n",
      "15    1980          Britt Burns  CHW  14  13  32  32  11    1  21  ...   \n",
      "18    1998           Kerry Wood  CHC  13   6  26  26   1    1  18  ...   \n",
      "19    1992         Dave Fleming  SEA  17  10  33  33   7    4  22  ...   \n",
      "\n",
      "      WPA/LI    Clutch       WAR  MLBAMID  decade    WAR/IP      pos  league  \\\n",
      "1   4.197782 -0.139236  8.258535   114947   1980s  0.037883  starter      NL   \n",
      "3   1.940307  2.140701  5.958042   119261   1970s  0.024519  starter      NL   \n",
      "5   3.464275  0.019254  5.189612   119827   1990s  0.027157  starter      NL   \n",
      "7   2.565381  0.814307  4.876077   123619   1980s  0.025383  starter      NL   \n",
      "8   0.998129  0.348202  4.712035   506433   2010s  0.024657  starter      AL   \n",
      "11  1.366993  0.216771  4.648528   119403   1990s  0.021422  starter      NL   \n",
      "12  4.155771  0.074573  4.576262   114102   1970s  0.018371  starter      AL   \n",
      "15  2.193961  1.134963  4.496793   111757   1980s  0.019383  starter      AL   \n",
      "18  1.954259  0.365862  4.391986   134268   1990s  0.026426  starter      NL   \n",
      "19  2.202842  0.229160  4.365029   114226   1990s  0.019136  starter      AL   \n",
      "\n",
      "    award_id  rookie_of_the_year  \n",
      "1         NL                   1  \n",
      "3         NL                   1  \n",
      "5         NL                   1  \n",
      "7         NL                   1  \n",
      "8         AL                   0  \n",
      "11        NL                   0  \n",
      "12        AL                   1  \n",
      "15        AL                   0  \n",
      "18        NL                   1  \n",
      "19        AL                   0  \n",
      "\n",
      "[10 rows x 35 columns]\n"
     ]
    }
   ],
   "source": [
    "relief = relief[relief['league'] == relief['award_id']]\n",
    "starter = starter[starter['league'] == starter['award_id']]\n",
    "\n",
    "## Create an indicator column for those who have won rookie of the year\n",
    "\n",
    "relief['rookie_of_the_year'] = np.where(relief['rookie_of_the_year'] == relief['MLBAMID'], 1, 0)\n",
    "starter['rookie_of_the_year'] = np.where(starter['rookie_of_the_year'] == starter['MLBAMID'], 1, 0)\n",
    "\n",
    "print(relief.head(10))\n",
    "print(\"\\n\")\n",
    "print(starter.head(10))"
   ]
  },
  {
   "cell_type": "markdown",
   "id": "c41aa4a6-5773-4703-800c-a376dbe1d66b",
   "metadata": {},
   "source": [
    "## Create Rank Columns\n",
    "\n",
    "In order to accurately compare players across positions with differing statistical comparisons, as there are with both pitchers and batters I'm deciding to summarize their respective skill across various categories by ranking them using the following:\n",
    "\n",
    "- `mean_rookie_rank`: The mean rank of all the categories ranked\n",
    "- `rookie_rank`: The overall rank amongst all rookies (The ranking of `mean_rookie_rank`)\n",
    "- `mean_mlb_rank`: The mean rank of all the categories ranked (for all MLB players)\n",
    "- `mlb_rank`: The overall rank amongst all MLB Players (The ranking of `mean_mlb_rank`)"
   ]
  },
  {
   "cell_type": "code",
   "execution_count": 17,
   "id": "a50a5b47-d3e1-42f5-ae42-36e370fb7a7e",
   "metadata": {},
   "outputs": [
    {
     "name": "stdout",
     "output_type": "stream",
     "text": [
      "Season  ERA-   WHIP+   SV       WAR/IP            \n",
      "Name    FIP    K%+     BS       IP/G              \n",
      "Team    FIP-   BB%+    SD       SD_pct            \n",
      "G       E-F    K-BB%   MD       pos               \n",
      "IP      K/BB+  WPA     WAR      league            \n",
      "SO      HR/9+  WPA/LI  MLBAMID  award_id          \n",
      "ERA     AVG+   Clutch  decade   rookie_of_the_year\n"
     ]
    }
   ],
   "source": [
    "cli.columnize(relief.columns.tolist(), displaywidth=50)"
   ]
  },
  {
   "cell_type": "code",
   "execution_count": 18,
   "id": "20ebd211-d4cf-474f-8a7d-5921d0ddc6f7",
   "metadata": {},
   "outputs": [],
   "source": [
    "## Lower value indicates better performance\n",
    "low_cols = ['ERA-', 'FIP-', 'HR/9+', 'WHIP+', \n",
    "            'AVG+', 'BB%+', 'MD']\n",
    "\n",
    "## higher value indicates better performance\n",
    "high_cols = ['WAR', 'WAR/IP', 'IP', 'K%+', 'WPA', \n",
    "             'WPA/LI', 'K/BB+', 'K-BB%',\n",
    "             'SD', 'SD_pct', 'Clutch']"
   ]
  },
  {
   "cell_type": "code",
   "execution_count": 19,
   "id": "19d93b8e-9346-4a77-82f2-4892edda6efb",
   "metadata": {},
   "outputs": [],
   "source": [
    "# Rank the low_cols in descending order with percentile-based ranking\n",
    "relief[[col + '_rank' for col in low_cols]] = relief.groupby('Season')[low_cols].rank(ascending=False, \n",
    "                                                                                      na_option='keep',\n",
    "                                                                                      pct=True)\n",
    "\n",
    "# Rank the high_cols in ascending order with percentile-based ranking\n",
    "relief[[col + '_rank' for col in high_cols]] = relief.groupby('Season')[high_cols].rank(ascending=True, \n",
    "                                                                                        na_option='keep',\n",
    "                                                                                        pct=True)\n",
    "\n",
    "# Select columns that end with '_rank'\n",
    "rank_columns = relief.filter(regex='_rank$').columns.tolist()\n",
    "\n",
    "# row means for rank columns\n",
    "relief['mean_rookie_rank'] = relief[rank_columns].mean(axis=1)\n",
    "\n",
    "# Rank mean_rookie_rank in descending order\n",
    "relief['rookie_rank'] = relief.groupby('Season')['mean_rookie_rank'].rank(ascending=False, na_option='keep').astype('int64')"
   ]
  },
  {
   "cell_type": "code",
   "execution_count": 20,
   "id": "cc508f15-b1f2-4aa2-a8a8-4e7ab7de72b5",
   "metadata": {},
   "outputs": [],
   "source": [
    "# Rank the low_cols in descending order with percentile-based ranking\n",
    "relief_24[[col + '_rank' for col in low_cols]] = relief_24.groupby('Season')[low_cols].rank(ascending=False, \n",
    "                                                                                      na_option='keep',\n",
    "                                                                                      pct=True)\n",
    "\n",
    "# Rank the high_cols in ascending order with percentile-based ranking\n",
    "relief_24[[col + '_rank' for col in high_cols]] = relief_24.groupby('Season')[high_cols].rank(ascending=True, \n",
    "                                                                                              na_option='keep', \n",
    "                                                                                              pct=True)\n",
    "\n",
    "# Select columns that end with '_rank'\n",
    "rank_columns = relief_24.filter(regex='_rank$').columns.tolist()\n",
    "\n",
    "relief_24['mean_rookie_rank'] = relief_24[rank_columns].mean(axis=1)\n",
    "\n",
    "# Rank mean_rookie_rank in descending order \n",
    "relief_24['rookie_rank'] = relief_24.groupby('Season')['mean_rookie_rank'].rank(ascending=False, na_option='keep').astype('int64')"
   ]
  },
  {
   "cell_type": "code",
   "execution_count": 21,
   "id": "e7850bdc-5689-4c81-9dfe-03261cc45b60",
   "metadata": {
    "scrolled": true
   },
   "outputs": [],
   "source": [
    "add_cols = ['rookie_of_the_year', 'mean_rookie_rank', 'rookie_rank']\n",
    "rank_columns = rank_columns + add_cols\n",
    "\n",
    "rank_columns.insert(0, 'Name')\n",
    "rank_columns.insert(1, 'Season')\n",
    "rank_columns.insert(2, 'pos')"
   ]
  },
  {
   "cell_type": "code",
   "execution_count": 22,
   "id": "861609b6-487b-41d0-930a-e3480ab7f823",
   "metadata": {
    "scrolled": true
   },
   "outputs": [
    {
     "name": "stdout",
     "output_type": "stream",
     "text": [
      "                 Name  Season     pos  ERA-_rank  FIP-_rank  HR/9+_rank  \\\n",
      "24      Troy Percival    1995  relief   1.000000   1.000000    0.857143   \n",
      "8     Dellin Betances    2014  relief   0.933333   0.933333    0.600000   \n",
      "119       Jhoan Duran    2022  relief   0.966667   0.966667    0.633333   \n",
      "83      Huston Street    2005  closer   1.000000   1.000000    0.863636   \n",
      "42       Joakim Soria    2007  relief   0.850000   1.000000    0.700000   \n",
      "0       Mark Eichhorn    1986  relief   1.000000   1.000000    0.857143   \n",
      "124  Kerry Ligtenberg    1998  closer   0.900000   1.000000    0.700000   \n",
      "82          Ken Giles    2014  relief   1.000000   1.000000    1.000000   \n",
      "58        Gregg Olson    1989  relief   1.000000   1.000000    1.000000   \n",
      "159      Tim Crabtree    1996  relief   1.000000   1.000000    1.000000   \n",
      "\n",
      "     WHIP+_rank  AVG+_rank  BB%+_rank   MD_rank  ...  WPA_rank  WPA/LI_rank  \\\n",
      "24     1.000000   1.000000   0.857143  0.928571  ...  1.000000     1.000000   \n",
      "8      1.000000   1.000000   0.933333  0.600000  ...  1.000000     1.000000   \n",
      "119    0.866667   0.616667   0.900000  0.800000  ...  1.000000     0.966667   \n",
      "83     1.000000   1.000000   0.590909  0.772727  ...  1.000000     1.000000   \n",
      "42     0.950000   1.000000   0.850000  0.775000  ...  1.000000     1.000000   \n",
      "0      1.000000   1.000000   0.857143  0.642857  ...  1.000000     1.000000   \n",
      "124    0.800000   0.800000   0.900000  0.550000  ...  0.900000     0.900000   \n",
      "82     0.933333   0.933333   1.000000  1.000000  ...  0.933333     0.933333   \n",
      "58     1.000000   0.750000   0.750000  0.750000  ...  1.000000     1.000000   \n",
      "159    1.000000   0.875000   0.875000  0.562500  ...  1.000000     0.875000   \n",
      "\n",
      "     K/BB+_rank  K-BB%_rank   SD_rank  SD_pct_rank  Clutch_rank  \\\n",
      "24     1.000000    1.000000  1.000000     1.000000     0.714286   \n",
      "8      0.933333    1.000000  1.000000     0.933333     1.000000   \n",
      "119    0.966667    1.000000  1.000000     1.000000     1.000000   \n",
      "83     0.954545    1.000000  0.863636     0.954545     0.772727   \n",
      "42     0.950000    1.000000  0.950000     1.000000     0.500000   \n",
      "0      1.000000    1.000000  0.928571     1.000000     0.142857   \n",
      "124    1.000000    1.000000  1.000000     1.000000     0.900000   \n",
      "82     1.000000    0.933333  0.733333     1.000000     0.800000   \n",
      "58     1.000000    0.750000  1.000000     1.000000     0.500000   \n",
      "159    0.875000    0.875000  1.000000     1.000000     0.625000   \n",
      "\n",
      "     rookie_of_the_year  mean_rookie_rank  rookie_rank  \n",
      "24                    0          0.960317            1  \n",
      "8                     0          0.933333            1  \n",
      "119                   0          0.920370            1  \n",
      "83                    1          0.919192            1  \n",
      "42                    0          0.913889            1  \n",
      "0                     0          0.912698            1  \n",
      "124                   0          0.908333            1  \n",
      "82                    0          0.903704            2  \n",
      "58                    1          0.902778            1  \n",
      "159                   0          0.902778            1  \n",
      "\n",
      "[10 rows x 24 columns]\n"
     ]
    }
   ],
   "source": [
    "print(relief.loc[:, rank_columns].sort_values('mean_rookie_rank', ascending=False).head(10))"
   ]
  },
  {
   "cell_type": "code",
   "execution_count": 23,
   "id": "b51354d6-397c-40f1-a940-2135f7272a81",
   "metadata": {
    "scrolled": true
   },
   "outputs": [
    {
     "name": "stdout",
     "output_type": "stream",
     "text": [
      "                Name  Season     pos  ERA-_rank  FIP-_rank  HR/9+_rank  \\\n",
      "26        Cade Smith    2024  relief   0.909091   1.000000    0.954545   \n",
      "31      Mason Miller    2024  closer   0.772727   0.954545    0.681818   \n",
      "141    Hunter Gaddis    2024  relief   1.000000   0.727273    0.772727   \n",
      "418     Bryan Hudson    2024  relief   0.954545   0.590909    0.227273   \n",
      "171  Orion Kerkering    2024  relief   0.863636   0.909091    0.863636   \n",
      "242    Justin Slaten    2024  relief   0.636364   0.772727    0.545455   \n",
      "217  Justin Martinez    2024  relief   0.818182   0.818182    0.909091   \n",
      "189    Declan Cronin    2024  relief   0.181818   0.863636    1.000000   \n",
      "626   Ryan Fernandez    2024  relief   0.590909   0.500000    0.727273   \n",
      "762   Tyler Ferguson    2024  relief   0.136364   0.409091    0.363636   \n",
      "\n",
      "     WHIP+_rank  AVG+_rank  BB%+_rank   MD_rank  ...  WPA_rank  WPA/LI_rank  \\\n",
      "26     0.863636   0.727273   0.772727  0.613636  ...  0.863636     0.954545   \n",
      "31     0.909091   0.954545   0.500000  0.954545  ...  1.000000     0.909091   \n",
      "141    0.954545   0.909091   0.909091  0.795455  ...  0.909091     1.000000   \n",
      "418    1.000000   1.000000   0.636364  0.795455  ...  0.954545     0.863636   \n",
      "171    0.727273   0.545455   0.818182  0.409091  ...  0.727273     0.818182   \n",
      "242    0.818182   0.590909   1.000000  0.613636  ...  0.590909     0.681818   \n",
      "217    0.409091   0.681818   0.318182  0.090909  ...  0.636364     0.772727   \n",
      "189    0.318182   0.136364   0.590909  0.409091  ...  0.818182     0.636364   \n",
      "626    0.454545   0.636364   0.272727  0.613636  ...  0.681818     0.272727   \n",
      "762    0.590909   0.863636   0.227273  0.795455  ...  0.500000     0.409091   \n",
      "\n",
      "     K/BB+_rank  K-BB%_rank   SD_rank  SD_pct_rank  Clutch_rank  \\\n",
      "26     0.954545    0.954545  0.954545     0.863636     0.727273   \n",
      "31     0.863636    1.000000  0.863636     1.000000     0.636364   \n",
      "141    0.818182    0.772727  1.000000     0.954545     0.318182   \n",
      "418    0.772727    0.818182  0.909091     0.909091     0.863636   \n",
      "171    0.909091    0.909091  0.636364     0.545455     0.409091   \n",
      "242    1.000000    0.863636  0.795455     0.818182     0.454545   \n",
      "217    0.454545    0.681818  0.727273     0.590909     0.363636   \n",
      "189    0.545455    0.454545  0.568182     0.500000     0.909091   \n",
      "626    0.318182    0.363636  0.681818     0.772727     0.954545   \n",
      "762    0.409091    0.636364  0.477273     0.636364     0.772727   \n",
      "\n",
      "     rookie_of_the_year  mean_rookie_rank  rookie_rank  \n",
      "26                  NaN          0.890152            1  \n",
      "31                  NaN          0.863636            2  \n",
      "141                 NaN          0.837121            3  \n",
      "418                 NaN          0.786616            4  \n",
      "171                 NaN          0.734848            5  \n",
      "242                 NaN          0.709596            6  \n",
      "217                 NaN          0.636364            7  \n",
      "189                 NaN          0.602273            8  \n",
      "626                 NaN          0.566919            9  \n",
      "762                 NaN          0.502525           10  \n",
      "\n",
      "[10 rows x 24 columns]\n"
     ]
    }
   ],
   "source": [
    "print(relief_24.loc[:, rank_columns].sort_values('mean_rookie_rank', ascending=False).head(10))"
   ]
  },
  {
   "cell_type": "code",
   "execution_count": 24,
   "id": "0b6364b9-ad9c-4d50-8562-ec3ac7113c01",
   "metadata": {},
   "outputs": [
    {
     "name": "stdout",
     "output_type": "stream",
     "text": [
      "Season  CG    FIP    K%+     MLBAMID           \n",
      "Name    ShO   FIP-   BB%+    decade            \n",
      "Team    QS    E-F    K-BB%   WAR/IP            \n",
      "W       IP    K/BB+  WPA     pos               \n",
      "L       SO    HR/9+  WPA/LI  league            \n",
      "G       ERA   AVG+   Clutch  award_id          \n",
      "GS      ERA-  WHIP+  WAR     rookie_of_the_year\n",
      "None\n"
     ]
    }
   ],
   "source": [
    "print(cli.columnize(starter.columns.tolist(), displaywidth=50))"
   ]
  },
  {
   "cell_type": "code",
   "execution_count": 25,
   "id": "906af564-a368-4bea-9b87-8db8a5cb8c97",
   "metadata": {},
   "outputs": [],
   "source": [
    "low_cols = ['ERA-', 'FIP-', 'HR/9+', 'WHIP+', \n",
    "            'AVG+', 'BB%+']\n",
    "\n",
    "high_cols = ['WAR', 'WAR/IP', 'IP', 'K%+', 'WPA', \n",
    "             'WPA/LI', 'K/BB+', 'K-BB%', 'Clutch', 'QS']"
   ]
  },
  {
   "cell_type": "code",
   "execution_count": 26,
   "id": "44c3248e-8459-4cb6-87a5-d303ea3b325f",
   "metadata": {
    "scrolled": true
   },
   "outputs": [],
   "source": [
    "# Rank the low_cols in descending order with percentile-based ranking\n",
    "starter[[col + '_rank' for col in low_cols]] = starter.groupby('Season')[low_cols].rank(ascending=False, \n",
    "                                                                                        na_option='keep',\n",
    "                                                                                        pct=True)\n",
    "\n",
    "# Rank the high_cols in ascending order with percentile-based ranking\n",
    "starter[[col + '_rank' for col in high_cols]] = starter.groupby('Season')[high_cols].rank(ascending=True, \n",
    "                                                                                          na_option='keep',\n",
    "                                                                                          pct=True)\n",
    "\n",
    "# Select columns that end with '_rank'\n",
    "rank_columns = starter.filter(regex='_rank$').columns.tolist()\n",
    "\n",
    "starter['mean_rookie_rank'] = starter[rank_columns].mean(axis=1)\n",
    "\n",
    "# Rank mean_rookie_rank in descending order with percentile-based ranking\n",
    "starter['rookie_rank'] = starter.groupby('Season')['mean_rookie_rank'].rank(ascending=False, na_option='keep').astype('int64')"
   ]
  },
  {
   "cell_type": "code",
   "execution_count": 27,
   "id": "c471e044-2ee8-45da-8f5e-99448ea7e24c",
   "metadata": {},
   "outputs": [],
   "source": [
    "# Rank the low_cols in descending order with percentile-based ranking\n",
    "starter_24[[col + '_rank' for col in low_cols]] = starter_24.groupby('Season')[low_cols].rank(ascending=False, \n",
    "                                                                                              na_option='keep', \n",
    "                                                                                              pct=True)\n",
    "\n",
    "# Rank the high_cols in ascending order with percentile-based ranking\n",
    "starter_24[[col + '_rank' for col in high_cols]] = starter_24.groupby('Season')[high_cols].rank(ascending=True, \n",
    "                                                                                                na_option='keep',\n",
    "                                                                                                pct=True)\n",
    "\n",
    "# Select columns that end with '_rank'\n",
    "rank_columns = starter_24.filter(regex='_rank$').columns.tolist()\n",
    "\n",
    "starter_24['mean_rookie_rank'] = starter_24[rank_columns].mean(axis=1)\n",
    "\n",
    "# Rank mean_rookie_rank in descending order with percentile-based ranking\n",
    "starter_24['rookie_rank'] = starter_24.groupby('Season')['mean_rookie_rank'].rank(ascending=False, na_option='keep').astype('int64')"
   ]
  },
  {
   "cell_type": "code",
   "execution_count": 28,
   "id": "f4ed4ae7-8b90-4f91-9c56-c90ea01bf6ff",
   "metadata": {
    "scrolled": true
   },
   "outputs": [],
   "source": [
    "add_cols = ['rookie_of_the_year', 'mean_rookie_rank', 'rookie_rank']\n",
    "rank_columns = rank_columns + add_cols\n",
    "\n",
    "rank_columns.insert(0, 'Name')\n",
    "rank_columns.insert(1, 'Season')\n",
    "rank_columns.insert(2, 'pos')"
   ]
  },
  {
   "cell_type": "code",
   "execution_count": 29,
   "id": "8babd289-2061-4363-8cb4-aacabe068eea",
   "metadata": {
    "scrolled": true
   },
   "outputs": [
    {
     "name": "stdout",
     "output_type": "stream",
     "text": [
      "                    Name  Season      pos  ERA-_rank  FIP-_rank  HR/9+_rank  \\\n",
      "22          Brandon Webb    2003  starter   1.000000   1.000000    1.000000   \n",
      "3        John Montefusco    1975  starter   0.833333   1.000000    1.000000   \n",
      "280          Bill Laskey    1982  starter   1.000000   1.000000    0.666667   \n",
      "15           Britt Burns    1980  starter   1.000000   0.857143    0.571429   \n",
      "5             Hideo Nomo    1995  starter   1.000000   1.000000    0.769231   \n",
      "230         John Fulgham    1979  starter   1.000000   0.916667    0.833333   \n",
      "7    Fernando Valenzuela    1981  starter   0.800000   0.800000    0.400000   \n",
      "46       Edinson Volquez    2008  starter   1.000000   1.000000    0.909091   \n",
      "36        Michael Soroka    2019  starter   1.000000   1.000000    1.000000   \n",
      "1          Dwight Gooden    1984  starter   0.916667   1.000000    1.000000   \n",
      "\n",
      "     WHIP+_rank  AVG+_rank  BB%+_rank  WAR_rank  ...  K%+_rank  WPA_rank  \\\n",
      "22     1.000000   1.000000   0.416667       1.0  ...  1.000000       1.0   \n",
      "3      0.833333   0.500000   0.833333       1.0  ...  1.000000       1.0   \n",
      "280    1.000000   1.000000   1.000000       1.0  ...  0.333333       1.0   \n",
      "15     1.000000   0.857143   0.857143       1.0  ...  0.857143       1.0   \n",
      "5      1.000000   1.000000   0.307692       1.0  ...  1.000000       1.0   \n",
      "230    1.000000   1.000000   1.000000       1.0  ...  0.750000       1.0   \n",
      "7      1.000000   0.800000   0.800000       1.0  ...  1.000000       1.0   \n",
      "46     0.818182   0.909091   0.181818       1.0  ...  1.000000       1.0   \n",
      "36     0.909091   0.727273   0.818182       1.0  ...  0.545455       1.0   \n",
      "1      0.916667   1.000000   0.416667       1.0  ...  1.000000       1.0   \n",
      "\n",
      "     WPA/LI_rank  K/BB+_rank  K-BB%_rank  Clutch_rank   QS_rank  \\\n",
      "22      1.000000    1.000000    1.000000     0.666667  1.000000   \n",
      "3       1.000000    0.833333    1.000000     1.000000  1.000000   \n",
      "280     1.000000    0.833333    0.833333     1.000000  1.000000   \n",
      "15      1.000000    0.857143    0.857143     1.000000  1.000000   \n",
      "5       1.000000    0.923077    1.000000     0.538462  0.961538   \n",
      "230     0.916667    1.000000    1.000000     0.916667  0.666667   \n",
      "7       1.000000    1.000000    1.000000     1.000000  1.000000   \n",
      "46      1.000000    0.727273    1.000000     0.909091  0.909091   \n",
      "36      1.000000    0.909091    0.909091     0.727273  1.000000   \n",
      "1       1.000000    0.916667    1.000000     0.500000  0.833333   \n",
      "\n",
      "     rookie_of_the_year  mean_rookie_rank  rookie_rank  \n",
      "22                    0          0.932292            1  \n",
      "3                     1          0.927083            1  \n",
      "280                   0          0.916667            1  \n",
      "15                    0          0.910714            1  \n",
      "5                     1          0.906250            1  \n",
      "230                   0          0.901042            1  \n",
      "7                     1          0.900000            1  \n",
      "46                    0          0.897727            1  \n",
      "36                    0          0.897727            1  \n",
      "1                     1          0.895833            1  \n",
      "\n",
      "[10 rows x 22 columns]\n"
     ]
    }
   ],
   "source": [
    "print(starter.loc[:, rank_columns].sort_values('mean_rookie_rank', ascending=False).head(10))"
   ]
  },
  {
   "cell_type": "code",
   "execution_count": 30,
   "id": "a2b50248-3c9f-4fc9-b5e4-50ca7a4c3229",
   "metadata": {
    "scrolled": true
   },
   "outputs": [
    {
     "name": "stdout",
     "output_type": "stream",
     "text": [
      "                        Name  Season      pos  ERA-_rank  FIP-_rank  \\\n",
      "63               Paul Skenes    2024  starter   1.000000   1.000000   \n",
      "203            Shota Imanaga    2024  starter   0.833333   0.750000   \n",
      "245                 Luis Gil    2024  starter   0.750000   0.916667   \n",
      "361              Gavin Stone    2024  starter   0.666667   0.666667   \n",
      "501              Jared Jones    2024  starter   0.583333   0.583333   \n",
      "525             Tobias Myers    2024  starter   0.916667   0.416667   \n",
      "334          Mitchell Parker    2024  starter   0.416667   0.833333   \n",
      "433  Simeon Woods Richardson    2024  starter   0.500000   0.500000   \n",
      "635               Joey Estes    2024  starter   0.166667   0.083333   \n",
      "540       Spencer Arrighetti    2024  starter   0.083333   0.333333   \n",
      "\n",
      "     HR/9+_rank  WHIP+_rank  AVG+_rank  BB%+_rank  WAR_rank  ...  K%+_rank  \\\n",
      "63     1.000000    1.000000   0.916667   0.750000  1.000000  ...  1.000000   \n",
      "203    0.083333    0.916667   0.750000   1.000000  0.916667  ...  0.666667   \n",
      "245    0.916667    0.583333   1.000000   0.083333  0.833333  ...  0.916667   \n",
      "361    0.666667    0.500000   0.500000   0.833333  0.666667  ...  0.333333   \n",
      "501    0.250000    0.833333   0.833333   0.500000  0.500000  ...  0.750000   \n",
      "525    0.416667    0.666667   0.666667   0.583333  0.416667  ...  0.583333   \n",
      "334    0.750000    0.333333   0.250000   0.666667  0.750000  ...  0.416667   \n",
      "433    0.833333    0.416667   0.583333   0.250000  0.583333  ...  0.250000   \n",
      "635    0.166667    0.750000   0.416667   0.916667  0.250000  ...  0.083333   \n",
      "540    0.500000    0.166667   0.333333   0.166667  0.333333  ...  0.833333   \n",
      "\n",
      "     WPA_rank  WPA/LI_rank  K/BB+_rank  K-BB%_rank  Clutch_rank   QS_rank  \\\n",
      "63   1.000000     1.000000    0.916667    1.000000     0.916667  0.916667   \n",
      "203  0.833333     0.916667    1.000000    0.916667     0.250000  1.000000   \n",
      "245  0.916667     0.833333    0.083333    0.583333     0.500000  0.666667   \n",
      "361  0.750000     0.666667    0.583333    0.250000     0.833333  0.666667   \n",
      "501  0.583333     0.500000    0.750000    0.833333     0.750000  0.833333   \n",
      "525  0.500000     0.583333    0.666667    0.666667     0.666667  0.208333   \n",
      "334  0.166667     0.416667    0.500000    0.500000     0.083333  0.666667   \n",
      "433  0.666667     0.750000    0.166667    0.083333     0.416667  0.208333   \n",
      "635  0.416667     0.333333    0.833333    0.333333     0.583333  0.333333   \n",
      "540  0.333333     0.250000    0.250000    0.750000     0.333333  0.458333   \n",
      "\n",
      "     rookie_of_the_year  mean_rookie_rank  rookie_rank  \n",
      "63                  NaN          0.927083            1  \n",
      "203                 NaN          0.791667            2  \n",
      "245                 NaN          0.703125            3  \n",
      "361                 NaN          0.625000            4  \n",
      "501                 NaN          0.619792            5  \n",
      "525                 NaN          0.544271            6  \n",
      "334                 NaN          0.520833            7  \n",
      "433                 NaN          0.460938            8  \n",
      "635                 NaN          0.385417            9  \n",
      "540                 NaN          0.382812           10  \n",
      "\n",
      "[10 rows x 22 columns]\n"
     ]
    }
   ],
   "source": [
    "print(starter_24.loc[:, rank_columns].sort_values('mean_rookie_rank', ascending=False).head(10))"
   ]
  },
  {
   "cell_type": "code",
   "execution_count": 31,
   "id": "f0677dab-47d0-42fe-bf78-192288a9eac5",
   "metadata": {
    "scrolled": true
   },
   "outputs": [],
   "source": [
    "rookie_relief = relief\n",
    "rookie_starter = starter\n",
    "\n",
    "rookie_relief_24 = relief_24\n",
    "rookie_starter_24 = starter_24"
   ]
  },
  {
   "cell_type": "markdown",
   "id": "14eccfdb-1f1f-4af1-98c8-6ef396cfaba0",
   "metadata": {},
   "source": [
    "# All of MLB Pitchers"
   ]
  },
  {
   "cell_type": "code",
   "execution_count": 32,
   "id": "315ae0cc-733f-4747-b965-721efa682826",
   "metadata": {},
   "outputs": [
    {
     "name": "stdout",
     "output_type": "stream",
     "text": [
      "Columns for Relief Pitchers: \n",
      "\n",
      "Season  SO    E-F    K%+     Clutch  WAR    \n",
      "Name    ERA   K/BB+  BB%+    SV      MLBAMID\n",
      "Team    ERA-  HR/9+  K-BB%   BS    \n",
      "G       FIP   AVG+   WPA     SD    \n",
      "IP      FIP-  WHIP+  WPA/LI  MD    \n",
      "None\n"
     ]
    }
   ],
   "source": [
    "relief = pd.read_csv('../data/mlb/fg_relief.csv')\n",
    "relief.drop(columns=['NameASCII', 'PlayerId'], inplace=True)\n",
    "relief = relief[~(relief['Season'].isin( [1994, 2020] ))]\n",
    "\n",
    "relief_columns = relief.columns.tolist()\n",
    "print(f\"Columns for Relief Pitchers: \\n\")\n",
    "print(cli.columnize(relief_columns, displaywidth=50))"
   ]
  },
  {
   "cell_type": "code",
   "execution_count": 33,
   "id": "99eeeae6-1a6c-4c34-ad38-d7e0d6a95581",
   "metadata": {},
   "outputs": [],
   "source": [
    "relief['BS'] = relief['BS'].fillna(0)\n",
    "\n",
    "# Add decade columns for pitchers\n",
    "relief = assign_decade(relief)\n",
    "\n",
    "## Add a 'WAR/IP' for a secondary representation of WAR\n",
    "## This can be better for comparing people's true WAR impact across relievers and starters\n",
    "relief['WAR/IP'] = relief['WAR'] / relief['IP']\n",
    "\n",
    "## Add 'IP/G' to help distinguish between relief pitchers and closing pitchers.\n",
    "relief['IP/G'] = relief['IP'] / relief['G']\n",
    "\n",
    "## Add 'SD_pct' to evaluate how much more frequently they are throwing a Shutdown\n",
    "## Shutdown (SD) = Relief Appearance with cumulative WPA > 0.6 (good)\n",
    "## Meltdown (MD) = Relief Appearance with cumulative WPA < -0.6 (bad)\n",
    "relief['SD_pct'] = relief['SD'] / (relief['SD'] + relief['MD'])\n",
    "\n",
    "relief['pos'] = 'relief' # create the relief pitcher designation\n",
    "cond1 = ( ( (relief['SV'] + relief['BS']) / relief['G'] ) >= 0.4)\n",
    "cond2 = (relief['IP/G'] <= 1.25)\n",
    "\n",
    "# Distinguish between a relief pitcher, and a closer (yes, they are different)\n",
    "relief.loc[cond1 & cond2 , 'pos'] = 'closer' "
   ]
  },
  {
   "cell_type": "code",
   "execution_count": 34,
   "id": "5db69756-c582-4644-86d5-e4b27614337c",
   "metadata": {},
   "outputs": [
    {
     "name": "stdout",
     "output_type": "stream",
     "text": [
      "Columns for Starting Pitchers:\n",
      "Season  G    IP    FIP-   WHIP+  WPA/LI \n",
      "Name    GS   SO    E-F    K%+    Clutch \n",
      "Team    CG   ERA   K/BB+  BB%+   WAR    \n",
      "W       ShO  ERA-  HR/9+  K-BB%  MLBAMID\n",
      "L       QS   FIP   AVG+   WPA  \n",
      "None\n"
     ]
    }
   ],
   "source": [
    "starter = pd.read_csv('../data/mlb/fg_starter.csv')\n",
    "starter.drop(columns=['NameASCII', 'PlayerId'], inplace=True)\n",
    "starter = starter[~(starter['Season'].isin( [1994, 2020] ))]\n",
    "\n",
    "starter_columns = starter.columns.tolist()\n",
    "print(f\"Columns for Starting Pitchers:\")\n",
    "print(cli.columnize(starter_columns, displaywidth=50))"
   ]
  },
  {
   "cell_type": "code",
   "execution_count": 35,
   "id": "ecfaed5b-93a4-419c-8fd6-2a5b20c2995d",
   "metadata": {},
   "outputs": [],
   "source": [
    "starter = assign_decade(starter)\n",
    "\n",
    "starter['WAR/IP'] = starter['WAR'] / starter['IP']\n",
    "\n",
    "starter['pos'] = 'starter' # create the starting pitcher designation"
   ]
  },
  {
   "cell_type": "code",
   "execution_count": 36,
   "id": "f8788739-6faf-4381-ad01-70ba30b5344c",
   "metadata": {},
   "outputs": [],
   "source": [
    "# Dictionary for mapping old abbreviations to current ones\n",
    "team_map = {\n",
    "    'CAL': 'LAA',  # California Angels to Los Angeles Angels\n",
    "    'ANA': 'LAA',  # Anaheim Angels to Los Angeles Angels\n",
    "    'FLA': 'MIA',  # Florida Marlins to Miami Marlins\n",
    "    'MON': 'WSN',  # Montreal Expos to Washington Nationals\n",
    "    'TBD': 'TBR'   # Tampa Bay Devil Rays to Tampa Bay Rays\n",
    "}\n",
    "\n",
    "# Replace the 'Team' column with updated abbreviations using .replace()\n",
    "relief['Team'] = relief['Team'].replace(team_map)\n",
    "starter['Team'] = starter['Team'].replace(team_map)"
   ]
  },
  {
   "cell_type": "code",
   "execution_count": 37,
   "id": "9abc0601-3387-43fe-924b-08c55affa46a",
   "metadata": {},
   "outputs": [],
   "source": [
    "# National League\n",
    "nl_teams = ['LAD', 'SDP', 'CIN', 'SFG', 'ATL',\n",
    "            'NYM', 'MIA', 'MIL', 'CHC', 'STL',\n",
    "            'COL', 'PIT', 'ARI', 'PHI', 'WSN']\n",
    "# American League\n",
    "al_teams = ['OAK', 'HOU', 'LAA', 'SEA', 'CLE',\n",
    "            'BAL', 'NYY', 'BOS', 'KCR', 'MIN',\n",
    "            'TOR', 'TEX', 'CHW', 'TBR', 'DET']\n",
    "\n",
    "# add league for the Relievers\n",
    "relief.loc[relief['Team'].isin(nl_teams), 'league'] = 'NL'\n",
    "relief.loc[relief['Team'].isin(al_teams), 'league'] = 'AL'\n",
    "# add league for the Starters\n",
    "starter.loc[starter['Team'].isin(nl_teams), 'league'] = 'NL'\n",
    "starter.loc[starter['Team'].isin(al_teams), 'league'] = 'AL'\n",
    "\n",
    "relief.dropna(subset='league', inplace=True)\n",
    "starter.dropna(subset='league', inplace=True)"
   ]
  },
  {
   "cell_type": "code",
   "execution_count": 38,
   "id": "b13b94ac-d7cf-44a7-8818-2837927b1c46",
   "metadata": {},
   "outputs": [
    {
     "name": "stdout",
     "output_type": "stream",
     "text": [
      "There are 5518 Starting Pitchers in the data\n",
      "There are 6356 Relief Pitchers in the data\n"
     ]
    }
   ],
   "source": [
    "print(f\"There are {starter.shape[0]} Starting Pitchers in the data\")\n",
    "print(f\"There are {relief.shape[0]} Relief Pitchers in the data\")"
   ]
  },
  {
   "cell_type": "code",
   "execution_count": 39,
   "id": "c55de583-8c7d-46d2-97b0-7ef3a2f5fc63",
   "metadata": {},
   "outputs": [],
   "source": [
    "relief_24 = relief[relief['Season'] == 2024]\n",
    "starter_24 = starter[starter['Season'] == 2024]\n",
    "\n",
    "relief = relief[relief['Season'] != 2024]\n",
    "starter = starter[starter['Season'] != 2024]"
   ]
  },
  {
   "cell_type": "code",
   "execution_count": 40,
   "id": "e9c858c7-c4ce-45a7-b9c7-c0b47d222a24",
   "metadata": {
    "scrolled": true
   },
   "outputs": [
    {
     "name": "stdout",
     "output_type": "stream",
     "text": [
      "   Season            Name Team    G     IP   SO       ERA       ERA-  \\\n",
      "0    1977    Bruce Sutter  CHC   62  107.1  129  1.341615  31.241640   \n",
      "1    1986   Mark Eichhorn  TOR   69  157.0  166  1.719745  40.860984   \n",
      "2    1979    Bruce Sutter  CHC   62  101.1  110  2.220395  54.203137   \n",
      "3    1979        Jim Kern  TEX   71  143.0  136  1.573427  37.783756   \n",
      "4    2003      Eric Gagne  LAD   77   82.1  137  1.202429  29.796020   \n",
      "5    1990      Rob Dibble  CIN   68   98.0  136  1.744898  44.466424   \n",
      "6    1996  Mariano Rivera  NYY   61  107.2  130  2.089783  42.868730   \n",
      "7    1977    Rich Gossage  PIT   72  133.0  151  1.624060  41.020796   \n",
      "8    1974   Mike Marshall  LAD  106  208.1  143  2.419200  70.285680   \n",
      "9    1976  Rollie Fingers  OAK   70  134.2  113  2.539604  74.156263   \n",
      "\n",
      "        FIP       FIP-  ...  SD  MD       WAR  MLBAMID  decade    WAR/IP  \\\n",
      "0  1.610714  38.518270  ...  39  10  5.157516   123004   1970s  0.048156   \n",
      "1  2.312413  56.211928  ...  32  10  4.944612   113780   1980s  0.031494   \n",
      "2  1.893350  47.211380  ...  37  12  4.792124   123004   1970s  0.047400   \n",
      "3  2.627270  65.003958  ...  42  14  4.686049   117012   1970s  0.032770   \n",
      "4  0.857432  18.866710  ...  45   4  4.677234   150378   2000s  0.056970   \n",
      "5  1.502176  37.647085  ...  29  13  4.325087   113333   1990s  0.044134   \n",
      "6  1.880551  39.784550  ...  39   6  4.271948   121250   1990s  0.039850   \n",
      "7  2.497442  63.074519  ...  43  15  4.169259   114989   1970s  0.031348   \n",
      "8  2.587820  71.813271  ...  42  29  4.114290   118320   1970s  0.019771   \n",
      "9  2.290950  63.859510  ...  30  17  4.107141   114129   1970s  0.030605   \n",
      "\n",
      "       IP/G    SD_pct     pos  league  \n",
      "0  1.727419  0.795918  relief      NL  \n",
      "1  2.275362  0.761905  relief      AL  \n",
      "2  1.630645  0.755102  relief      NL  \n",
      "3  2.014085  0.750000  relief      AL  \n",
      "4  1.066234  0.918367  closer      NL  \n",
      "5  1.441176  0.690476  relief      NL  \n",
      "6  1.757377  0.866667  relief      AL  \n",
      "7  1.847222  0.741379  relief      NL  \n",
      "8  1.963208  0.591549  relief      NL  \n",
      "9  1.917143  0.638298  relief      AL  \n",
      "\n",
      "[10 rows x 33 columns]\n",
      "\n",
      "\n",
      "   Season            Name Team   W   L   G  GS  CG  ShO  QS  ...     K-BB%  \\\n",
      "0    1999  Pedro Martinez  BOS  22   4  29  29   5    1  24  ...  0.330882   \n",
      "1    1997   Roger Clemens  TOR  21   7  34  34   9    3  26  ...  0.214559   \n",
      "2    2001   Randy Johnson  ARI  20   6  34  34   3    2  27  ...  0.294542   \n",
      "3    2004   Randy Johnson  ARI  16  14  35  35   4    2  26  ...  0.255187   \n",
      "4    2000   Randy Johnson  ARI  19   7  35  35   8    3  25  ...  0.270729   \n",
      "5    1998     Kevin Brown  SDP  18   7  35  35   7    3  29  ...  0.199223   \n",
      "6    1995   Randy Johnson  SEA  18   2  30  30   6    3  23  ...  0.264434   \n",
      "7    1999   Randy Johnson  ARI  17   9  35  35  12    2  29  ...  0.272475   \n",
      "8    2000  Pedro Martinez  BOS  18   6  29  29   7    4  25  ...  0.308446   \n",
      "9    2002  Curt Schilling  ARI  23   7  35  35   5    1  27  ...  0.278932   \n",
      "\n",
      "        WPA    WPA/LI    Clutch        WAR  MLBAMID  decade    WAR/IP  \\\n",
      "0  6.476288  6.484162  0.096313  11.578981   118377   1990s  0.055641   \n",
      "1  6.025322  6.228580  0.296371  10.698597   112388   1990s  0.040525   \n",
      "2  5.801150  5.395372  0.190373   9.710692   116615   2000s  0.040094   \n",
      "3  3.998922  6.245198 -2.161385   9.606084   116615   2000s  0.039177   \n",
      "4  5.375454  4.412641  0.573630   9.577023   116615   2000s  0.038586   \n",
      "5  4.267992  5.011033 -1.119302   9.483250   111554   1990s  0.037044   \n",
      "6  6.643420  6.154059  0.330988   9.481750   116615   1990s  0.044287   \n",
      "7  5.422270  5.039228  0.606301   9.478136   116615   1990s  0.034949   \n",
      "8  7.614680  8.087172 -0.246584   9.374989   118377   2000s  0.043203   \n",
      "9  4.633178  6.102302 -1.000334   9.364743   121811   2000s  0.036283   \n",
      "\n",
      "       pos  league  \n",
      "0  starter      AL  \n",
      "1  starter      AL  \n",
      "2  starter      NL  \n",
      "3  starter      NL  \n",
      "4  starter      NL  \n",
      "5  starter      NL  \n",
      "6  starter      AL  \n",
      "7  starter      NL  \n",
      "8  starter      AL  \n",
      "9  starter      NL  \n",
      "\n",
      "[10 rows x 33 columns]\n",
      "\n",
      "\n",
      "     Season             Name Team   G    IP  SO       ERA       ERA-  \\\n",
      "192    2024       Cade Smith  CLE  69  70.0  93  2.057143  51.001939   \n",
      "206    2024      Griffin Jax  MIN  66  64.2  84  1.948454  48.328903   \n",
      "207    2024     Mason Miller  OAK  48  57.2  91  2.341041  59.869811   \n",
      "316    2024   Emmanuel Clase  CLE  67  67.1  60  0.668317  16.569314   \n",
      "331    2024     Jeff Hoffman  PHI  62  60.1  81  1.790055  43.273439   \n",
      "365    2024  David Robertson  TEX  59  63.0  91  2.857143  70.290044   \n",
      "388    2024     Ryan Helsley  STL  60  61.2  72  2.189189  53.847407   \n",
      "497    2024      Kirby Yates  TEX  55  55.2  79  1.293413  31.819924   \n",
      "524    2024      Matt Strahm  PHI  60  56.2  69  2.064706  49.912943   \n",
      "540    2024      Ryan Walker  SFG  69  73.1  93  1.840909  45.623215   \n",
      "\n",
      "          FIP       FIP-  ...  SD  MD       WAR  MLBAMID  decade    WAR/IP  \\\n",
      "192  1.561386  37.133151  ...  29   7  2.351575   671922   2020s  0.033594   \n",
      "206  1.969487  47.027493  ...  37   9  2.319572   643377   2020s  0.036130   \n",
      "207  1.961799  48.376364  ...  25   4  2.313269   695243   2020s  0.040442   \n",
      "316  2.225177  53.634891  ...  40   4  2.076309   661403   2020s  0.030944   \n",
      "331  2.413241  58.561419  ...  33   7  2.049099   656546   2020s  0.034095   \n",
      "365  2.350275  55.302134  ...  34  10  2.002238   502085   2020s  0.031782   \n",
      "388  2.591888  65.263259  ...  32   4  1.965877   664854   2020s  0.032122   \n",
      "497  2.493037  58.760947  ...  35   5  1.800588   489446   2020s  0.032619   \n",
      "524  2.505084  60.729363  ...  30  11  1.776436   621381   2020s  0.031609   \n",
      "540  2.289309  59.120113  ...  37   9  1.750927   676254   2020s  0.023952   \n",
      "\n",
      "         IP/G    SD_pct     pos  league  \n",
      "192  1.014493  0.805556  relief      AL  \n",
      "206  0.972727  0.804348  relief      AL  \n",
      "207  1.191667  0.862069  closer      AL  \n",
      "316  1.001493  0.909091  closer      AL  \n",
      "331  0.969355  0.825000  relief      NL  \n",
      "365  1.067797  0.772727  relief      AL  \n",
      "388  1.020000  0.888889  closer      NL  \n",
      "497  1.003636  0.875000  closer      AL  \n",
      "524  0.936667  0.731707  relief      NL  \n",
      "540  1.059420  0.804348  relief      NL  \n",
      "\n",
      "[10 rows x 33 columns]\n",
      "\n",
      "\n",
      "     Season                Name Team   W   L   G  GS  CG  ShO  QS  ...  \\\n",
      "160    2024          Chris Sale  ATL  16   3  27  27   0    0  17  ...   \n",
      "330    2024        Tarik Skubal  DET  16   4  28  28   0    0  20  ...   \n",
      "537    2024        Zack Wheeler  PHI  15   6  29  29   0    0  23  ...   \n",
      "592    2024  Cristopher Sánchez  PHI  10   9  28  28   2    1  16  ...   \n",
      "600    2024         Cole Ragans  KCR  11   9  30  30   1    0  19  ...   \n",
      "718    2024           Seth Lugo  KCR  16   8  30  30   1    0  21  ...   \n",
      "900    2024       Logan Gilbert  SEA   7  11  29  29   1    0  22  ...   \n",
      "922    2024          Logan Webb  SFG  12   9  30  30   1    1  19  ...   \n",
      "969    2024         Dylan Cease  SDP  12  11  30  30   1    1  14  ...   \n",
      "997    2024     Garrett Crochet  CHW   6  11  29  29   0    0  11  ...   \n",
      "\n",
      "        K-BB%       WPA    WPA/LI    Clutch       WAR  MLBAMID  decade  \\\n",
      "160  0.270517  3.948852  4.397632 -0.245861  6.218668   519242   2020s   \n",
      "330  0.254731  3.770138  3.707757  0.376536  5.294528   669373   2020s   \n",
      "537  0.210674  3.823656  3.211192  0.945121  4.729380   554430   2020s   \n",
      "592  0.143485  1.905250  2.062728 -0.215252  4.602138   650911   2020s   \n",
      "600  0.212079  2.121270  2.592398 -0.498069  4.593054   666142   2020s   \n",
      "718  0.159178  3.714124  3.496222  0.259657  4.389849   607625   2020s   \n",
      "900  0.222222  1.530140  3.383178 -1.580950  4.091342   669302   2020s   \n",
      "922  0.142674  1.632141  2.346646 -0.776539  4.058874   657277   2020s   \n",
      "969  0.210756  0.834004  1.828526 -0.880796  3.975444   656302   2020s   \n",
      "997  0.288566  1.384192  1.533543 -0.153609  3.934473   676979   2020s   \n",
      "\n",
      "       WAR/IP      pos  league  \n",
      "160  0.037417  starter      NL  \n",
      "330  0.030428  starter      AL  \n",
      "537  0.026392  starter      NL  \n",
      "592  0.027892  starter      NL  \n",
      "600  0.026534  starter      AL  \n",
      "718  0.022745  starter      AL  \n",
      "900  0.022091  starter      AL  \n",
      "922  0.021453  starter      NL  \n",
      "969  0.023385  starter      NL  \n",
      "997  0.029362  starter      AL  \n",
      "\n",
      "[10 rows x 33 columns]\n"
     ]
    }
   ],
   "source": [
    "print(relief.head(10))\n",
    "print(\"\\n\")\n",
    "print(starter.head(10))\n",
    "print(\"\\n\")\n",
    "print(relief_24.head(10))\n",
    "print(\"\\n\")\n",
    "print(starter_24.head(10))"
   ]
  },
  {
   "cell_type": "code",
   "execution_count": 41,
   "id": "8a4a87fb-1283-4121-85fb-42c9c3afa1c6",
   "metadata": {},
   "outputs": [],
   "source": [
    "low_cols = ['ERA-', 'FIP-', 'HR/9+', 'WHIP+', \n",
    "            'AVG+', 'BB%+', 'MD']\n",
    "\n",
    "high_cols = ['WAR', 'WAR/IP', 'IP', 'K%+', 'WPA', \n",
    "             'WPA/LI', 'K/BB+', 'K-BB%',\n",
    "             'SD', 'SD_pct', 'Clutch']"
   ]
  },
  {
   "cell_type": "code",
   "execution_count": 42,
   "id": "47816c00-4ccb-44a1-ae93-b2421610e899",
   "metadata": {},
   "outputs": [],
   "source": [
    "# Rank the low_cols in descending order with percentile-based ranking\n",
    "relief[[col + '_rank' for col in low_cols]] = relief.groupby('Season')[low_cols].rank(ascending=False, \n",
    "                                                                                      na_option='keep',\n",
    "                                                                                      pct=True)\n",
    "\n",
    "# Rank the high_cols in ascending order with percentile-based ranking\n",
    "relief[[col + '_rank' for col in high_cols]] = relief.groupby('Season')[high_cols].rank(ascending=True, \n",
    "                                                                                        na_option='keep',\n",
    "                                                                                        pct=True)\n",
    "\n",
    "# Select columns that end with '_rank'\n",
    "rank_columns = relief.filter(regex='_rank$').columns.tolist()\n",
    "\n",
    "relief['mean_mlb_rank'] = relief[rank_columns].mean(axis=1)\n",
    "\n",
    "# Rank mean_mlb_rank in descending order with percentile-based ranking\n",
    "relief['mlb_rank'] = relief.groupby('Season')['mean_mlb_rank'].rank(ascending=False, na_option='keep').astype('int64')"
   ]
  },
  {
   "cell_type": "code",
   "execution_count": 43,
   "id": "f0815fba-2890-444d-bd96-b6565a5d9948",
   "metadata": {},
   "outputs": [],
   "source": [
    "# Rank the low_cols in descending order with percentile-based ranking\n",
    "relief_24[[col + '_rank' for col in low_cols]] = relief_24.groupby('Season')[low_cols].rank(ascending=False, \n",
    "                                                                                      na_option='keep',\n",
    "                                                                                      pct=True)\n",
    "\n",
    "# Rank the high_cols in ascending order with percentile-based ranking\n",
    "relief_24[[col + '_rank' for col in high_cols]] = relief_24.groupby('Season')[high_cols].rank(ascending=True, \n",
    "                                                                                              na_option='keep', \n",
    "                                                                                              pct=True)\n",
    "\n",
    "# Select columns that end with '_rank'\n",
    "rank_columns = relief_24.filter(regex='_rank$').columns.tolist()\n",
    "\n",
    "relief_24['mean_mlb_rank'] = relief_24[rank_columns].mean(axis=1)\n",
    "\n",
    "# Rank mean_mlb_rank in descending order with percentile-based ranking\n",
    "relief_24['mlb_rank'] = relief_24.groupby('Season')['mean_mlb_rank'].rank(ascending=False, na_option='keep').astype('int64')"
   ]
  },
  {
   "cell_type": "code",
   "execution_count": 44,
   "id": "ce6182a8-1440-4e42-8c40-b477f5b49c0d",
   "metadata": {
    "scrolled": true
   },
   "outputs": [],
   "source": [
    "add_cols = ['mean_mlb_rank', 'mlb_rank']\n",
    "rank_columns = rank_columns + add_cols\n",
    "\n",
    "rank_columns.insert(0, 'Name')\n",
    "rank_columns.insert(1, 'Season')\n",
    "rank_columns.insert(2, 'pos')"
   ]
  },
  {
   "cell_type": "code",
   "execution_count": 45,
   "id": "f222dc78-1a4d-4656-9080-267061174512",
   "metadata": {
    "scrolled": true
   },
   "outputs": [
    {
     "name": "stdout",
     "output_type": "stream",
     "text": [
      "                 Name  Season     pos  ERA-_rank  FIP-_rank  HR/9+_rank  \\\n",
      "28      Kenley Jansen    2017  closer   0.987097   1.000000    0.716129   \n",
      "37   Willie Hernandez    1984  relief   0.981308   0.981308    0.869159   \n",
      "46     Trevor Hoffman    1998  closer   0.986014   0.993007    0.958042   \n",
      "40   Dennis Eckersley    1990  closer   1.000000   1.000000    0.933884   \n",
      "4          Eric Gagne    2003  closer   0.993056   1.000000    0.958333   \n",
      "20      Blake Treinen    2018  closer   1.000000   0.987179    0.980769   \n",
      "57         Joe Nathan    2006  closer   0.972789   1.000000    0.925170   \n",
      "6      Mariano Rivera    1996  relief   0.984615   1.000000    1.000000   \n",
      "298         J.J. Putz    2007  closer   0.993789   0.937888    0.490683   \n",
      "17         Eric Gagne    2002  closer   0.887324   0.992958    0.598592   \n",
      "\n",
      "     WHIP+_rank  AVG+_rank  BB%+_rank   MD_rank  ...  K%+_rank  WPA_rank  \\\n",
      "28     0.987097   0.922581   1.000000  0.967742  ...  0.993548  1.000000   \n",
      "37     0.990654   0.962617   0.822430  0.901869  ...  0.897196  1.000000   \n",
      "46     0.993007   0.993007   0.769231  0.895105  ...  0.972028  1.000000   \n",
      "40     1.000000   1.000000   1.000000  0.946281  ...  0.983471  1.000000   \n",
      "4      1.000000   1.000000   0.798611  0.892361  ...  1.000000  1.000000   \n",
      "20     0.974359   0.961538   0.769231  0.948718  ...  0.891026  1.000000   \n",
      "57     0.986395   1.000000   0.809524  0.969388  ...  1.000000  0.986395   \n",
      "6      0.984615   0.969231   0.838462  0.842308  ...  0.992308  0.984615   \n",
      "298    1.000000   0.993789   0.975155  0.984472  ...  0.956522  1.000000   \n",
      "17     0.992958   0.943662   0.957746  0.813380  ...  1.000000  1.000000   \n",
      "\n",
      "     WPA/LI_rank  K/BB+_rank  K-BB%_rank   SD_rank  SD_pct_rank  Clutch_rank  \\\n",
      "28      0.987097    1.000000    0.993548  0.993548     0.993548     0.954839   \n",
      "37      1.000000    0.943925    0.915888  0.981308     1.000000     0.981308   \n",
      "46      1.000000    0.972028    0.986014  0.979021     0.986014     0.797203   \n",
      "40      1.000000    1.000000    0.991736  0.962810     1.000000     0.603306   \n",
      "4       1.000000    0.986111    1.000000  1.000000     0.986111     0.500000   \n",
      "20      1.000000    0.897436    0.903846  0.996795     1.000000     0.717949   \n",
      "57      0.993197    0.986395    1.000000  0.914966     1.000000     0.836735   \n",
      "6       1.000000    0.969231    0.976923  0.976923     0.984615     0.461538   \n",
      "298     0.987578    0.993789    0.987578  0.993789     1.000000     0.956522   \n",
      "17      0.978873    1.000000    1.000000  1.000000     0.978873     0.887324   \n",
      "\n",
      "     mean_mlb_rank  mlb_rank  \n",
      "28        0.962545         1  \n",
      "37        0.954050         1  \n",
      "46        0.945998         1  \n",
      "40        0.944444         1  \n",
      "4         0.944252         1  \n",
      "20        0.943554         1  \n",
      "57        0.943122         1  \n",
      "6         0.942521         1  \n",
      "298       0.941856         1  \n",
      "17        0.941706         1  \n",
      "\n",
      "[10 rows x 23 columns]\n"
     ]
    }
   ],
   "source": [
    "print(relief.loc[:, rank_columns].sort_values('mean_mlb_rank', ascending=False).head(10))"
   ]
  },
  {
   "cell_type": "code",
   "execution_count": 46,
   "id": "da5fec4e-d3d9-4389-8332-35f2d53590f9",
   "metadata": {
    "scrolled": true
   },
   "outputs": [
    {
     "name": "stdout",
     "output_type": "stream",
     "text": [
      "                Name  Season     pos  ERA-_rank  FIP-_rank  HR/9+_rank  \\\n",
      "316   Emmanuel Clase    2024  closer   1.000000   0.972414    0.951724   \n",
      "546  Raisel Iglesias    2024  closer   0.993103   0.944828    0.931034   \n",
      "192       Cade Smith    2024  relief   0.910345   1.000000    0.979310   \n",
      "540      Ryan Walker    2024  relief   0.937931   0.924138    0.875862   \n",
      "207     Mason Miller    2024  closer   0.868966   0.986207    0.813793   \n",
      "331     Jeff Hoffman    2024  relief   0.958621   0.937931    0.675862   \n",
      "206      Griffin Jax    2024  relief   0.931034   0.993103    0.903448   \n",
      "497      Kirby Yates    2024  closer   0.986207   0.931034    0.882759   \n",
      "867    Hunter Gaddis    2024  relief   0.979310   0.813793    0.855172   \n",
      "388     Ryan Helsley    2024  closer   0.889655   0.875862    0.896552   \n",
      "\n",
      "     WHIP+_rank  AVG+_rank  BB%+_rank   MD_rank  ...  K%+_rank  WPA_rank  \\\n",
      "316    0.993103   0.951724   0.979310  0.920690  ...  0.517241  1.000000   \n",
      "546    1.000000   0.986207   0.917241  0.965517  ...  0.737931  0.993103   \n",
      "192    0.924138   0.813793   0.765517  0.672414  ...  0.937931  0.910345   \n",
      "540    0.958621   0.931034   0.834483  0.403448  ...  0.917241  0.972414   \n",
      "207    0.937931   0.972414   0.468966  0.920690  ...  1.000000  0.965517   \n",
      "331    0.896552   0.827586   0.779310  0.672414  ...  0.931034  0.924138   \n",
      "206    0.931034   0.889655   0.820690  0.403448  ...  0.910345  0.875862   \n",
      "497    0.944828   1.000000   0.193103  0.858621  ...  0.965517  0.986207   \n",
      "867    0.979310   0.958621   0.848276  0.775862  ...  0.537931  0.917241   \n",
      "388    0.682759   0.731034   0.420690  0.920690  ...  0.800000  0.979310   \n",
      "\n",
      "     WPA/LI_rank  K/BB+_rank  K-BB%_rank   SD_rank  SD_pct_rank  Clutch_rank  \\\n",
      "316     1.000000    0.979310    0.827586  1.000000     1.000000     0.862069   \n",
      "546     0.993103    0.944828    0.875862  0.793103     0.993103     0.634483   \n",
      "192     0.979310    0.924138    0.979310  0.889655     0.924138     0.655172   \n",
      "540     0.972414    0.951724    0.965517  0.986207     0.913793     0.806897   \n",
      "207     0.958621    0.868966    1.000000  0.793103     0.972414     0.524138   \n",
      "331     0.875862    0.917241    0.958621  0.948276     0.944828     0.724138   \n",
      "206     0.931034    0.937931    0.951724  0.986207     0.913793     0.324138   \n",
      "497     0.965517    0.572414    0.931034  0.972414     0.979310     0.620690   \n",
      "867     0.986207    0.834483    0.717241  0.962069     0.965517     0.255172   \n",
      "388     0.903448    0.565517    0.744828  0.934483     0.986207     0.800000   \n",
      "\n",
      "     mean_mlb_rank  mlb_rank  \n",
      "316       0.934674         1  \n",
      "546       0.907854         2  \n",
      "192       0.899808         3  \n",
      "540       0.898276         4  \n",
      "207       0.873180         5  \n",
      "331       0.871264         6  \n",
      "206       0.866092         7  \n",
      "497       0.850000         8  \n",
      "867       0.838123         9  \n",
      "388       0.825096        10  \n",
      "\n",
      "[10 rows x 23 columns]\n"
     ]
    }
   ],
   "source": [
    "print(relief_24.loc[:, rank_columns].sort_values('mean_mlb_rank', ascending=False).head(10))"
   ]
  },
  {
   "cell_type": "code",
   "execution_count": 47,
   "id": "9e0c2843-f87d-42f0-ad3a-d947bff935b4",
   "metadata": {},
   "outputs": [
    {
     "name": "stdout",
     "output_type": "stream",
     "text": [
      "Season  G    IP    FIP-   WHIP+  WPA/LI   WAR/IP\n",
      "Name    GS   SO    E-F    K%+    Clutch   pos   \n",
      "Team    CG   ERA   K/BB+  BB%+   WAR      league\n",
      "W       ShO  ERA-  HR/9+  K-BB%  MLBAMID\n",
      "L       QS   FIP   AVG+   WPA    decade \n",
      "None\n"
     ]
    }
   ],
   "source": [
    "print(cli.columnize(starter.columns.tolist(), displaywidth=50))"
   ]
  },
  {
   "cell_type": "code",
   "execution_count": 48,
   "id": "2f77e351-4172-4cdb-99a3-5d2cb51dd5fb",
   "metadata": {},
   "outputs": [],
   "source": [
    "low_cols = ['ERA-', 'FIP-', 'HR/9+', 'WHIP+', \n",
    "            'AVG+', 'BB%+']\n",
    "\n",
    "high_cols = ['WAR', 'WAR/IP', 'IP', 'K%+', 'WPA', \n",
    "             'WPA/LI', 'K/BB+', 'K-BB%', 'Clutch', 'QS']"
   ]
  },
  {
   "cell_type": "code",
   "execution_count": 49,
   "id": "1c29341a-c107-40a5-9a7e-f0c592bec743",
   "metadata": {
    "scrolled": true
   },
   "outputs": [],
   "source": [
    "# Rank the low_cols in descending order with percentile-based ranking\n",
    "starter[[col + '_rank' for col in low_cols]] = starter.groupby('Season')[low_cols].rank(ascending=False, \n",
    "                                                                                        na_option='keep',\n",
    "                                                                                        pct=True)\n",
    "\n",
    "# Rank the high_cols in ascending order with percentile-based ranking\n",
    "starter[[col + '_rank' for col in high_cols]] = starter.groupby('Season')[high_cols].rank(ascending=True, \n",
    "                                                                                          na_option='keep',\n",
    "                                                                                          pct=True)\n",
    "\n",
    "# Select columns that end with '_rank'\n",
    "rank_columns = starter.filter(regex='_rank$').columns.tolist()\n",
    "\n",
    "starter['mean_mlb_rank'] = starter[rank_columns].mean(axis=1)\n",
    "\n",
    "# Rank mean_mlb_rank in descending order with percentile-based ranking\n",
    "starter['mlb_rank'] = starter.groupby('Season')['mean_mlb_rank'].rank(ascending=False, na_option='keep').astype('int64')"
   ]
  },
  {
   "cell_type": "code",
   "execution_count": 50,
   "id": "51f06d1d-87f5-415b-bc6e-855544fe207f",
   "metadata": {},
   "outputs": [],
   "source": [
    "# Rank the low_cols in descending order with percentile-based ranking\n",
    "starter_24[[col + '_rank' for col in low_cols]] = starter_24.groupby('Season')[low_cols].rank(ascending=False, \n",
    "                                                                                              na_option='keep', \n",
    "                                                                                              pct=True)\n",
    "\n",
    "# Rank the high_cols in ascending order with percentile-based ranking\n",
    "starter_24[[col + '_rank' for col in high_cols]] = starter_24.groupby('Season')[high_cols].rank(ascending=True, \n",
    "                                                                                                na_option='keep',\n",
    "                                                                                                pct=True)\n",
    "\n",
    "# Select columns that end with '_rank'\n",
    "rank_columns = starter_24.filter(regex='_rank$').columns.tolist()\n",
    "\n",
    "starter_24['mean_mlb_rank'] = starter_24[rank_columns].mean(axis=1)\n",
    "\n",
    "# Rank mean_mlb_rank in descending order with percentile-based ranking\n",
    "starter_24['mlb_rank'] = starter_24.groupby('Season')['mean_mlb_rank'].rank(ascending=False, na_option='keep').astype('int64')"
   ]
  },
  {
   "cell_type": "code",
   "execution_count": 51,
   "id": "2327d097-693b-4c9d-bb44-22ec640524bd",
   "metadata": {
    "scrolled": true
   },
   "outputs": [],
   "source": [
    "add_cols = ['mean_mlb_rank', 'mlb_rank']\n",
    "rank_columns = rank_columns + add_cols\n",
    "\n",
    "rank_columns.insert(0, 'Name')\n",
    "rank_columns.insert(1, 'Season')\n",
    "rank_columns.insert(2, 'pos')"
   ]
  },
  {
   "cell_type": "code",
   "execution_count": 52,
   "id": "15a859ac-556e-429e-9b21-95c941af6ee0",
   "metadata": {
    "scrolled": true
   },
   "outputs": [
    {
     "name": "stdout",
     "output_type": "stream",
     "text": [
      "               Name  Season      pos  ERA-_rank  FIP-_rank  HR/9+_rank  \\\n",
      "14    Dwight Gooden    1985  starter   1.000000   1.000000    0.933333   \n",
      "36      Greg Maddux    1995  starter   1.000000   0.989474    0.989474   \n",
      "31    Roger Clemens    1990  starter   1.000000   1.000000    1.000000   \n",
      "17     Zack Greinke    2009  starter   1.000000   1.000000    0.981818   \n",
      "12     Jacob deGrom    2018  starter   1.000000   0.991525    0.991525   \n",
      "44  Bret Saberhagen    1989  starter   1.000000   1.000000    0.951923   \n",
      "77     Jake Arrieta    2015  starter   0.991870   0.991870    1.000000   \n",
      "1     Roger Clemens    1997  starter   1.000000   1.000000    0.990741   \n",
      "97      Kevin Brown    2000  starter   0.974359   0.982906    0.871795   \n",
      "6     Randy Johnson    1995  starter   0.989474   1.000000    0.968421   \n",
      "\n",
      "    WHIP+_rank  AVG+_rank  BB%+_rank  WAR_rank  ...   IP_rank  K%+_rank  \\\n",
      "14    0.990476   0.990476   0.771429  1.000000  ...  1.000000  0.990476   \n",
      "36    1.000000   0.989474   1.000000  0.989474  ...  0.947368  0.915789   \n",
      "31    0.963303   0.917431   0.853211  1.000000  ...  0.889908  0.954128   \n",
      "17    0.963636   0.954545   0.863636  1.000000  ...  0.950000  0.963636   \n",
      "12    0.974576   0.940678   0.864407  1.000000  ...  0.991525  0.957627   \n",
      "44    1.000000   0.971154   0.990385  1.000000  ...  1.000000  0.932692   \n",
      "77    0.991870   1.000000   0.780488  0.991870  ...  0.983740  0.926829   \n",
      "1     0.981481   0.981481   0.814815  1.000000  ...  0.995370  0.972222   \n",
      "97    0.991453   0.982906   0.931624  0.974359  ...  0.940171  0.957265   \n",
      "6     0.989474   0.978947   0.673684  1.000000  ...  0.978947  1.000000   \n",
      "\n",
      "    WPA_rank  WPA/LI_rank  K/BB+_rank  K-BB%_rank  Clutch_rank   QS_rank  \\\n",
      "14  1.000000     0.990476    0.971429    1.000000     1.000000  1.000000   \n",
      "36  1.000000     1.000000    1.000000    0.978947     0.831579  0.989474   \n",
      "31  1.000000     1.000000    0.981651    0.981651     0.972477  0.990826   \n",
      "17  1.000000     1.000000    0.972727    0.972727     0.827273  0.986364   \n",
      "12  1.000000     0.991525    0.957627    0.974576     0.796610  0.995763   \n",
      "44  1.000000     1.000000    1.000000    0.990385     0.557692  1.000000   \n",
      "77  0.991870     1.000000    0.869919    0.926829     0.837398  0.991870   \n",
      "1   0.981481     1.000000    0.972222    0.972222     0.638889  0.958333   \n",
      "97  0.982906     0.974359    0.974359    0.982906     0.743590  0.995726   \n",
      "6   0.989474     0.989474    0.989474    1.000000     0.642105  1.000000   \n",
      "\n",
      "    mean_mlb_rank  mlb_rank  \n",
      "14       0.977381         1  \n",
      "36       0.975658         1  \n",
      "31       0.969037         1  \n",
      "17       0.964773         1  \n",
      "12       0.964248         1  \n",
      "44       0.961538         1  \n",
      "77       0.954268         1  \n",
      "1        0.953704         1  \n",
      "97       0.952724         1  \n",
      "6        0.949342         2  \n",
      "\n",
      "[10 rows x 21 columns]\n"
     ]
    }
   ],
   "source": [
    "print(starter.loc[:, rank_columns].sort_values('mean_mlb_rank', ascending=False).head(10))"
   ]
  },
  {
   "cell_type": "code",
   "execution_count": 53,
   "id": "5e83308b-8ca8-4e55-81cf-014ee9f92899",
   "metadata": {},
   "outputs": [
    {
     "name": "stdout",
     "output_type": "stream",
     "text": [
      "                Name  Season      pos  ERA-_rank  FIP-_rank  HR/9+_rank  \\\n",
      "330     Tarik Skubal    2024  starter   0.959184   0.989796    0.897959   \n",
      "160       Chris Sale    2024  starter   0.979592   1.000000    1.000000   \n",
      "537     Zack Wheeler    2024  starter   0.948980   0.887755    0.785714   \n",
      "1242     Paul Skenes    2024  starter   0.989796   0.979592    0.857143   \n",
      "900    Logan Gilbert    2024  starter   0.724490   0.877551    0.724490   \n",
      "718        Seth Lugo    2024  starter   0.928571   0.846939    0.918367   \n",
      "600      Cole Ragans    2024  starter   0.806122   0.938776    0.846939   \n",
      "1778  Reynaldo López    2024  starter   1.000000   0.897959    0.887755   \n",
      "1165   Hunter Greene    2024  starter   0.938776   0.836735    0.908163   \n",
      "1430  Framber Valdez    2024  starter   0.897959   0.867347    0.938776   \n",
      "\n",
      "      WHIP+_rank  AVG+_rank  BB%+_rank  WAR_rank  ...   IP_rank  K%+_rank  \\\n",
      "330     0.959184   0.877551   0.918367  0.989796  ...  0.918367  0.959184   \n",
      "160     0.938776   0.867347   0.857143  1.000000  ...  0.826531  0.989796   \n",
      "537     0.969388   0.969388   0.520408  0.979592  ...  0.969388  0.897959   \n",
      "1242    0.948980   0.908163   0.591837  0.846939  ...  0.173469  0.979592   \n",
      "900     0.989796   0.948980   0.938776  0.938776  ...  0.979592  0.826531   \n",
      "718     0.806122   0.622449   0.816327  0.948980  ...  1.000000  0.408163   \n",
      "600     0.642857   0.816327   0.290816  0.959184  ...  0.908163  0.928571   \n",
      "1778    0.755102   0.806122   0.316327  0.775510  ...  0.239796  0.806122   \n",
      "1165    0.897959   1.000000   0.122449  0.877551  ...  0.459184  0.887755   \n",
      "1430    0.785714   0.795918   0.346939  0.826531  ...  0.653061  0.673469   \n",
      "\n",
      "      WPA_rank  WPA/LI_rank  K/BB+_rank  K-BB%_rank  Clutch_rank   QS_rank  \\\n",
      "330   0.979592     0.989796    0.959184    0.959184     0.704082  0.964286   \n",
      "160   1.000000     1.000000    0.948980    0.989796     0.316327  0.862245   \n",
      "537   0.989796     0.959184    0.816327    0.877551     0.908163  1.000000   \n",
      "1242  0.959184     0.897959    0.897959    0.979592     0.795918  0.734694   \n",
      "900   0.755102     0.969388    0.928571    0.918367     0.020408  0.989796   \n",
      "718   0.969388     0.979592    0.714286    0.571429     0.683673  0.979592   \n",
      "600   0.908163     0.887755    0.622449    0.897959     0.204082  0.933673   \n",
      "1778  0.948980     0.867347    0.510204    0.744898     0.887755  0.653061   \n",
      "1165  0.938776     0.948980    0.448980    0.775510     0.387755  0.653061   \n",
      "1430  0.928571     0.908163    0.438776    0.602041     0.591837  0.801020   \n",
      "\n",
      "      mean_mlb_rank  mlb_rank  \n",
      "330        0.938457         1  \n",
      "160        0.911033         2  \n",
      "537        0.899872         3  \n",
      "1242       0.845026         4  \n",
      "900        0.834821         5  \n",
      "718        0.815051         6  \n",
      "600        0.783163         7  \n",
      "1778       0.749681         8  \n",
      "1165       0.749362         9  \n",
      "1430       0.741390        10  \n",
      "\n",
      "[10 rows x 21 columns]\n"
     ]
    }
   ],
   "source": [
    "print(starter_24.loc[:, rank_columns].sort_values('mean_mlb_rank', ascending=False).head(10))"
   ]
  },
  {
   "cell_type": "code",
   "execution_count": 54,
   "id": "476a687f-1843-4626-b2e6-505c948adb51",
   "metadata": {},
   "outputs": [],
   "source": [
    "mlb_relief = relief.copy()\n",
    "mlb_relief_24 = relief_24.copy()\n",
    "mlb_starter = starter.copy()\n",
    "mlb_starter_24 = starter_24.copy()"
   ]
  },
  {
   "cell_type": "code",
   "execution_count": 55,
   "id": "76afac63-a13c-48de-87d4-20fa6abae5ed",
   "metadata": {
    "scrolled": true
   },
   "outputs": [],
   "source": [
    "rookie_relief = pd.merge(rookie_relief, mlb_relief[['Season', 'MLBAMID', 'mlb_rank', 'mean_mlb_rank']],\n",
    "                           on = ['Season', 'MLBAMID'],\n",
    "                           how='left'\n",
    "                          ).sort_values('mean_mlb_rank', \n",
    "                                        ascending=False)\n",
    "\n",
    "rookie_relief['rookie_rank'] = rookie_relief.groupby('Season')['mean_rookie_rank'].rank(ascending=False, \n",
    "                                                                                        na_option='keep').astype('int64')\n",
    "\n",
    "rookie_relief_24 = pd.merge(rookie_relief_24, mlb_relief_24[['Season', 'MLBAMID', 'mlb_rank', 'mean_mlb_rank']],\n",
    "                           on = ['Season', 'MLBAMID'],\n",
    "                           how='left'\n",
    "                          ).sort_values('mean_mlb_rank', \n",
    "                                        ascending=False)\n",
    "\n",
    "rookie_relief_24['rookie_rank'] = rookie_relief_24.groupby('Season')['mean_rookie_rank'].rank(ascending=False, \n",
    "                                                                                              na_option='keep').astype('int64')"
   ]
  },
  {
   "cell_type": "code",
   "execution_count": 56,
   "id": "a4161e3b-cc4b-47e0-a23d-f5d396209b6e",
   "metadata": {},
   "outputs": [],
   "source": [
    "rookie_starter = pd.merge(rookie_starter, mlb_starter[['Season', 'MLBAMID', 'mlb_rank', 'mean_mlb_rank']],\n",
    "                           on = ['Season', 'MLBAMID'],\n",
    "                           how='left'\n",
    "                          ).sort_values('mean_mlb_rank', \n",
    "                                        ascending=False)\n",
    "\n",
    "rookie_starter['rookie_rank'] = rookie_starter.groupby('Season')['mean_rookie_rank'].rank(ascending=False, \n",
    "                                                                                        na_option='keep').astype('int64')\n",
    "\n",
    "rookie_starter_24 = pd.merge(rookie_starter_24, mlb_starter_24[['Season', 'MLBAMID', 'mlb_rank', 'mean_mlb_rank']],\n",
    "                           on = ['Season', 'MLBAMID'],\n",
    "                           how='left'\n",
    "                          ).sort_values('mean_mlb_rank', \n",
    "                                        ascending=False)\n",
    "\n",
    "rookie_starter_24['rookie_rank'] = rookie_starter_24.groupby('Season')['mean_rookie_rank'].rank(ascending=False, \n",
    "                                                                                                na_option='keep').astype('int64')"
   ]
  },
  {
   "cell_type": "code",
   "execution_count": 57,
   "id": "84ca765c-c4a0-493c-beb9-e88127da236d",
   "metadata": {
    "scrolled": true
   },
   "outputs": [
    {
     "name": "stdout",
     "output_type": "stream",
     "text": [
      "    Season                 Name Team   W   L   G  GS  CG  ShO  QS  ...  \\\n",
      "3     1981  Fernando Valenzuela  LAD  13   7  25  25  11    8  16  ...   \n",
      "0     1984        Dwight Gooden  NYM  17   9  31  31   7    3  21  ...   \n",
      "1     1975      John Montefusco  SFG  15   9  34  34  10    4  23  ...   \n",
      "7     1980          Britt Burns  CHW  14  13  32  32  11    1  21  ...   \n",
      "2     1995           Hideo Nomo  LAD  13   6  28  28   4    3  18  ...   \n",
      "20    1984       Orel Hershiser  LAD   9   6  20  20   8    4  16  ...   \n",
      "14    2013       José Fernández  MIA  12   6  28  28   0    0  20  ...   \n",
      "10    2003         Brandon Webb  ARI  10   9  28  28   1    1  21  ...   \n",
      "51    2018       Walker Buehler  LAD   8   4  23  23   0    0  13  ...   \n",
      "36    1981        Dave Righetti  NYY   8   4  15  15   2    0  13  ...   \n",
      "\n",
      "    WPA_rank  WPA/LI_rank  K/BB+_rank  K-BB%_rank  Clutch_rank   QS_rank  \\\n",
      "3   1.000000     1.000000    1.000000    1.000000     1.000000  1.000000   \n",
      "0   1.000000     1.000000    0.916667    1.000000     0.500000  0.833333   \n",
      "1   1.000000     1.000000    0.833333    1.000000     1.000000  1.000000   \n",
      "7   1.000000     1.000000    0.857143    0.857143     1.000000  1.000000   \n",
      "2   1.000000     1.000000    0.923077    1.000000     0.538462  0.961538   \n",
      "20  0.916667     0.916667    0.833333    0.833333     0.416667  0.666667   \n",
      "14  1.000000     1.000000    0.833333    1.000000     0.333333  0.916667   \n",
      "10  1.000000     1.000000    1.000000    1.000000     0.666667  1.000000   \n",
      "51  1.000000     1.000000    0.916667    1.000000     0.083333  0.916667   \n",
      "36  0.800000     0.800000    0.800000    0.800000     0.600000  0.800000   \n",
      "\n",
      "    mean_rookie_rank  rookie_rank  mlb_rank  mean_mlb_rank  \n",
      "3           0.900000            1         1       0.897104  \n",
      "0           0.895833            1         1       0.888951  \n",
      "1           0.927083            1         4       0.880000  \n",
      "7           0.910714            1         3       0.869837  \n",
      "2           0.906250            1         5       0.849342  \n",
      "20          0.822917            2         3       0.844866  \n",
      "14          0.890625            1         9       0.821326  \n",
      "10          0.932292            1        14       0.805269  \n",
      "51          0.885417            1        13       0.791314  \n",
      "36          0.787500            2         8       0.790015  \n",
      "\n",
      "[10 rows x 55 columns]\n"
     ]
    }
   ],
   "source": [
    "print(rookie_starter.head(10))"
   ]
  },
  {
   "cell_type": "markdown",
   "id": "70060ff7-4508-48a7-bfc7-0508bc50933b",
   "metadata": {},
   "source": [
    "# Batters\n",
    "\n",
    "## Rookies"
   ]
  },
  {
   "cell_type": "code",
   "execution_count": 58,
   "id": "fd8a324f-e3a1-43a3-b00f-8659bd3bb17a",
   "metadata": {},
   "outputs": [
    {
     "name": "stdout",
     "output_type": "stream",
     "text": [
      "Columns for Rookie Batters:\n",
      "Season  PA   BB  AVG   Off   OBP+  WPA/LI   decade\n",
      "Name    HR   SO  BB/K  wRC+  SLG+  Clutch   sb_att\n",
      "Team    R    SB  wOBA  BB%+  ISO+  WAR      sb_pct\n",
      "G       RBI  CS  Def   K%+   WPA   MLBAMID  WAR/G \n"
     ]
    }
   ],
   "source": [
    "### Batters have a minimum of 300 PA in a Season\n",
    "\n",
    "batter = pd.read_csv('../data/rookies/fg_bat.csv')\n",
    "batter.drop(columns=['NameASCII', 'PlayerId'], inplace=True)\n",
    "batter = batter[~(batter['Season'].isin([1994, 2020]))]\n",
    "\n",
    "batter = assign_decade(batter)\n",
    "\n",
    "batter['SB'] = batter['SB'].fillna(0) # fill in stolen bases with 0\n",
    "batter['CS'] = batter['CS'].fillna(0) # fill in caught stealing with 0\n",
    "\n",
    "batter['sb_att'] = batter['SB'] + batter['CS'] # stolen base attempts\n",
    "batter['sb_pct'] = batter['SB'] / batter['sb_att'] # stolen base percentage\n",
    "batter['WAR/G'] = (batter['WAR']) / batter['G'] # WAR per game\n",
    "\n",
    "batter['sb_pct'] = batter['sb_pct'].fillna(0)\n",
    "\n",
    "batter_cols = batter.columns.tolist()\n",
    "print(f\"Columns for Rookie Batters:\")\n",
    "cli.columnize(batter_cols, displaywidth=50)"
   ]
  },
  {
   "cell_type": "code",
   "execution_count": 59,
   "id": "5289a68d-5337-409c-b550-26b66812d44f",
   "metadata": {},
   "outputs": [],
   "source": [
    "# Dictionary for mapping old abbreviations to current ones\n",
    "team_map = {\n",
    "    'CAL': 'LAA',  # California Angels to Los Angeles Angels\n",
    "    'ANA': 'LAA',  # Anaheim Angels to Los Angeles Angels\n",
    "    'FLA': 'MIA',  # Florida Marlins to Miami Marlins\n",
    "    'MON': 'WSN',  # Montreal Expos to Washington Nationals\n",
    "    'TBD': 'TBR'   # Tampa Bay Devil Rays to Tampa Bay Rays\n",
    "}\n",
    "\n",
    "# Replace the 'Team' column with updated abbreviations using .replace()\n",
    "batter['Team'] = batter['Team'].replace(team_map)"
   ]
  },
  {
   "cell_type": "code",
   "execution_count": 60,
   "id": "7b7a8fb6-0153-418e-a95f-a566094ce803",
   "metadata": {},
   "outputs": [],
   "source": [
    "nl_teams = ['LAD', 'SDP', 'CIN', 'SFG', 'ATL',\n",
    "            'NYM', 'MIA', 'MIL', 'CHC', 'STL',\n",
    "            'COL', 'PIT', 'ARI', 'PHI', 'WSN']\n",
    "al_teams = ['OAK', 'HOU', 'LAA', 'SEA', 'CLE',\n",
    "            'BAL', 'NYY', 'BOS', 'KCR', 'MIN',\n",
    "            'TOR', 'TEX', 'CHW', 'TBR', 'DET']\n",
    "# add league for the Relievers\n",
    "batter.loc[batter['Team'].isin(nl_teams), 'league'] = 'NL'\n",
    "batter.loc[batter['Team'].isin(al_teams), 'league'] = 'AL'"
   ]
  },
  {
   "cell_type": "code",
   "execution_count": 61,
   "id": "11484570-38fc-4331-bdb6-8ae8fafd066b",
   "metadata": {},
   "outputs": [
    {
     "name": "stdout",
     "output_type": "stream",
     "text": [
      "There are 786 Batters in the data\n"
     ]
    }
   ],
   "source": [
    "print(f\"There are {batter.shape[0]} Batters in the data\")"
   ]
  },
  {
   "cell_type": "markdown",
   "id": "5de6f021-61d1-442a-940f-4fefe5c9ff18",
   "metadata": {},
   "source": [
    "### Rookie of the Month/Year"
   ]
  },
  {
   "cell_type": "code",
   "execution_count": 62,
   "id": "9ad82de9-cac4-4a50-9f5f-fe3a0a9804dc",
   "metadata": {},
   "outputs": [
    {
     "name": "stdout",
     "output_type": "stream",
     "text": [
      "Columns for Rookie of the Year data:\n",
      "['award_id', 'season', 'rookie_of_the_year']\n",
      "\n",
      "\n"
     ]
    }
   ],
   "source": [
    "roy = pd.read_csv('../data/awards/roy_awards.csv')\n",
    "roy.rename(columns={'player_id' : 'rookie_of_the_year'}, inplace=True)\n",
    "\n",
    "print(f\"Columns for Rookie of the Year data:\")\n",
    "print(roy.columns.tolist())\n",
    "print(\"\\n\")"
   ]
  },
  {
   "cell_type": "code",
   "execution_count": 63,
   "id": "89c7972c-e90d-4b55-b20e-d03da42b87b8",
   "metadata": {},
   "outputs": [],
   "source": [
    "batter = pd.merge(batter, roy,\n",
    "        left_on = 'Season', right_on = 'season',\n",
    "        how = 'left')\n",
    "\n",
    "batter.drop(columns='season', inplace=True)\n",
    "\n",
    "batter.loc[batter['award_id'] == 'ALROY', 'award_id'] = 'AL'\n",
    "batter.loc[batter['award_id'] == 'NLROY', 'award_id'] = 'NL'\n",
    "batter.loc[batter['award_id'].isna(), 'award_id'] = batter.loc[batter['award_id'].isna(), 'league']\n",
    "\n",
    "batter = batter.drop_duplicates(subset=['Season', 'MLBAMID'])\n",
    "\n",
    "batter.dropna(subset='league', inplace=True)"
   ]
  },
  {
   "cell_type": "code",
   "execution_count": 64,
   "id": "3ac8b3ac-c9bf-45d9-9462-fd9a96650059",
   "metadata": {},
   "outputs": [],
   "source": [
    "batter_24 = batter[batter['Season'] == 2024]\n",
    "\n",
    "batter = batter[batter['Season'] != 2024]"
   ]
  },
  {
   "cell_type": "code",
   "execution_count": 65,
   "id": "d9395bea-c1c9-41ac-9107-b59a87f14c1a",
   "metadata": {
    "scrolled": true
   },
   "outputs": [
    {
     "name": "stdout",
     "output_type": "stream",
     "text": [
      "    Season               Name Team    G   PA  HR    R  RBI   BB   SO  ...  \\\n",
      "0     2012         Mike Trout  LAA  139  639  30  129   83   67  139  ...   \n",
      "2     2017        Aaron Judge  NYY  155  678  52  128  114  127  208  ...   \n",
      "4     1993        Mike Piazza  LAD  149  602  35   81  112   46   86  ...   \n",
      "6     2001      Albert Pujols  STL  161  676  37  112  130   69   93  ...   \n",
      "8     1975          Fred Lynn  BOS  145  605  21  103  105   62   90  ...   \n",
      "10    1997  Nomar Garciaparra  BOS  153  734  30  122   98   35   92  ...   \n",
      "12    1977      Mitchell Page  OAK  145  592  21   85   75   78   95  ...   \n",
      "14    2015        Kris Bryant  CHC  151  650  26   87   99   77  199  ...   \n",
      "16    2001      Ichiro Suzuki  SEA  157  738   8  127   69   30   53  ...   \n",
      "18    1992       Kenny Lofton  CLE  148  651   5   96   42   68   54  ...   \n",
      "\n",
      "      Clutch        WAR  MLBAMID  decade  sb_att    sb_pct     WAR/G  league  \\\n",
      "0  -0.321035  10.064204   545361   2010s      54  0.907407  0.072404      AL   \n",
      "2  -3.635870   8.716920   592450   2010s      13  0.692308  0.056238      AL   \n",
      "4  -1.434419   7.431850   120536   1990s       7  0.428571  0.049878      NL   \n",
      "6  -1.519321   7.216440   405395   2000s       4  0.250000  0.044823      NL   \n",
      "8  -0.073660   7.109781   118040   1970s      15  0.666667  0.049033      AL   \n",
      "10  0.459072   6.386973   114596   1990s      31  0.709677  0.041745      AL   \n",
      "12 -0.472434   6.240343   120172   1970s      47  0.893617  0.043037      AL   \n",
      "14  1.668437   6.098145   592178   2010s      17  0.764706  0.040385      NL   \n",
      "16  1.021419   6.017634   400085   2000s      70  0.800000  0.038329      AL   \n",
      "18  0.770708   5.782924   117863   1990s      78  0.846154  0.039074      AL   \n",
      "\n",
      "    award_id  rookie_of_the_year  \n",
      "0         AL                   1  \n",
      "2         AL                   1  \n",
      "4         AL                   0  \n",
      "6         AL                   0  \n",
      "8         AL                   1  \n",
      "10        AL                   1  \n",
      "12        AL                   0  \n",
      "14        AL                   0  \n",
      "16        AL                   1  \n",
      "18        AL                   0  \n",
      "\n",
      "[10 rows x 35 columns]\n",
      "\n",
      "\n",
      "     Season                 Name Team    G   PA  HR   R  RBI  BB   SO  ...  \\\n",
      "82     2024      Jackson Merrill  SDP  142  538  23  72   83  25   96  ...   \n",
      "151    2024         Austin Wells  NYY  102  362  13  39   50  41   75  ...   \n",
      "158    2024        Colton Cowser  BAL  139  507  20  70   62  49  153  ...   \n",
      "206    2024      Jackson Chourio  MIL  131  501  19  70   69  35  104  ...   \n",
      "253    2024         Wilyer Abreu  BOS  116  392  15  55   55  34  113  ...   \n",
      "254    2024           Joey Ortiz  MIL  125  448  10  49   49  54   88  ...   \n",
      "259    2024           Masyn Winn  STL  135  567  12  70   49  38  101  ...   \n",
      "308    2024          Jacob Young  WSN  134  471   3  73   34  27   91  ...   \n",
      "409    2024  Pete Crow-Armstrong  CHC  107  348   8  37   44  17   81  ...   \n",
      "521    2024        Michael Busch  CHC  137  516  17  68   56  58  149  ...   \n",
      "\n",
      "       Clutch       WAR  MLBAMID  decade  sb_att    sb_pct     WAR/G  league  \\\n",
      "82   0.323999  4.289429   701538   2020s      19  0.842105  0.030207      NL   \n",
      "151  0.496678  3.625471   669224   2020s       3  0.333333  0.035544      AL   \n",
      "158 -2.377238  3.591843   681297   2020s      12  0.666667  0.025841      AL   \n",
      "206  0.385259  3.308231   694192   2020s      26  0.769231  0.025254      NL   \n",
      "253 -0.504233  3.048658   677800   2020s      10  0.700000  0.026282      AL   \n",
      "254 -0.804445  3.045888   687401   2020s      14  0.642857  0.024367      NL   \n",
      "259  0.009028  3.037896   691026   2020s      16  0.687500  0.022503      NL   \n",
      "308  1.006294  2.760814   696285   2020s      38  0.815789  0.020603      NL   \n",
      "409 -0.294711  2.416818   691718   2020s      28  0.928571  0.022587      NL   \n",
      "521  0.315073  2.158979   683737   2020s       3  0.666667  0.015759      NL   \n",
      "\n",
      "     award_id  rookie_of_the_year  \n",
      "82         NL                 NaN  \n",
      "151        AL                 NaN  \n",
      "158        AL                 NaN  \n",
      "206        NL                 NaN  \n",
      "253        AL                 NaN  \n",
      "254        NL                 NaN  \n",
      "259        NL                 NaN  \n",
      "308        NL                 NaN  \n",
      "409        NL                 NaN  \n",
      "521        NL                 NaN  \n",
      "\n",
      "[10 rows x 35 columns]\n"
     ]
    }
   ],
   "source": [
    "batter['rookie_of_the_year'] = np.where(batter['rookie_of_the_year'] == batter['MLBAMID'], 1, 0)\n",
    "\n",
    "print(batter.head(10))\n",
    "print(\"\\n\")\n",
    "print(batter_24.head(10))"
   ]
  },
  {
   "cell_type": "code",
   "execution_count": 66,
   "id": "d7609546-f04c-4da8-926b-cd72d795dced",
   "metadata": {},
   "outputs": [
    {
     "name": "stdout",
     "output_type": "stream",
     "text": [
      "Season  PA   BB  AVG   Off   OBP+  WPA/LI   decade\n",
      "Name    HR   SO  BB/K  wRC+  SLG+  Clutch   sb_att\n",
      "Team    R    SB  wOBA  BB%+  ISO+  WAR      sb_pct\n",
      "G       RBI  CS  Def   K%+   WPA   MLBAMID  WAR/G \n"
     ]
    }
   ],
   "source": [
    "cli.columnize(batter_cols, displaywidth=50)"
   ]
  },
  {
   "cell_type": "code",
   "execution_count": 67,
   "id": "a2f023a4-bc2c-4326-8255-56739b4d8449",
   "metadata": {},
   "outputs": [],
   "source": [
    "low_cols = ['K%+']\n",
    "high_cols = ['wRC+', 'BB%+', 'BB/K', 'OBP+', 'SLG+', \n",
    "             'ISO+','WAR', 'WAR/G', 'wOBA', 'Def', 'Off',\n",
    "             'PA', 'WPA', 'WPA/LI', 'Clutch']"
   ]
  },
  {
   "cell_type": "code",
   "execution_count": 68,
   "id": "cc15c4ec-1240-425f-a9d6-46a07ffde375",
   "metadata": {},
   "outputs": [],
   "source": [
    "# Rank the low_cols in descending order with percentile-based ranking\n",
    "batter[[col + '_rank' for col in low_cols]] = batter.groupby('Season')[low_cols].rank(ascending=False, \n",
    "                                                                                      na_option='keep',\n",
    "                                                                                      pct=True)\n",
    "\n",
    "# Rank the high_cols in ascending order with percentile-based ranking\n",
    "batter[[col + '_rank' for col in high_cols]] = batter.groupby('Season')[high_cols].rank(ascending=True, \n",
    "                                                                                        na_option='keep',\n",
    "                                                                                        pct=True)\n",
    "\n",
    "# Select columns that end with '_rank'\n",
    "rank_columns = batter.filter(regex='_rank$').columns.tolist()\n",
    "\n",
    "# Calculate the mean rank\n",
    "batter['mean_rookie_rank'] = batter[rank_columns].mean(axis=1)\n",
    "\n",
    "# Rank mean_rookie_rank in descending order with percentile-based ranking\n",
    "batter['rookie_rank'] = batter.groupby('Season')['mean_rookie_rank'].rank(ascending=False, na_option='keep').astype('int64')"
   ]
  },
  {
   "cell_type": "code",
   "execution_count": 69,
   "id": "3203bcdb-820a-477f-afe2-86f38da16743",
   "metadata": {},
   "outputs": [],
   "source": [
    "# Rank the low_cols in descending order with percentile-based ranking\n",
    "batter_24[[col + '_rank' for col in low_cols]] = batter_24.groupby('Season')[low_cols].rank(ascending=False, \n",
    "                                                                                            na_option='keep',\n",
    "                                                                                            pct=True)\n",
    "\n",
    "# Rank the high_cols in ascending order with percentile-based ranking\n",
    "batter_24[[col + '_rank' for col in high_cols]] = batter_24.groupby('Season')[high_cols].rank(ascending=True, \n",
    "                                                                                              na_option='keep',\n",
    "                                                                                              pct=True)\n",
    "\n",
    "# Select columns that end with '_rank'\n",
    "rank_columns = batter_24.filter(regex='_rank$').columns.tolist()\n",
    "\n",
    "# Calculate the mean rank\n",
    "batter_24['mean_rookie_rank'] = batter_24[rank_columns].mean(axis=1)\n",
    "\n",
    "# Rank mean_rookie_rank in descending order with percentile-based ranking\n",
    "batter_24['rookie_rank'] = batter_24.groupby('Season')['mean_rookie_rank'].rank(ascending=False, na_option='keep').astype('int64')"
   ]
  },
  {
   "cell_type": "code",
   "execution_count": 70,
   "id": "2a4ce2d4-2c37-4fe2-9ea9-dfb78344e52d",
   "metadata": {
    "scrolled": true
   },
   "outputs": [
    {
     "name": "stdout",
     "output_type": "stream",
     "text": [
      "                Name  Season  K%+_rank  wRC+_rank  BB%+_rank  BB/K_rank  \\\n",
      "137       Tim Raines    1981  0.800000   1.000000   1.000000   1.000000   \n",
      "28       Alvin Davis    1984  0.666667   0.888889   1.000000   1.000000   \n",
      "163    Butch Wynegar    1976  0.750000   1.000000   0.750000   1.000000   \n",
      "0         Mike Trout    2012  0.294118   1.000000   1.000000   0.823529   \n",
      "58     Jason Heyward    2010  0.458333   0.958333   0.958333   0.958333   \n",
      "282      Todd Helton    1998  0.909091   0.909091   0.818182   1.000000   \n",
      "22   Adley Rutschman    2022  0.875000   0.916667   1.000000   0.916667   \n",
      "14       Kris Bryant    2015  0.172414   0.896552   0.931034   0.758621   \n",
      "6      Albert Pujols    2001  0.500000   1.000000   1.000000   0.900000   \n",
      "8          Fred Lynn    1975  0.454545   1.000000   0.909091   0.636364   \n",
      "\n",
      "     OBP+_rank  SLG+_rank  ISO+_rank  WAR_rank  ...  wOBA_rank  Def_rank  \\\n",
      "137   1.000000   1.000000   1.000000  1.000000  ...   1.000000  0.600000   \n",
      "28    0.888889   1.000000   1.000000  1.000000  ...   1.000000  0.666667   \n",
      "163   1.000000   0.750000   0.500000  1.000000  ...   1.000000  1.000000   \n",
      "0     1.000000   1.000000   0.941176  1.000000  ...   1.000000  0.941176   \n",
      "58    1.000000   0.750000   0.833333  1.000000  ...   1.000000  0.625000   \n",
      "282   0.909091   1.000000   1.000000  1.000000  ...   1.000000  0.636364   \n",
      "22    0.916667   0.875000   0.833333  0.958333  ...   0.916667  1.000000   \n",
      "14    0.965517   0.862069   0.827586  1.000000  ...   0.965517  0.758621   \n",
      "6     1.000000   1.000000   1.000000  1.000000  ...   1.000000  0.600000   \n",
      "8     1.000000   1.000000   1.000000  1.000000  ...   1.000000  0.909091   \n",
      "\n",
      "     Off_rank   PA_rank  WPA_rank  WPA/LI_rank  Clutch_rank  \\\n",
      "137  1.000000  0.600000  1.000000     1.000000     0.800000   \n",
      "28   1.000000  0.888889  1.000000     1.000000     0.888889   \n",
      "163  1.000000  1.000000  1.000000     1.000000     1.000000   \n",
      "0    1.000000  1.000000  1.000000     1.000000     0.470588   \n",
      "58   1.000000  0.916667  1.000000     1.000000     0.958333   \n",
      "282  0.909091  0.818182  0.909091     0.909091     0.727273   \n",
      "22   0.875000  0.708333  0.958333     0.958333     0.500000   \n",
      "14   1.000000  1.000000  1.000000     1.000000     1.000000   \n",
      "6    1.000000  0.800000  1.000000     1.000000     0.200000   \n",
      "8    1.000000  0.727273  1.000000     1.000000     0.363636   \n",
      "\n",
      "     rookie_of_the_year  mean_rookie_rank  rookie_rank  \n",
      "137                   0          0.925000            1  \n",
      "28                    1          0.923611            1  \n",
      "163                   0          0.921875            1  \n",
      "0                     1          0.904412            1  \n",
      "58                    0          0.898438            1  \n",
      "282                   0          0.897727            1  \n",
      "22                    0          0.888021            1  \n",
      "14                    0          0.883621            1  \n",
      "6                     0          0.875000            1  \n",
      "8                     1          0.875000            1  \n",
      "\n",
      "[10 rows x 21 columns]\n"
     ]
    }
   ],
   "source": [
    "add_cols = ['rookie_of_the_year', 'mean_rookie_rank', 'rookie_rank']\n",
    "rank_columns = rank_columns + add_cols\n",
    "\n",
    "rank_columns.insert(0, 'Name')\n",
    "rank_columns.insert(1, 'Season')\n",
    "print(batter.loc[:, rank_columns].sort_values('mean_rookie_rank', ascending=False).head(10))"
   ]
  },
  {
   "cell_type": "code",
   "execution_count": 71,
   "id": "f5b709c1-ce9c-4a0f-986a-7e10de59dd75",
   "metadata": {},
   "outputs": [
    {
     "name": "stdout",
     "output_type": "stream",
     "text": [
      "                Name  Season  K%+_rank  wRC+_rank  BB%+_rank  BB/K_rank  \\\n",
      "606  Spencer Horwitz    2024  0.904762   1.000000   0.761905   0.904762   \n",
      "151     Austin Wells    2024  0.476190   0.857143   0.904762   0.857143   \n",
      "82   Jackson Merrill    2024  0.809524   0.952381   0.095238   0.190476   \n",
      "206  Jackson Chourio    2024  0.523810   0.761905   0.428571   0.523810   \n",
      "253     Wilyer Abreu    2024  0.095238   0.904762   0.619048   0.333333   \n",
      "254       Joey Ortiz    2024  0.666667   0.666667   1.000000   0.952381   \n",
      "521    Michael Busch    2024  0.142857   0.714286   0.857143   0.666667   \n",
      "158    Colton Cowser    2024  0.047619   0.809524   0.666667   0.428571   \n",
      "259       Masyn Winn    2024  0.857143   0.619048   0.380952   0.619048   \n",
      "750   Wyatt Langford    2024  0.428571   0.523810   0.571429   0.714286   \n",
      "\n",
      "     OBP+_rank  SLG+_rank  ISO+_rank  WAR_rank  ...  wOBA_rank  Def_rank  \\\n",
      "606   1.000000   0.904762   0.904762  0.523810  ...   1.000000  0.238095   \n",
      "151   0.904762   0.761905   0.761905  0.952381  ...   0.809524  1.000000   \n",
      "82    0.476190   0.952381   0.952381  1.000000  ...   0.904762  0.571429   \n",
      "206   0.666667   0.857143   0.809524  0.857143  ...   0.857143  0.428571   \n",
      "253   0.761905   1.000000   1.000000  0.809524  ...   0.952381  0.619048   \n",
      "254   0.857143   0.523810   0.666667  0.761905  ...   0.666667  0.809524   \n",
      "521   0.809524   0.714286   0.714286  0.571429  ...   0.761905  0.095238   \n",
      "158   0.714286   0.809524   0.857143  0.904762  ...   0.714286  0.714286   \n",
      "259   0.523810   0.619048   0.380952  0.714286  ...   0.571429  0.666667   \n",
      "750   0.619048   0.380952   0.333333  0.333333  ...   0.523810  0.190476   \n",
      "\n",
      "     Off_rank   PA_rank  WPA_rank  WPA/LI_rank  Clutch_rank  \\\n",
      "606  0.809524  0.095238  0.952381     0.952381     1.000000   \n",
      "151  0.714286  0.190476  0.809524     0.761905     0.809524   \n",
      "82   1.000000  0.904762  1.000000     1.000000     0.714286   \n",
      "206  0.952381  0.666667  0.904762     0.904762     0.761905   \n",
      "253  0.904762  0.333333  0.714286     0.809524     0.190476   \n",
      "254  0.666667  0.523810  0.285714     0.571429     0.095238   \n",
      "521  0.761905  0.809524  0.857143     0.857143     0.666667   \n",
      "158  0.857143  0.714286  0.047619     0.666667     0.047619   \n",
      "259  0.619048  1.000000  0.380952     0.380952     0.428571   \n",
      "750  0.523810  0.619048  0.761905     0.428571     0.857143   \n",
      "\n",
      "     rookie_of_the_year  mean_rookie_rank  rookie_rank  \n",
      "606                 NaN          0.791667            1  \n",
      "151                 NaN          0.785714            2  \n",
      "82                  NaN          0.779762            3  \n",
      "206                 NaN          0.732143            4  \n",
      "253                 NaN          0.684524            5  \n",
      "254                 NaN          0.654762            6  \n",
      "521                 NaN          0.651786            7  \n",
      "158                 NaN          0.616071            8  \n",
      "259                 NaN          0.586310            9  \n",
      "750                 NaN          0.511905           10  \n",
      "\n",
      "[10 rows x 21 columns]\n"
     ]
    }
   ],
   "source": [
    "print(batter_24.loc[:, rank_columns].sort_values('mean_rookie_rank', ascending=False).head(10))"
   ]
  },
  {
   "cell_type": "code",
   "execution_count": 72,
   "id": "3496571f-39a8-45a4-b84e-a1abc1872501",
   "metadata": {},
   "outputs": [],
   "source": [
    "rookie_batters = batter.copy()\n",
    "rookie_batters_24 = batter_24.copy()\n",
    "rookie_batters['pos'] = 'batter'\n",
    "rookie_batters_24['pos'] = 'batter'"
   ]
  },
  {
   "cell_type": "markdown",
   "id": "04c01e2c-6fec-46ea-9841-e33b65b92a01",
   "metadata": {},
   "source": [
    "## All MLB Batters"
   ]
  },
  {
   "cell_type": "code",
   "execution_count": 73,
   "id": "935cabfd-4c41-4b99-abf3-96595ae97f95",
   "metadata": {},
   "outputs": [
    {
     "name": "stdout",
     "output_type": "stream",
     "text": [
      "Columns for Rookie Batters:\n",
      "Season  PA   BB  AVG   Off   OBP+  WPA/LI   decade\n",
      "Name    HR   SO  BB/K  wRC+  SLG+  Clutch   sb_att\n",
      "Team    R    SB  wOBA  BB%+  ISO+  WAR      sb_pct\n",
      "G       RBI  CS  Def   K%+   WPA   MLBAMID  WAR/G \n"
     ]
    }
   ],
   "source": [
    "batter = pd.read_csv('../data/mlb/fg_bat.csv')\n",
    "batter.drop(columns=['NameASCII', 'PlayerId'], inplace=True)\n",
    "batter = batter[~(batter['Season'].isin([1994, 2020]))]\n",
    "\n",
    "batter = assign_decade(batter)\n",
    "\n",
    "batter['SB'] = batter['SB'].fillna(0)\n",
    "batter['CS'] = batter['CS'].fillna(0)\n",
    "\n",
    "batter['sb_att'] = batter['SB'] + batter['CS']\n",
    "batter['sb_pct'] = batter['SB'] / batter['sb_att']\n",
    "batter['WAR/G'] = (batter['WAR']) / batter['G']\n",
    "\n",
    "batter['sb_pct'] = batter['sb_pct'].fillna(0)\n",
    "\n",
    "batter_cols = batter.columns.tolist()\n",
    "print(f\"Columns for Rookie Batters:\")\n",
    "cli.columnize(batter_cols, displaywidth=50)"
   ]
  },
  {
   "cell_type": "code",
   "execution_count": 74,
   "id": "b1e6eab9-2abb-4c82-88d0-732513c0eec2",
   "metadata": {},
   "outputs": [
    {
     "name": "stdout",
     "output_type": "stream",
     "text": [
      "Season  PA   BB  AVG   Off   OBP+  WPA/LI   decade\n",
      "Name    HR   SO  BB/K  wRC+  SLG+  Clutch   sb_att\n",
      "Team    R    SB  wOBA  BB%+  ISO+  WAR      sb_pct\n",
      "G       RBI  CS  Def   K%+   WPA   MLBAMID  WAR/G \n"
     ]
    }
   ],
   "source": [
    "cli.columnize(batter.columns.tolist(), displaywidth = 50)"
   ]
  },
  {
   "cell_type": "code",
   "execution_count": 75,
   "id": "11a09f94-ee51-4e86-bb88-33f0b613543b",
   "metadata": {},
   "outputs": [],
   "source": [
    "# Dictionary for mapping old abbreviations to current ones\n",
    "team_map = {\n",
    "    'CAL': 'LAA',  # California Angels to Los Angeles Angels\n",
    "    'ANA': 'LAA',  # Anaheim Angels to Los Angeles Angels\n",
    "    'FLA': 'MIA',  # Florida Marlins to Miami Marlins\n",
    "    'MON': 'WSN',  # Montreal Expos to Washington Nationals\n",
    "    'TBD': 'TBR'   # Tampa Bay Devil Rays to Tampa Bay Rays\n",
    "}\n",
    "\n",
    "# Replace the 'Team' column with updated abbreviations using .replace()\n",
    "batter['Team'] = batter['Team'].replace(team_map)"
   ]
  },
  {
   "cell_type": "code",
   "execution_count": 76,
   "id": "3bf1ace2-b70a-46a8-8ab8-6c6e27fbd149",
   "metadata": {},
   "outputs": [],
   "source": [
    "nl_teams = ['LAD', 'SDP', 'CIN', 'SFG', 'ATL',\n",
    "            'NYM', 'MIA', 'MIL', 'CHC', 'STL',\n",
    "            'COL', 'PIT', 'ARI', 'PHI', 'WSN']\n",
    "al_teams = ['OAK', 'HOU', 'LAA', 'SEA', 'CLE',\n",
    "            'BAL', 'NYY', 'BOS', 'KCR', 'MIN',\n",
    "            'TOR', 'TEX', 'CHW', 'TBR', 'DET']\n",
    "# add league for batters\n",
    "batter.loc[batter['Team'].isin(nl_teams), 'league'] = 'NL'\n",
    "batter.loc[batter['Team'].isin(al_teams), 'league'] = 'AL'"
   ]
  },
  {
   "cell_type": "code",
   "execution_count": 77,
   "id": "a1b38bd0-8ee5-4de1-adc2-dc64ba906b5d",
   "metadata": {},
   "outputs": [
    {
     "name": "stdout",
     "output_type": "stream",
     "text": [
      "There are 12481 Batters in the data\n"
     ]
    }
   ],
   "source": [
    "print(f\"There are {batter.shape[0]} Batters in the data\")"
   ]
  },
  {
   "cell_type": "code",
   "execution_count": 78,
   "id": "00c03e25-26b6-4acf-89cc-d768facb4a38",
   "metadata": {},
   "outputs": [],
   "source": [
    "batter.dropna(subset='league', inplace=True)"
   ]
  },
  {
   "cell_type": "code",
   "execution_count": 79,
   "id": "3c599623-9f7a-4c77-a3b6-b9b7eec996b7",
   "metadata": {},
   "outputs": [],
   "source": [
    "batter = batter.drop_duplicates(subset=['Season', 'MLBAMID'])\n",
    "\n",
    "batter_24 = batter[batter['Season'] == 2024]\n",
    "\n",
    "batter = batter[batter['Season'] != 2024]"
   ]
  },
  {
   "cell_type": "code",
   "execution_count": 80,
   "id": "8d90c113-e69f-4d3f-ac0d-ab2d82a85098",
   "metadata": {},
   "outputs": [
    {
     "name": "stdout",
     "output_type": "stream",
     "text": [
      "   Season              Name Team    G   PA  HR    R  RBI   BB   SO  ...  \\\n",
      "0    2002       Barry Bonds  SFG  143  612  46  117  110  198   47  ...   \n",
      "1    2001       Barry Bonds  SFG  153  664  73  129  137  177   93  ...   \n",
      "2    2004       Barry Bonds  SFG  147  617  45  129  101  232   41  ...   \n",
      "3    2022       Aaron Judge  NYY  157  696  62  133  131  111  175  ...   \n",
      "4    1975        Joe Morgan  CIN  146  639  17  107   94  132   52  ...   \n",
      "5    1991    Cal Ripken Jr.  BAL  162  717  34   99  114   53   46  ...   \n",
      "6    1993       Barry Bonds  SFG  159  674  46  129  123  126   79  ...   \n",
      "7    2003       Barry Bonds  SFG  130  550  45  111   90  148   58  ...   \n",
      "8    1990  Rickey Henderson  OAK  136  594  28  119   61   97   60  ...   \n",
      "9    2018      Mookie Betts  BOS  136  614  32  129   80   81   91  ...   \n",
      "\n",
      "         WPA     WPA/LI    Clutch        WAR  MLBAMID  decade  sb_att  \\\n",
      "0  10.506586  11.816461 -1.113779  12.691475   111188   2000s      11   \n",
      "1  11.634218  13.042961 -1.043303  12.475504   111188   2000s      16   \n",
      "2  13.059224  11.353557  1.147428  11.885511   111188   2000s       7   \n",
      "3   7.735967   8.602521 -1.431814  11.056096   592450   2020s      19   \n",
      "4   7.272233   6.879737 -0.352911  10.964287   119371   1970s      77   \n",
      "5   4.317044   4.904851 -0.526888  10.571079   121222   1990s       7   \n",
      "6   7.785325   8.438737 -0.425327  10.455426   111188   1990s      41   \n",
      "7   7.992234   8.376898 -0.339718  10.203492   111188   2000s       7   \n",
      "8   6.231078   6.900550 -0.676662  10.203204   115749   1990s      75   \n",
      "9   5.767562   6.437494 -0.145493  10.173614   605141   2010s      36   \n",
      "\n",
      "     sb_pct     WAR/G  league  \n",
      "0  0.818182  0.088752      NL  \n",
      "1  0.812500  0.081539      NL  \n",
      "2  0.857143  0.080854      NL  \n",
      "3  0.842105  0.070421      AL  \n",
      "4  0.870130  0.075098      NL  \n",
      "5  0.857143  0.065254      AL  \n",
      "6  0.707317  0.065757      NL  \n",
      "7  1.000000  0.078488      NL  \n",
      "8  0.866667  0.075024      AL  \n",
      "9  0.833333  0.074806      AL  \n",
      "\n",
      "[10 rows x 33 columns]\n"
     ]
    }
   ],
   "source": [
    "print(batter.head(10))"
   ]
  },
  {
   "cell_type": "code",
   "execution_count": 81,
   "id": "83f39d5f-7835-46e7-bd20-379c9e2dbcce",
   "metadata": {},
   "outputs": [
    {
     "name": "stdout",
     "output_type": "stream",
     "text": [
      "      Season              Name Team    G   PA  HR    R  RBI   BB   SO  ...  \\\n",
      "21      2024       Aaron Judge  NYY  144  644  51  110  126  119  156  ...   \n",
      "22      2024    Bobby Witt Jr.  KCR  147  647  30  120   99   47   98  ...   \n",
      "144     2024         Juan Soto  NYY  142  650  39  115  100  117  105  ...   \n",
      "176     2024  Francisco Lindor  NYM  146  665  31  102   85   54  122  ...   \n",
      "178     2024  Gunnar Henderson  BAL  145  658  36  111   85   72  145  ...   \n",
      "250     2024     Shohei Ohtani  LAD  143  656  47  116  104   74  146  ...   \n",
      "392     2024      Jarren Duran  BOS  144  663  21  102   72   50  144  ...   \n",
      "458     2024   Elly De La Cruz  CIN  145  631  23   96   65   65  194  ...   \n",
      "792     2024       Ketel Marte  ARI  120  517  31   83   85   53   94  ...   \n",
      "1013    2024      José Ramírez  CLE  143  621  34  103  106   51   76  ...   \n",
      "\n",
      "           WPA    WPA/LI    Clutch       WAR  MLBAMID  decade  sb_att  \\\n",
      "21    4.933473  8.232481 -2.868269  9.621307   592450   2020s       8   \n",
      "22    4.276387  5.133645 -0.521303  9.587769   677951   2020s      40   \n",
      "144   5.245932  6.664386 -0.588005  7.603087   665742   2020s       9   \n",
      "176   3.405052  2.644397  0.884896  7.353003   596019   2020s      31   \n",
      "178   2.336230  2.977410 -0.298091  7.347693   683002   2020s      21   \n",
      "250   4.568205  5.977492 -1.305534  7.005180   660271   2020s      52   \n",
      "392   2.693274  3.206940 -0.235914  6.418046   680776   2020s      37   \n",
      "458  -0.743663  1.612521 -2.384906  6.228408   682829   2020s      79   \n",
      "792   2.886070  2.724960  0.478694  5.436213   606466   2020s       7   \n",
      "1013  2.389205  2.832507 -0.310358  5.096371   608070   2020s      44   \n",
      "\n",
      "        sb_pct     WAR/G  league  \n",
      "21    1.000000  0.066815      AL  \n",
      "22    0.700000  0.065223      AL  \n",
      "144   0.555556  0.053543      AL  \n",
      "176   0.870968  0.050363      NL  \n",
      "178   0.857143  0.050674      AL  \n",
      "250   0.923077  0.048987      NL  \n",
      "392   0.864865  0.044570      AL  \n",
      "458   0.810127  0.042955      NL  \n",
      "792   0.857143  0.045302      NL  \n",
      "1013  0.863636  0.035639      AL  \n",
      "\n",
      "[10 rows x 33 columns]\n"
     ]
    }
   ],
   "source": [
    "print(batter_24.head(10))"
   ]
  },
  {
   "cell_type": "code",
   "execution_count": 82,
   "id": "34daa8c8-d8d2-4951-bf3d-1178e7e8c825",
   "metadata": {},
   "outputs": [],
   "source": [
    "# Rank the low_cols in descending order with percentile-based ranking\n",
    "batter[[col + '_rank' for col in low_cols]] = batter.groupby('Season')[low_cols].rank(ascending=False, \n",
    "                                                                                      na_option='keep',\n",
    "                                                                                      pct=True)\n",
    "\n",
    "# Rank the high_cols in ascending order with percentile-based ranking\n",
    "batter[[col + '_rank' for col in high_cols]] = batter.groupby('Season')[high_cols].rank(ascending=True, \n",
    "                                                                                        na_option='keep',\n",
    "                                                                                        pct=True)\n",
    "\n",
    "# Select columns that end with '_rank'\n",
    "rank_columns = batter.filter(regex='_rank$').columns.tolist()\n",
    "\n",
    "# Calculate the mean rank for MLB data\n",
    "batter['mean_mlb_rank'] = batter[rank_columns].mean(axis=1)\n",
    "\n",
    "# Rank mean_mlb_rank in descending order with percentile-based ranking\n",
    "batter['mlb_rank'] = batter.groupby('Season')['mean_mlb_rank'].rank(ascending=False, na_option='keep').astype('int64')"
   ]
  },
  {
   "cell_type": "code",
   "execution_count": 83,
   "id": "72d3e2fc-6064-4f3b-bb39-fd4c50ff852a",
   "metadata": {},
   "outputs": [],
   "source": [
    "# Rank the low_cols in descending order with percentile-based ranking\n",
    "batter_24[[col + '_rank' for col in low_cols]] = batter_24.groupby('Season')[low_cols].rank(ascending=False, \n",
    "                                                                                            na_option='keep',\n",
    "                                                                                            pct=True)\n",
    "\n",
    "# Rank the high_cols in ascending order with percentile-based ranking\n",
    "batter_24[[col + '_rank' for col in high_cols]] = batter_24.groupby('Season')[high_cols].rank(ascending=True, \n",
    "                                                                                              na_option='keep',\n",
    "                                                                                              pct=True)\n",
    "\n",
    "# Select columns that end with '_rank'\n",
    "rank_columns = batter_24.filter(regex='_rank$').columns.tolist()\n",
    "\n",
    "# Calculate the mean rank for MLB data\n",
    "batter_24['mean_mlb_rank'] = batter_24[rank_columns].mean(axis=1)\n",
    "\n",
    "# Rank mean_mlb_rank in descending order with percentile-based ranking\n",
    "batter_24['mlb_rank'] = batter_24.groupby('Season')['mean_mlb_rank'].rank(ascending=False, na_option='keep').astype('int64')"
   ]
  },
  {
   "cell_type": "code",
   "execution_count": 84,
   "id": "402e2263-34f7-4d6f-9366-79bd051be2d3",
   "metadata": {
    "scrolled": true
   },
   "outputs": [
    {
     "name": "stdout",
     "output_type": "stream",
     "text": [
      "              Name  Season  K%+_rank  wRC+_rank  BB%+_rank  BB/K_rank  \\\n",
      "77     Todd Helton    2000  0.945148   0.974684   0.890295   0.995781   \n",
      "103   Alex Bregman    2018  0.940000   0.980000   0.928000   0.992000   \n",
      "93   Albert Pujols    2006  0.966805   0.995851   0.917012   0.995851   \n",
      "122    Barry Bonds    1991  0.693694   0.990991   0.990991   0.963964   \n",
      "128    Barry Bonds    1995  0.700935   0.967290   0.990654   0.962617   \n",
      "135  Albert Pujols    2007  0.939850   0.969925   0.943609   0.996241   \n",
      "71   Albert Pujols    2009  0.956522   1.000000   0.976285   1.000000   \n",
      "2      Barry Bonds    2004  0.980392   1.000000   1.000000   1.000000   \n",
      "127     Wade Boggs    1986  0.969432   0.991266   0.978166   0.991266   \n",
      "132     Wade Boggs    1983  0.957082   1.000000   0.935622   1.000000   \n",
      "\n",
      "     OBP+_rank  SLG+_rank  ISO+_rank  WAR_rank  WAR/G_rank  wOBA_rank  \\\n",
      "77    0.987342   0.991561   0.974684  0.991561    0.974684   0.991561   \n",
      "103   0.972000   0.940000   0.900000  0.992000    0.988000   0.976000   \n",
      "93    0.983402   1.000000   0.987552  1.000000    1.000000   0.995851   \n",
      "122   0.986486   0.945946   0.927928  0.995495    0.995495   0.972973   \n",
      "128   0.981308   0.943925   0.962617  0.995327    0.990654   0.962617   \n",
      "135   0.981203   0.958647   0.898496  0.984962    0.973684   0.969925   \n",
      "71    0.996047   1.000000   1.000000  0.996047    0.988142   1.000000   \n",
      "2     1.000000   1.000000   1.000000  1.000000    1.000000   1.000000   \n",
      "127   1.000000   0.842795   0.384279  1.000000    0.995633   0.995633   \n",
      "132   1.000000   0.871245   0.394850  0.995708    0.995708   1.000000   \n",
      "\n",
      "     Def_rank  Off_rank   PA_rank  WPA_rank  WPA/LI_rank  Clutch_rank  \\\n",
      "77   0.759494  0.978903  0.938819  1.000000     0.987342     1.000000   \n",
      "103  0.632000  0.984000  0.976000  0.996000     0.968000     0.972000   \n",
      "93   0.522822  1.000000  0.738589  1.000000     0.991701     1.000000   \n",
      "122  0.900901  0.977477  0.788288  1.000000     1.000000     0.963964   \n",
      "128  0.733645  0.985981  0.939252  0.995327     0.995327     0.953271   \n",
      "135  0.906015  0.962406  0.881579  0.984962     0.966165     0.733083   \n",
      "71   0.264822  1.000000  0.952569  1.000000     1.000000     0.845850   \n",
      "2    0.360784  1.000000  0.686275  1.000000     1.000000     0.917647   \n",
      "127  0.842795  0.991266  0.954148  1.000000     0.991266     0.978166   \n",
      "132  0.785408  0.995708  0.957082  1.000000     0.995708     0.974249   \n",
      "\n",
      "     mean_mlb_rank  mlb_rank  \n",
      "77        0.961366         1  \n",
      "103       0.946000         1  \n",
      "93        0.943465         1  \n",
      "122       0.943412         1  \n",
      "128       0.941297         1  \n",
      "135       0.940672         1  \n",
      "71        0.936018         1  \n",
      "2         0.934069         1  \n",
      "127       0.931632         1  \n",
      "132       0.928648         1  \n"
     ]
    }
   ],
   "source": [
    "add_cols = ['mean_mlb_rank', 'mlb_rank']\n",
    "rank_columns = rank_columns + add_cols\n",
    "\n",
    "rank_columns.insert(0, 'Name')\n",
    "rank_columns.insert(1, 'Season')\n",
    "print(batter.loc[:, rank_columns].sort_values('mean_mlb_rank', ascending=False).head(10))"
   ]
  },
  {
   "cell_type": "code",
   "execution_count": 85,
   "id": "cffad42c-4cd6-47ec-a33e-828724a796b3",
   "metadata": {
    "scrolled": true
   },
   "outputs": [
    {
     "name": "stdout",
     "output_type": "stream",
     "text": [
      "                  Name  Season  K%+_rank  wRC+_rank  BB%+_rank  BB/K_rank  \\\n",
      "144          Juan Soto    2024  0.817427   0.995851   0.995851   0.995851   \n",
      "22      Bobby Witt Jr.    2024  0.850622   0.979253   0.435685   0.738589   \n",
      "792        Ketel Marte    2024  0.709544   0.946058   0.767635   0.858921   \n",
      "176   Francisco Lindor    2024  0.701245   0.887967   0.526971   0.692946   \n",
      "1564      Corey Seager    2024  0.713693   0.912863   0.746888   0.838174   \n",
      "178   Gunnar Henderson    2024  0.431535   0.966805   0.850622   0.742739   \n",
      "1483      Mookie Betts    2024  0.979253   0.958506   0.970954   1.000000   \n",
      "2091  Jurickson Profar    2024  0.858921   0.917012   0.904564   0.987552   \n",
      "21         Aaron Judge    2024  0.348548   1.000000   1.000000   0.983402   \n",
      "1013      José Ramírez    2024  0.970954   0.867220   0.572614   0.946058   \n",
      "\n",
      "      OBP+_rank  SLG+_rank  ISO+_rank  WAR_rank  WAR/G_rank  wOBA_rank  \\\n",
      "144    0.995851   0.987552   0.991701  0.991701    0.991701   0.995851   \n",
      "22     0.966805   0.991701   0.975104  0.995851    0.995851   0.987552   \n",
      "792    0.912863   0.970954   0.970954  0.966805    0.970954   0.954357   \n",
      "176    0.771784   0.879668   0.879668  0.987552    0.983402   0.883817   \n",
      "1564   0.871369   0.921162   0.908714  0.921162    0.929461   0.904564   \n",
      "178    0.929461   0.958506   0.950207  0.983402    0.987552   0.950207   \n",
      "1483   0.975104   0.908714   0.825726  0.933610    0.966805   0.958506   \n",
      "2091   0.958506   0.751037   0.618257  0.896266    0.825726   0.908714   \n",
      "21     1.000000   1.000000   1.000000  1.000000    1.000000   1.000000   \n",
      "1013   0.709544   0.917012   0.921162  0.962656    0.921162   0.850622   \n",
      "\n",
      "      Def_rank  Off_rank   PA_rank  WPA_rank  WPA/LI_rank  Clutch_rank  \\\n",
      "144   0.365145  0.991701  0.983402  1.000000     0.995851     0.224066   \n",
      "22    0.983402  0.987552  0.979253  0.983402     0.987552     0.261411   \n",
      "792   0.721992  0.954357  0.649378  0.950207     0.950207     0.721992   \n",
      "176   0.979253  0.958506  1.000000  0.975104     0.946058     0.887967   \n",
      "1564  0.813278  0.867220  0.688797  0.979253     0.896266     0.983402   \n",
      "178   0.705394  0.983402  0.991701  0.917012     0.962656     0.356846   \n",
      "1483  0.485477  0.946058  0.495851  0.904564     0.937759     0.369295   \n",
      "2091  0.112033  0.933610  0.908714  0.995851     0.933610     1.000000   \n",
      "21    0.124481  1.000000  0.970954  0.991701     1.000000     0.004149   \n",
      "1013  0.618257  0.929461  0.927386  0.925311     0.954357     0.344398   \n",
      "\n",
      "      mean_mlb_rank  mlb_rank  \n",
      "144        0.894969         1  \n",
      "22         0.881224         2  \n",
      "792        0.873574         3  \n",
      "176        0.871369         4  \n",
      "1564       0.868517         5  \n",
      "178        0.854253         6  \n",
      "1483       0.851011         7  \n",
      "2091       0.844398         8  \n",
      "21         0.838952         9  \n",
      "1013       0.833636        10  \n"
     ]
    }
   ],
   "source": [
    "print(batter_24.loc[:, rank_columns].sort_values('mean_mlb_rank', ascending=False).head(10))"
   ]
  },
  {
   "cell_type": "code",
   "execution_count": 86,
   "id": "42a5af62-44b3-40b7-8483-2ec158c75bdd",
   "metadata": {
    "scrolled": true
   },
   "outputs": [
    {
     "name": "stdout",
     "output_type": "stream",
     "text": [
      "     Season             Name Team    G   PA  HR    R  RBI  BB   SO  ...  \\\n",
      "68     1981       Tim Raines  WSN   88  363   5   61   37  45   31  ...   \n",
      "14     1984      Alvin Davis  SEA  152  678  27   80  116  97   78  ...   \n",
      "80     1976    Butch Wynegar  MIN  149  622  10   58   69  79   63  ...   \n",
      "0      2012       Mike Trout  LAA  139  639  30  129   83  67  139  ...   \n",
      "29     2010    Jason Heyward  ATL  142  623  18   83   72  91  128  ...   \n",
      "137    1998      Todd Helton  COL  152  595  25   78   97  53   54  ...   \n",
      "11     2022  Adley Rutschman  BAL  113  470  13   70   42  65   86  ...   \n",
      "7      2015      Kris Bryant  CHC  151  650  26   87   99  77  199  ...   \n",
      "3      2001    Albert Pujols  STL  161  676  37  112  130  69   93  ...   \n",
      "4      1975        Fred Lynn  BOS  145  605  21  103  105  62   90  ...   \n",
      "\n",
      "     Off_rank   PA_rank  WPA_rank  WPA/LI_rank  Clutch_rank  mean_rookie_rank  \\\n",
      "68   1.000000  0.600000  1.000000     1.000000     0.800000          0.925000   \n",
      "14   1.000000  0.888889  1.000000     1.000000     0.888889          0.923611   \n",
      "80   1.000000  1.000000  1.000000     1.000000     1.000000          0.921875   \n",
      "0    1.000000  1.000000  1.000000     1.000000     0.470588          0.904412   \n",
      "29   1.000000  0.916667  1.000000     1.000000     0.958333          0.898438   \n",
      "137  0.909091  0.818182  0.909091     0.909091     0.727273          0.897727   \n",
      "11   0.875000  0.708333  0.958333     0.958333     0.500000          0.888021   \n",
      "7    1.000000  1.000000  1.000000     1.000000     1.000000          0.883621   \n",
      "3    1.000000  0.800000  1.000000     1.000000     0.200000          0.875000   \n",
      "4    1.000000  0.727273  1.000000     1.000000     0.363636          0.875000   \n",
      "\n",
      "     rookie_rank     pos  mean_mlb_rank  mlb_rank  \n",
      "68             1  batter       0.777597        10  \n",
      "14             1  batter       0.889529         2  \n",
      "80             1  batter       0.690439        35  \n",
      "0              1  batter       0.848724         7  \n",
      "29             1  batter       0.798037        16  \n",
      "137            1  batter       0.731096        37  \n",
      "11             1  batter       0.834839        10  \n",
      "7              1  batter       0.820918        15  \n",
      "3              1  batter       0.819360        12  \n",
      "4              1  batter       0.816483         9  \n",
      "\n",
      "[10 rows x 56 columns]\n"
     ]
    }
   ],
   "source": [
    "rookie_batters = pd.merge(rookie_batters, batter[['Season', 'MLBAMID', 'mean_mlb_rank', 'mlb_rank']],\n",
    "                           on = ['Season', 'MLBAMID'],\n",
    "                           how='left'\n",
    "                          ).sort_values('mean_rookie_rank', ascending=False)\n",
    "rookie_batters_24 = pd.merge(rookie_batters_24, batter_24[['Season', 'MLBAMID', 'mean_mlb_rank', 'mlb_rank']],\n",
    "                           on = ['Season', 'MLBAMID'],\n",
    "                           how='left'\n",
    "                          ).sort_values('mean_rookie_rank', ascending=False)\n",
    "\n",
    "rookie_batters = rookie_batters.drop_duplicates(subset=['Season', 'MLBAMID'])\n",
    "rookie_batters_24 = rookie_batters_24.drop_duplicates(subset=['Season', 'MLBAMID'])\n",
    "\n",
    "print(rookie_batters.head(10))"
   ]
  },
  {
   "cell_type": "code",
   "execution_count": 87,
   "id": "a2135f32-16f1-4cf7-843f-7910de2d2942",
   "metadata": {
    "scrolled": true
   },
   "outputs": [
    {
     "name": "stdout",
     "output_type": "stream",
     "text": [
      "    Season             Name Team    G   PA  HR   R  RBI  BB   SO  ...  \\\n",
      "10    2024  Spencer Horwitz  TOR   83  320  12  42   35  34   56  ...   \n",
      "1     2024     Austin Wells  NYY  102  362  13  39   50  41   75  ...   \n",
      "0     2024  Jackson Merrill  SDP  142  538  23  72   83  25   96  ...   \n",
      "3     2024  Jackson Chourio  MIL  131  501  19  70   69  35  104  ...   \n",
      "4     2024     Wilyer Abreu  BOS  116  392  15  55   55  34  113  ...   \n",
      "5     2024       Joey Ortiz  MIL  125  448  10  49   49  54   88  ...   \n",
      "9     2024    Michael Busch  CHC  137  516  17  68   56  58  149  ...   \n",
      "2     2024    Colton Cowser  BAL  139  507  20  70   62  49  153  ...   \n",
      "6     2024       Masyn Winn  STL  135  567  12  70   49  38  101  ...   \n",
      "14    2024   Wyatt Langford  TEX  118  487  10  58   63  41  102  ...   \n",
      "\n",
      "    Off_rank   PA_rank  WPA_rank  WPA/LI_rank  Clutch_rank  mean_rookie_rank  \\\n",
      "10  0.809524  0.095238  0.952381     0.952381     1.000000          0.791667   \n",
      "1   0.714286  0.190476  0.809524     0.761905     0.809524          0.785714   \n",
      "0   1.000000  0.904762  1.000000     1.000000     0.714286          0.779762   \n",
      "3   0.952381  0.666667  0.904762     0.904762     0.761905          0.732143   \n",
      "4   0.904762  0.333333  0.714286     0.809524     0.190476          0.684524   \n",
      "5   0.666667  0.523810  0.285714     0.571429     0.095238          0.654762   \n",
      "9   0.761905  0.809524  0.857143     0.857143     0.666667          0.651786   \n",
      "2   0.857143  0.714286  0.047619     0.666667     0.047619          0.616071   \n",
      "6   0.619048  1.000000  0.380952     0.380952     0.428571          0.586310   \n",
      "14  0.523810  0.619048  0.761905     0.428571     0.857143          0.511905   \n",
      "\n",
      "    rookie_rank     pos  mean_mlb_rank  mlb_rank  \n",
      "10            1  batter       0.742609        29  \n",
      "1             2  batter       0.715897        37  \n",
      "0             3  batter       0.709544        38  \n",
      "3             4  batter       0.671810        48  \n",
      "4             5  batter       0.632391        65  \n",
      "5             6  batter       0.613849        77  \n",
      "9             7  batter       0.616183        76  \n",
      "2             8  batter       0.565612        99  \n",
      "6             9  batter       0.540327       107  \n",
      "14           10  batter       0.485996       125  \n",
      "\n",
      "[10 rows x 56 columns]\n"
     ]
    }
   ],
   "source": [
    "print(rookie_batters_24.head(10))"
   ]
  },
  {
   "cell_type": "code",
   "execution_count": 88,
   "id": "10ea32f5-e9f4-4053-8b29-316cff7e12ed",
   "metadata": {},
   "outputs": [
    {
     "name": "stdout",
     "output_type": "stream",
     "text": [
      "There are 748 Batters in the data\n"
     ]
    }
   ],
   "source": [
    "print(f\"There are {rookie_batters.shape[0]} Batters in the data\")"
   ]
  },
  {
   "cell_type": "markdown",
   "id": "481e8cf3-8027-4637-af11-ae8370dcc1a8",
   "metadata": {},
   "source": [
    "## Rookie of the Year Voting"
   ]
  },
  {
   "cell_type": "code",
   "execution_count": 89,
   "id": "c3896768-f19e-494d-b25d-c5478b80d189",
   "metadata": {},
   "outputs": [
    {
     "data": {
      "text/html": [
       "<div>\n",
       "<style scoped>\n",
       "    .dataframe tbody tr th:only-of-type {\n",
       "        vertical-align: middle;\n",
       "    }\n",
       "\n",
       "    .dataframe tbody tr th {\n",
       "        vertical-align: top;\n",
       "    }\n",
       "\n",
       "    .dataframe thead th {\n",
       "        text-align: right;\n",
       "    }\n",
       "</style>\n",
       "<table border=\"1\" class=\"dataframe\">\n",
       "  <thead>\n",
       "    <tr style=\"text-align: right;\">\n",
       "      <th></th>\n",
       "      <th>awardID</th>\n",
       "      <th>yearID</th>\n",
       "      <th>lgID</th>\n",
       "      <th>playerID</th>\n",
       "      <th>pointsWon</th>\n",
       "      <th>pointsMax</th>\n",
       "      <th>votesFirst</th>\n",
       "      <th>unanimous</th>\n",
       "      <th>rookie_of_the_year</th>\n",
       "    </tr>\n",
       "  </thead>\n",
       "  <tbody>\n",
       "    <tr>\n",
       "      <th>0</th>\n",
       "      <td>Rookie of the Year</td>\n",
       "      <td>1949</td>\n",
       "      <td>NL</td>\n",
       "      <td>newcodo01</td>\n",
       "      <td>21</td>\n",
       "      <td>24</td>\n",
       "      <td>21</td>\n",
       "      <td>0</td>\n",
       "      <td>1</td>\n",
       "    </tr>\n",
       "    <tr>\n",
       "      <th>1</th>\n",
       "      <td>Rookie of the Year</td>\n",
       "      <td>1949</td>\n",
       "      <td>AL</td>\n",
       "      <td>sievero01</td>\n",
       "      <td>10</td>\n",
       "      <td>24</td>\n",
       "      <td>10</td>\n",
       "      <td>0</td>\n",
       "      <td>1</td>\n",
       "    </tr>\n",
       "    <tr>\n",
       "      <th>2</th>\n",
       "      <td>Rookie of the Year</td>\n",
       "      <td>1950</td>\n",
       "      <td>AL</td>\n",
       "      <td>dropowa01</td>\n",
       "      <td>15</td>\n",
       "      <td>24</td>\n",
       "      <td>15</td>\n",
       "      <td>0</td>\n",
       "      <td>1</td>\n",
       "    </tr>\n",
       "    <tr>\n",
       "      <th>3</th>\n",
       "      <td>Rookie of the Year</td>\n",
       "      <td>1950</td>\n",
       "      <td>NL</td>\n",
       "      <td>jethrsa01</td>\n",
       "      <td>11</td>\n",
       "      <td>24</td>\n",
       "      <td>11</td>\n",
       "      <td>0</td>\n",
       "      <td>1</td>\n",
       "    </tr>\n",
       "    <tr>\n",
       "      <th>4</th>\n",
       "      <td>Rookie of the Year</td>\n",
       "      <td>1951</td>\n",
       "      <td>NL</td>\n",
       "      <td>mayswi01</td>\n",
       "      <td>18</td>\n",
       "      <td>24</td>\n",
       "      <td>18</td>\n",
       "      <td>0</td>\n",
       "      <td>1</td>\n",
       "    </tr>\n",
       "    <tr>\n",
       "      <th>5</th>\n",
       "      <td>Rookie of the Year</td>\n",
       "      <td>1951</td>\n",
       "      <td>AL</td>\n",
       "      <td>mcdougi01</td>\n",
       "      <td>13</td>\n",
       "      <td>24</td>\n",
       "      <td>13</td>\n",
       "      <td>0</td>\n",
       "      <td>1</td>\n",
       "    </tr>\n",
       "    <tr>\n",
       "      <th>6</th>\n",
       "      <td>Rookie of the Year</td>\n",
       "      <td>1952</td>\n",
       "      <td>NL</td>\n",
       "      <td>blackjo02</td>\n",
       "      <td>19</td>\n",
       "      <td>24</td>\n",
       "      <td>19</td>\n",
       "      <td>0</td>\n",
       "      <td>1</td>\n",
       "    </tr>\n",
       "    <tr>\n",
       "      <th>7</th>\n",
       "      <td>Rookie of the Year</td>\n",
       "      <td>1952</td>\n",
       "      <td>AL</td>\n",
       "      <td>byrdha01</td>\n",
       "      <td>9</td>\n",
       "      <td>24</td>\n",
       "      <td>9</td>\n",
       "      <td>0</td>\n",
       "      <td>1</td>\n",
       "    </tr>\n",
       "    <tr>\n",
       "      <th>8</th>\n",
       "      <td>Rookie of the Year</td>\n",
       "      <td>1953</td>\n",
       "      <td>AL</td>\n",
       "      <td>kuennha01</td>\n",
       "      <td>23</td>\n",
       "      <td>24</td>\n",
       "      <td>23</td>\n",
       "      <td>0</td>\n",
       "      <td>1</td>\n",
       "    </tr>\n",
       "    <tr>\n",
       "      <th>9</th>\n",
       "      <td>Rookie of the Year</td>\n",
       "      <td>1953</td>\n",
       "      <td>NL</td>\n",
       "      <td>gilliji01</td>\n",
       "      <td>11</td>\n",
       "      <td>24</td>\n",
       "      <td>11</td>\n",
       "      <td>0</td>\n",
       "      <td>1</td>\n",
       "    </tr>\n",
       "  </tbody>\n",
       "</table>\n",
       "</div>"
      ],
      "text/plain": [
       "              awardID  yearID lgID   playerID  pointsWon  pointsMax  \\\n",
       "0  Rookie of the Year    1949   NL  newcodo01         21         24   \n",
       "1  Rookie of the Year    1949   AL  sievero01         10         24   \n",
       "2  Rookie of the Year    1950   AL  dropowa01         15         24   \n",
       "3  Rookie of the Year    1950   NL  jethrsa01         11         24   \n",
       "4  Rookie of the Year    1951   NL   mayswi01         18         24   \n",
       "5  Rookie of the Year    1951   AL  mcdougi01         13         24   \n",
       "6  Rookie of the Year    1952   NL  blackjo02         19         24   \n",
       "7  Rookie of the Year    1952   AL   byrdha01          9         24   \n",
       "8  Rookie of the Year    1953   AL  kuennha01         23         24   \n",
       "9  Rookie of the Year    1953   NL  gilliji01         11         24   \n",
       "\n",
       "   votesFirst  unanimous  rookie_of_the_year  \n",
       "0          21          0                   1  \n",
       "1          10          0                   1  \n",
       "2          15          0                   1  \n",
       "3          11          0                   1  \n",
       "4          18          0                   1  \n",
       "5          13          0                   1  \n",
       "6          19          0                   1  \n",
       "7           9          0                   1  \n",
       "8          23          0                   1  \n",
       "9          11          0                   1  "
      ]
     },
     "execution_count": 89,
     "metadata": {},
     "output_type": "execute_result"
    }
   ],
   "source": [
    "voting = pd.read_csv('../data/awards/roy_voting.csv')\n",
    "voting.head(10)"
   ]
  },
  {
   "cell_type": "code",
   "execution_count": 90,
   "id": "727b432c-0740-46aa-85c1-cedc6f5da6cc",
   "metadata": {},
   "outputs": [
    {
     "name": "stdout",
     "output_type": "stream",
     "text": [
      "Columns for Rookie of the Year Voting: \n",
      "\n",
      "awardID  playerID   votesFirst        \n",
      "yearID   pointsWon  unanimous         \n",
      "lgID     pointsMax  rookie_of_the_year\n"
     ]
    }
   ],
   "source": [
    "print(\"Columns for Rookie of the Year Voting: \\n\")\n",
    "cli.columnize(voting.columns.tolist(), displaywidth=50)"
   ]
  },
  {
   "cell_type": "markdown",
   "id": "d1e77a88-6b41-447d-b669-e62fe45c8f52",
   "metadata": {},
   "source": [
    "## Player IDs"
   ]
  },
  {
   "cell_type": "code",
   "execution_count": 91,
   "id": "72f8dcd3-dff0-4b69-835b-e2fce438d5ad",
   "metadata": {},
   "outputs": [],
   "source": [
    "player_ids = pd.read_csv('../data/cleaned_player_ids.csv', low_memory=False,\n",
    "                        usecols=['key_mlbam', 'key_bbref', 'key_fangraphs', 'key_retro'])"
   ]
  },
  {
   "cell_type": "code",
   "execution_count": 92,
   "id": "225bff78-a3b6-45b6-805f-d3c5e59d7909",
   "metadata": {},
   "outputs": [
    {
     "name": "stdout",
     "output_type": "stream",
     "text": [
      "Columns in the Player ID's Data: \n",
      "\n",
      "key_mlbam  key_retro  key_bbref  key_fangraphs\n"
     ]
    }
   ],
   "source": [
    "print(\"Columns in the Player ID's Data: \\n\")\n",
    "cli.columnize(player_ids.columns.tolist(), displaywidth=50)"
   ]
  },
  {
   "cell_type": "code",
   "execution_count": 93,
   "id": "d2a571d1-e88b-445f-9525-04872d9a2cfb",
   "metadata": {},
   "outputs": [],
   "source": [
    "def add_ids(df, ids = player_ids):\n",
    "    df = pd.merge(df, ids[['key_mlbam', 'key_bbref']].drop_duplicates(subset=['key_mlbam']),\n",
    "                    left_on = 'MLBAMID', right_on = 'key_mlbam',\n",
    "                    how = 'inner'\n",
    "                   ).drop(columns='key_mlbam')\n",
    "    \n",
    "    return df\n",
    "\n",
    "rookie_relief = add_ids(df=rookie_relief)\n",
    "rookie_relief_24 = add_ids(df=rookie_relief_24)\n",
    "\n",
    "rookie_starter = add_ids(df=rookie_starter)\n",
    "rookie_starter_24 = add_ids(df=rookie_starter_24)"
   ]
  },
  {
   "cell_type": "code",
   "execution_count": 94,
   "id": "7617453b-9001-4375-ab2e-58c2e9563938",
   "metadata": {},
   "outputs": [],
   "source": [
    "rookie_batters = add_ids(df=rookie_batters)"
   ]
  },
  {
   "cell_type": "markdown",
   "id": "7164666e-f2e3-43d7-9372-b80fd3b77613",
   "metadata": {},
   "source": [
    "## Add Voting data to `pitchers` and `batters`"
   ]
  },
  {
   "cell_type": "code",
   "execution_count": 95,
   "id": "0853e6a4-ad20-4e1e-a562-e658f57d08dd",
   "metadata": {},
   "outputs": [
    {
     "name": "stdout",
     "output_type": "stream",
     "text": [
      "   Season               Name Team   G     IP   SO       ERA       ERA-  \\\n",
      "0    2014    Dellin Betances  NYY  70   90.0  135  1.400000  36.423515   \n",
      "1    2006  Jonathan Papelbon  BOS  59   68.1   75  0.921952  19.523037   \n",
      "2    1995      Troy Percival  LAA  62   74.0   94  1.945947  40.697834   \n",
      "3    2006      Takashi Saito  LAD  72   78.1  107  2.068086  46.986878   \n",
      "4    1986      Mark Eichhorn  TOR  69  157.0  166  1.719745  40.860984   \n",
      "5    2022        Jhoan Duran  MIN  57   67.2   89  1.862069  48.296279   \n",
      "6    1980       Doug Corbett  MIN  73  136.1   89  1.980440  47.446845   \n",
      "7    2011       Greg Holland  KCR  46   60.0   74  1.800000  43.297549   \n",
      "8    2007       Joakim Soria  KCR  62   69.0   75  2.478262  54.023029   \n",
      "9    2009      Andrew Bailey  OAK  68   83.1   91  1.836000  42.511891   \n",
      "\n",
      "        FIP       FIP-  ...  key_bbref             awardID  yearID  lgID  \\\n",
      "0  1.643363  42.231888  ...  betande01  Rookie of the Year  2014.0    AL   \n",
      "1  2.136991  48.966961  ...  papeljo01  Rookie of the Year  2006.0    AL   \n",
      "2  2.711405  56.858281  ...  percitr01  Rookie of the Year  1995.0    AL   \n",
      "3  1.870152  41.140652  ...  saitota01  Rookie of the Year  2006.0    NL   \n",
      "4  2.312413  56.211928  ...  eichhma01  Rookie of the Year  1986.0    AL   \n",
      "5  2.521298  63.612810  ...  duranjh01  Rookie of the Year  2022.0    AL   \n",
      "6  3.060481  75.651540  ...  corbedo01  Rookie of the Year  1980.0    AL   \n",
      "7  2.208720  55.388299  ...  hollagr01  Rookie of the Year  2011.0    AL   \n",
      "8  2.500474  57.243839  ...  soriajo01  Rookie of the Year  2007.0    AL   \n",
      "9  2.557084  59.424242  ...  bailean01  Rookie of the Year  2009.0    AL   \n",
      "\n",
      "   pointsWon  pointsMax  votesFirst  unanimous  vote_share  vote_getter  \n",
      "0       27.0      150.0         0.0        0.0    0.180000            1  \n",
      "1       63.0      140.0         0.0        0.0    0.450000            1  \n",
      "2       13.0      140.0         1.0        0.0    0.092857            1  \n",
      "3        2.0      160.0         0.0        0.0    0.012500            1  \n",
      "4       23.0      140.0         0.0        0.0    0.164286            1  \n",
      "5        0.0        0.0         0.0        0.0    0.000000            0  \n",
      "6       38.0      140.0         3.0        0.0    0.271429            1  \n",
      "7        0.0        0.0         0.0        0.0    0.000000            0  \n",
      "8        1.0      140.0         0.0        0.0    0.007143            1  \n",
      "9       88.0      160.0        13.0        0.0    0.550000            1  \n",
      "\n",
      "[10 rows x 67 columns]\n"
     ]
    }
   ],
   "source": [
    "def add_votes(df, votes=voting):\n",
    "    df = pd.merge(df, votes.drop(columns='rookie_of_the_year').drop_duplicates(subset=['yearID', 'playerID'], keep='first'),\n",
    "                  left_on='key_bbref', right_on='playerID', \n",
    "                  how='left').drop(columns='playerID').drop_duplicates(subset='MLBAMID')\n",
    "\n",
    "    df['awardID'] = 'Rookie of the Year'\n",
    "    df['yearID'] = df['yearID'].fillna(df['Season'])\n",
    "    df['lgID'] = df['lgID'].fillna(df['league'])\n",
    "    df['vote_share'] = df['pointsWon'] / df['pointsMax']\n",
    "\n",
    "    for col in ['pointsWon', 'pointsMax', 'votesFirst', 'vote_share', 'unanimous']:\n",
    "        df[col] = df[col].fillna(0)\n",
    "\n",
    "    df['vote_getter'] = np.where(df['pointsMax'] > 0, 1, 0)\n",
    "\n",
    "    return df\n",
    "\n",
    "rookie_relief = add_votes(df = rookie_relief)\n",
    "rookie_relief_24 = add_votes(df = rookie_relief_24)\n",
    "rookie_starter = add_votes(df = rookie_starter)\n",
    "rookie_starter_24 = add_votes(df = rookie_starter_24)\n",
    "\n",
    "print(rookie_relief.head(10))"
   ]
  },
  {
   "cell_type": "code",
   "execution_count": 96,
   "id": "a7faffad-0ec4-4990-b8d0-b238c25821c2",
   "metadata": {},
   "outputs": [
    {
     "name": "stdout",
     "output_type": "stream",
     "text": [
      "   Season             Name Team    G   PA  HR    R  RBI  BB   SO  ...  \\\n",
      "0    1981       Tim Raines  WSN   88  363   5   61   37  45   31  ...   \n",
      "1    1984      Alvin Davis  SEA  152  678  27   80  116  97   78  ...   \n",
      "2    1976    Butch Wynegar  MIN  149  622  10   58   69  79   63  ...   \n",
      "3    2012       Mike Trout  LAA  139  639  30  129   83  67  139  ...   \n",
      "4    2010    Jason Heyward  ATL  142  623  18   83   72  91  128  ...   \n",
      "5    1998      Todd Helton  COL  152  595  25   78   97  53   54  ...   \n",
      "6    2022  Adley Rutschman  BAL  113  470  13   70   42  65   86  ...   \n",
      "7    2015      Kris Bryant  CHC  151  650  26   87   99  77  199  ...   \n",
      "8    2001    Albert Pujols  STL  161  676  37  112  130  69   93  ...   \n",
      "9    1975        Fred Lynn  BOS  145  605  21  103  105  62   90  ...   \n",
      "\n",
      "   key_bbref             awardID  yearID  lgID  pointsWon  pointsMax  \\\n",
      "0  raineti01  Rookie of the Year  1981.0    NL       85.0      120.0   \n",
      "1  davisal01  Rookie of the Year  1984.0    AL      134.0      140.0   \n",
      "2  wynegbu01  Rookie of the Year  1976.0    AL        2.0       24.0   \n",
      "3  troutmi01  Rookie of the Year  2012.0    AL      140.0      140.0   \n",
      "4  heywaja01  Rookie of the Year  2010.0    NL      107.0      160.0   \n",
      "5  heltoto01  Rookie of the Year  1998.0    NL      119.0      160.0   \n",
      "6  rutscad01  Rookie of the Year  2022.0    AL       68.0      150.0   \n",
      "7  bryankr01  Rookie of the Year  2015.0    NL      150.0      150.0   \n",
      "8  pujolal01  Rookie of the Year  2001.0    NL      160.0      160.0   \n",
      "9   lynnfr01  Rookie of the Year  1975.0    AL       23.0       24.0   \n",
      "\n",
      "   votesFirst  unanimous  vote_share  vote_getter  \n",
      "0         6.0        0.0    0.708333            1  \n",
      "1        25.0        0.0    0.957143            1  \n",
      "2         2.0        0.0    0.083333            1  \n",
      "3        28.0        1.0    1.000000            1  \n",
      "4         9.0        0.0    0.668750            1  \n",
      "5        15.0        0.0    0.743750            1  \n",
      "6         1.0        0.0    0.453333            1  \n",
      "7        30.0        1.0    1.000000            1  \n",
      "8        32.0        1.0    1.000000            1  \n",
      "9        23.0        0.0    0.958333            1  \n",
      "\n",
      "[10 rows x 66 columns]\n"
     ]
    }
   ],
   "source": [
    "rookie_batters = rookie_batters.dropna(subset='league')\n",
    "rookie_batters = add_votes(df = rookie_batters)\n",
    "print(rookie_batters.head(10))"
   ]
  },
  {
   "cell_type": "code",
   "execution_count": 97,
   "id": "cdaa2607-07c4-48e3-afcd-ad8bf9a61e8f",
   "metadata": {},
   "outputs": [
    {
     "data": {
      "text/plain": [
       "rookie_of_the_year\n",
       "0    698\n",
       "1      9\n",
       "Name: count, dtype: int64"
      ]
     },
     "execution_count": 97,
     "metadata": {},
     "output_type": "execute_result"
    }
   ],
   "source": [
    "rookie_relief['rookie_of_the_year'].value_counts()"
   ]
  },
  {
   "cell_type": "code",
   "execution_count": 98,
   "id": "2eb398ae-e19f-48a5-b8e1-f78532d83edf",
   "metadata": {},
   "outputs": [
    {
     "data": {
      "text/plain": [
       "rookie_of_the_year\n",
       "0    447\n",
       "1     15\n",
       "Name: count, dtype: int64"
      ]
     },
     "execution_count": 98,
     "metadata": {},
     "output_type": "execute_result"
    }
   ],
   "source": [
    "rookie_starter['rookie_of_the_year'].value_counts()"
   ]
  },
  {
   "cell_type": "code",
   "execution_count": 99,
   "id": "038069e5-ac78-49b0-9305-dc855dddf387",
   "metadata": {},
   "outputs": [
    {
     "data": {
      "text/plain": [
       "rookie_of_the_year\n",
       "0    710\n",
       "1     38\n",
       "Name: count, dtype: int64"
      ]
     },
     "execution_count": 99,
     "metadata": {},
     "output_type": "execute_result"
    }
   ],
   "source": [
    "rookie_batters['rookie_of_the_year'].value_counts()"
   ]
  },
  {
   "cell_type": "code",
   "execution_count": 100,
   "id": "1ff2dbd7-7f77-4506-9a9d-721b591c7f5d",
   "metadata": {},
   "outputs": [],
   "source": [
    "def calc_WPA_rate(data, per_game=False):\n",
    "    if per_game:\n",
    "        data['WPA/G'] = data['WPA'] / data['G']\n",
    "    else:\n",
    "        data['WPA/IP'] = data['WPA'] / data['IP']\n",
    "\n",
    "    return data\n",
    "\n",
    "rookie_relief = calc_WPA_rate(data = rookie_relief, per_game=False)\n",
    "rookie_starter = calc_WPA_rate(data = rookie_starter, per_game=False)\n",
    "rookie_batters = calc_WPA_rate(data = rookie_batters, per_game=True)\n",
    "\n",
    "rookie_relief_24 = calc_WPA_rate(data = rookie_relief_24, per_game=False)\n",
    "rookie_starter_24 = calc_WPA_rate(data = rookie_starter_24, per_game=False)\n",
    "rookie_batters_24 = calc_WPA_rate(data = rookie_batters_24, per_game=True)"
   ]
  },
  {
   "cell_type": "code",
   "execution_count": 101,
   "id": "3e480d92-e0a8-4883-b201-ccdc5de09fcf",
   "metadata": {},
   "outputs": [],
   "source": [
    "rookie_relief.to_csv('../data/cleaned/rookie_relief.csv', index=False)\n",
    "rookie_starter.to_csv('../data/cleaned/rookie_starter.csv', index=False)\n",
    "rookie_batters.to_csv('../data/cleaned/rookie_batters.csv', index=False)\n",
    "\n",
    "rookie_relief_24.to_csv('../data/cleaned/rookie_relief_24.csv', index=False)\n",
    "rookie_starter_24.to_csv('../data/cleaned/rookie_starter_24.csv', index=False)\n",
    "rookie_batters_24.to_csv('../data/cleaned/rookie_batters_24.csv', index=False)"
   ]
  },
  {
   "cell_type": "code",
   "execution_count": 102,
   "id": "038117b1-885f-4125-ac41-ba00ddaad8e5",
   "metadata": {},
   "outputs": [
    {
     "name": "stdout",
     "output_type": "stream",
     "text": [
      "Total processing time = 0.97 seconds\n"
     ]
    }
   ],
   "source": [
    "end_time = time.time()\n",
    "print(f\"Total processing time = {(end_time - start_time):.2f} seconds\")"
   ]
  }
 ],
 "metadata": {
  "kernelspec": {
   "display_name": "Python 3 (ipykernel)",
   "language": "python",
   "name": "python3"
  },
  "language_info": {
   "codemirror_mode": {
    "name": "ipython",
    "version": 3
   },
   "file_extension": ".py",
   "mimetype": "text/x-python",
   "name": "python",
   "nbconvert_exporter": "python",
   "pygments_lexer": "ipython3",
   "version": "3.12.4"
  }
 },
 "nbformat": 4,
 "nbformat_minor": 5
}
